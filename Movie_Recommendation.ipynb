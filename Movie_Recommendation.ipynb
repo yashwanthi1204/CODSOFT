{
  "nbformat": 4,
  "nbformat_minor": 0,
  "metadata": {
    "colab": {
      "provenance": [],
      "authorship_tag": "ABX9TyN7nEDGzJpiOIsZz+gTv5ZO",
      "include_colab_link": true
    },
    "kernelspec": {
      "name": "python3",
      "display_name": "Python 3"
    },
    "language_info": {
      "name": "python"
    }
  },
  "cells": [
    {
      "cell_type": "markdown",
      "metadata": {
        "id": "view-in-github",
        "colab_type": "text"
      },
      "source": [
        "<a href=\"https://colab.research.google.com/github/yashwanthi1204/PROJECTS/blob/main/Movie_Recommendation.ipynb\" target=\"_parent\"><img src=\"https://colab.research.google.com/assets/colab-badge.svg\" alt=\"Open In Colab\"/></a>"
      ]
    },
    {
      "cell_type": "markdown",
      "source": [
        "# **Movie Recommendation System**"
      ],
      "metadata": {
        "id": "ki8Eq-LU-_Wk"
      }
    },
    {
      "cell_type": "markdown",
      "source": [
        "**Recommender System** is a system that seeks to predict or filter preferences according to the user's choices. Recommender systems are utilized in a variety of areas including movies, music, news, books, research articles, search queries, social tags, and products in general.Recommender systems produce a list of recommendations in any of the two ways-\n",
        "\n",
        "**Collaborative filtering**: Collaborative filtering approaches build a model from the user's past behavior (i.e. items purchased or searched by the user) as well as similar decisions made by other users. This model is then used to predict items (or ratings for items) that users may have an interest in.\n",
        "\n",
        "**Content-based filtering**: Content-based filtering approaches uses a series of discrete characteristics of an item in order to recommend additional items with similar properties.Content-based filtering methods are totally based on a description of the item and a profile of the user's preferences. It recommends items based on the user's past preferences. Let's develop a basic recommendation system using Python and Pandas.\n",
        "\n",
        "Let's develop a basic recommendation system by suggesting items that are most similar to a particular item, in this case, movies. It just tells what movies/items are most similar to the user's movie choice."
      ],
      "metadata": {
        "id": "7QhfARSn-_Lk"
      }
    },
    {
      "cell_type": "markdown",
      "source": [
        "# Import Library"
      ],
      "metadata": {
        "id": "USjHxfq3-_IP"
      }
    },
    {
      "cell_type": "code",
      "execution_count": null,
      "metadata": {
        "id": "HirpAv5ls7Zu"
      },
      "outputs": [],
      "source": [
        "import pandas as pd"
      ]
    },
    {
      "cell_type": "code",
      "source": [
        "import numpy as np"
      ],
      "metadata": {
        "id": "SrWsKwg1trV-"
      },
      "execution_count": null,
      "outputs": []
    },
    {
      "cell_type": "markdown",
      "source": [
        "# Import Dataset"
      ],
      "metadata": {
        "id": "HN9gY1yWuyUu"
      }
    },
    {
      "cell_type": "code",
      "source": [
        "df = pd.read_csv(r'https://raw.githubusercontent.com/YBI-Foundation/Dataset/main/Movies%20Recommendation.csv')"
      ],
      "metadata": {
        "id": "3qg8--SQuL_a"
      },
      "execution_count": null,
      "outputs": []
    },
    {
      "cell_type": "code",
      "source": [
        "df.head()\n",
        "\n"
      ],
      "metadata": {
        "id": "VNXeHw4YuMMf",
        "colab": {
          "base_uri": "https://localhost:8080/",
          "height": 672
        },
        "outputId": "6072eeb1-46ab-42c5-ff22-0f74d8d09ae6"
      },
      "execution_count": null,
      "outputs": [
        {
          "output_type": "execute_result",
          "data": {
            "text/plain": [
              "   Movie_ID      Movie_Title                       Movie_Genre Movie_Language  \\\n",
              "0         1       Four Rooms                      Crime Comedy             en   \n",
              "1         2        Star Wars  Adventure Action Science Fiction             en   \n",
              "2         3     Finding Nemo                  Animation Family             en   \n",
              "3         4     Forrest Gump              Comedy Drama Romance             en   \n",
              "4         5  American Beauty                             Drama             en   \n",
              "\n",
              "   Movie_Budget  Movie_Popularity Movie_Release_Date  Movie_Revenue  \\\n",
              "0       4000000         22.876230         09-12-1995        4300000   \n",
              "1      11000000        126.393695         25-05-1977      775398007   \n",
              "2      94000000         85.688789         30-05-2003      940335536   \n",
              "3      55000000        138.133331         06-07-1994      677945399   \n",
              "4      15000000         80.878605         15-09-1999      356296601   \n",
              "\n",
              "   Movie_Runtime  Movie_Vote  ...  \\\n",
              "0           98.0         6.5  ...   \n",
              "1          121.0         8.1  ...   \n",
              "2          100.0         7.6  ...   \n",
              "3          142.0         8.2  ...   \n",
              "4          122.0         7.9  ...   \n",
              "\n",
              "                                      Movie_Homepage  \\\n",
              "0                                                NaN   \n",
              "1  http://www.starwars.com/films/star-wars-episod...   \n",
              "2              http://movies.disney.com/finding-nemo   \n",
              "3                                                NaN   \n",
              "4                      http://www.dreamworks.com/ab/   \n",
              "\n",
              "                                      Movie_Keywords  \\\n",
              "0          hotel new year's eve witch bet hotel room   \n",
              "1        android galaxy hermit death star lightsaber   \n",
              "2  father son relationship harbor underwater fish...   \n",
              "3  vietnam veteran hippie mentally disabled runni...   \n",
              "4  male nudity female nudity adultery midlife cri...   \n",
              "\n",
              "                                      Movie_Overview  \\\n",
              "0  It's Ted the Bellhop's first night on the job....   \n",
              "1  Princess Leia is captured and held hostage by ...   \n",
              "2  Nemo, an adventurous young clownfish, is unexp...   \n",
              "3  A man with a low IQ has accomplished great thi...   \n",
              "4  Lester Burnham, a depressed suburban father in...   \n",
              "\n",
              "                              Movie_Production_House  \\\n",
              "0  [{\"name\": \"Miramax Films\", \"id\": 14}, {\"name\":...   \n",
              "1  [{\"name\": \"Lucasfilm\", \"id\": 1}, {\"name\": \"Twe...   \n",
              "2     [{\"name\": \"Pixar Animation Studios\", \"id\": 3}]   \n",
              "3          [{\"name\": \"Paramount Pictures\", \"id\": 4}]   \n",
              "4  [{\"name\": \"DreamWorks SKG\", \"id\": 27}, {\"name\"...   \n",
              "\n",
              "                            Movie_Production_Country  \\\n",
              "0  [{\"iso_3166_1\": \"US\", \"name\": \"United States o...   \n",
              "1  [{\"iso_3166_1\": \"US\", \"name\": \"United States o...   \n",
              "2  [{\"iso_3166_1\": \"US\", \"name\": \"United States o...   \n",
              "3  [{\"iso_3166_1\": \"US\", \"name\": \"United States o...   \n",
              "4  [{\"iso_3166_1\": \"US\", \"name\": \"United States o...   \n",
              "\n",
              "                      Movie_Spoken_Language  \\\n",
              "0  [{\"iso_639_1\": \"en\", \"name\": \"English\"}]   \n",
              "1  [{\"iso_639_1\": \"en\", \"name\": \"English\"}]   \n",
              "2  [{\"iso_639_1\": \"en\", \"name\": \"English\"}]   \n",
              "3  [{\"iso_639_1\": \"en\", \"name\": \"English\"}]   \n",
              "4  [{\"iso_639_1\": \"en\", \"name\": \"English\"}]   \n",
              "\n",
              "                                       Movie_Tagline  \\\n",
              "0  Twelve outrageous guests. Four scandalous requ...   \n",
              "1       A long time ago in a galaxy far, far away...   \n",
              "2  There are 3.7 trillion fish in the ocean, they...   \n",
              "3  The world will never be the same, once you've ...   \n",
              "4                                       Look closer.   \n",
              "\n",
              "                                          Movie_Cast  \\\n",
              "0  Tim Roth Antonio Banderas Jennifer Beals Madon...   \n",
              "1  Mark Hamill Harrison Ford Carrie Fisher Peter ...   \n",
              "2  Albert Brooks Ellen DeGeneres Alexander Gould ...   \n",
              "3  Tom Hanks Robin Wright Gary Sinise Mykelti Wil...   \n",
              "4  Kevin Spacey Annette Bening Thora Birch Wes Be...   \n",
              "\n",
              "                                          Movie_Crew   Movie_Director  \n",
              "0  [{'name': 'Allison Anders', 'gender': 1, 'depa...   Allison Anders  \n",
              "1  [{'name': 'George Lucas', 'gender': 2, 'depart...     George Lucas  \n",
              "2  [{'name': 'Andrew Stanton', 'gender': 2, 'depa...   Andrew Stanton  \n",
              "3  [{'name': 'Alan Silvestri', 'gender': 2, 'depa...  Robert Zemeckis  \n",
              "4  [{'name': 'Thomas Newman', 'gender': 2, 'depar...       Sam Mendes  \n",
              "\n",
              "[5 rows x 21 columns]"
            ],
            "text/html": [
              "\n",
              "  <div id=\"df-afb9c592-7dbc-4e4c-b125-183596a6d787\" class=\"colab-df-container\">\n",
              "    <div>\n",
              "<style scoped>\n",
              "    .dataframe tbody tr th:only-of-type {\n",
              "        vertical-align: middle;\n",
              "    }\n",
              "\n",
              "    .dataframe tbody tr th {\n",
              "        vertical-align: top;\n",
              "    }\n",
              "\n",
              "    .dataframe thead th {\n",
              "        text-align: right;\n",
              "    }\n",
              "</style>\n",
              "<table border=\"1\" class=\"dataframe\">\n",
              "  <thead>\n",
              "    <tr style=\"text-align: right;\">\n",
              "      <th></th>\n",
              "      <th>Movie_ID</th>\n",
              "      <th>Movie_Title</th>\n",
              "      <th>Movie_Genre</th>\n",
              "      <th>Movie_Language</th>\n",
              "      <th>Movie_Budget</th>\n",
              "      <th>Movie_Popularity</th>\n",
              "      <th>Movie_Release_Date</th>\n",
              "      <th>Movie_Revenue</th>\n",
              "      <th>Movie_Runtime</th>\n",
              "      <th>Movie_Vote</th>\n",
              "      <th>...</th>\n",
              "      <th>Movie_Homepage</th>\n",
              "      <th>Movie_Keywords</th>\n",
              "      <th>Movie_Overview</th>\n",
              "      <th>Movie_Production_House</th>\n",
              "      <th>Movie_Production_Country</th>\n",
              "      <th>Movie_Spoken_Language</th>\n",
              "      <th>Movie_Tagline</th>\n",
              "      <th>Movie_Cast</th>\n",
              "      <th>Movie_Crew</th>\n",
              "      <th>Movie_Director</th>\n",
              "    </tr>\n",
              "  </thead>\n",
              "  <tbody>\n",
              "    <tr>\n",
              "      <th>0</th>\n",
              "      <td>1</td>\n",
              "      <td>Four Rooms</td>\n",
              "      <td>Crime Comedy</td>\n",
              "      <td>en</td>\n",
              "      <td>4000000</td>\n",
              "      <td>22.876230</td>\n",
              "      <td>09-12-1995</td>\n",
              "      <td>4300000</td>\n",
              "      <td>98.0</td>\n",
              "      <td>6.5</td>\n",
              "      <td>...</td>\n",
              "      <td>NaN</td>\n",
              "      <td>hotel new year's eve witch bet hotel room</td>\n",
              "      <td>It's Ted the Bellhop's first night on the job....</td>\n",
              "      <td>[{\"name\": \"Miramax Films\", \"id\": 14}, {\"name\":...</td>\n",
              "      <td>[{\"iso_3166_1\": \"US\", \"name\": \"United States o...</td>\n",
              "      <td>[{\"iso_639_1\": \"en\", \"name\": \"English\"}]</td>\n",
              "      <td>Twelve outrageous guests. Four scandalous requ...</td>\n",
              "      <td>Tim Roth Antonio Banderas Jennifer Beals Madon...</td>\n",
              "      <td>[{'name': 'Allison Anders', 'gender': 1, 'depa...</td>\n",
              "      <td>Allison Anders</td>\n",
              "    </tr>\n",
              "    <tr>\n",
              "      <th>1</th>\n",
              "      <td>2</td>\n",
              "      <td>Star Wars</td>\n",
              "      <td>Adventure Action Science Fiction</td>\n",
              "      <td>en</td>\n",
              "      <td>11000000</td>\n",
              "      <td>126.393695</td>\n",
              "      <td>25-05-1977</td>\n",
              "      <td>775398007</td>\n",
              "      <td>121.0</td>\n",
              "      <td>8.1</td>\n",
              "      <td>...</td>\n",
              "      <td>http://www.starwars.com/films/star-wars-episod...</td>\n",
              "      <td>android galaxy hermit death star lightsaber</td>\n",
              "      <td>Princess Leia is captured and held hostage by ...</td>\n",
              "      <td>[{\"name\": \"Lucasfilm\", \"id\": 1}, {\"name\": \"Twe...</td>\n",
              "      <td>[{\"iso_3166_1\": \"US\", \"name\": \"United States o...</td>\n",
              "      <td>[{\"iso_639_1\": \"en\", \"name\": \"English\"}]</td>\n",
              "      <td>A long time ago in a galaxy far, far away...</td>\n",
              "      <td>Mark Hamill Harrison Ford Carrie Fisher Peter ...</td>\n",
              "      <td>[{'name': 'George Lucas', 'gender': 2, 'depart...</td>\n",
              "      <td>George Lucas</td>\n",
              "    </tr>\n",
              "    <tr>\n",
              "      <th>2</th>\n",
              "      <td>3</td>\n",
              "      <td>Finding Nemo</td>\n",
              "      <td>Animation Family</td>\n",
              "      <td>en</td>\n",
              "      <td>94000000</td>\n",
              "      <td>85.688789</td>\n",
              "      <td>30-05-2003</td>\n",
              "      <td>940335536</td>\n",
              "      <td>100.0</td>\n",
              "      <td>7.6</td>\n",
              "      <td>...</td>\n",
              "      <td>http://movies.disney.com/finding-nemo</td>\n",
              "      <td>father son relationship harbor underwater fish...</td>\n",
              "      <td>Nemo, an adventurous young clownfish, is unexp...</td>\n",
              "      <td>[{\"name\": \"Pixar Animation Studios\", \"id\": 3}]</td>\n",
              "      <td>[{\"iso_3166_1\": \"US\", \"name\": \"United States o...</td>\n",
              "      <td>[{\"iso_639_1\": \"en\", \"name\": \"English\"}]</td>\n",
              "      <td>There are 3.7 trillion fish in the ocean, they...</td>\n",
              "      <td>Albert Brooks Ellen DeGeneres Alexander Gould ...</td>\n",
              "      <td>[{'name': 'Andrew Stanton', 'gender': 2, 'depa...</td>\n",
              "      <td>Andrew Stanton</td>\n",
              "    </tr>\n",
              "    <tr>\n",
              "      <th>3</th>\n",
              "      <td>4</td>\n",
              "      <td>Forrest Gump</td>\n",
              "      <td>Comedy Drama Romance</td>\n",
              "      <td>en</td>\n",
              "      <td>55000000</td>\n",
              "      <td>138.133331</td>\n",
              "      <td>06-07-1994</td>\n",
              "      <td>677945399</td>\n",
              "      <td>142.0</td>\n",
              "      <td>8.2</td>\n",
              "      <td>...</td>\n",
              "      <td>NaN</td>\n",
              "      <td>vietnam veteran hippie mentally disabled runni...</td>\n",
              "      <td>A man with a low IQ has accomplished great thi...</td>\n",
              "      <td>[{\"name\": \"Paramount Pictures\", \"id\": 4}]</td>\n",
              "      <td>[{\"iso_3166_1\": \"US\", \"name\": \"United States o...</td>\n",
              "      <td>[{\"iso_639_1\": \"en\", \"name\": \"English\"}]</td>\n",
              "      <td>The world will never be the same, once you've ...</td>\n",
              "      <td>Tom Hanks Robin Wright Gary Sinise Mykelti Wil...</td>\n",
              "      <td>[{'name': 'Alan Silvestri', 'gender': 2, 'depa...</td>\n",
              "      <td>Robert Zemeckis</td>\n",
              "    </tr>\n",
              "    <tr>\n",
              "      <th>4</th>\n",
              "      <td>5</td>\n",
              "      <td>American Beauty</td>\n",
              "      <td>Drama</td>\n",
              "      <td>en</td>\n",
              "      <td>15000000</td>\n",
              "      <td>80.878605</td>\n",
              "      <td>15-09-1999</td>\n",
              "      <td>356296601</td>\n",
              "      <td>122.0</td>\n",
              "      <td>7.9</td>\n",
              "      <td>...</td>\n",
              "      <td>http://www.dreamworks.com/ab/</td>\n",
              "      <td>male nudity female nudity adultery midlife cri...</td>\n",
              "      <td>Lester Burnham, a depressed suburban father in...</td>\n",
              "      <td>[{\"name\": \"DreamWorks SKG\", \"id\": 27}, {\"name\"...</td>\n",
              "      <td>[{\"iso_3166_1\": \"US\", \"name\": \"United States o...</td>\n",
              "      <td>[{\"iso_639_1\": \"en\", \"name\": \"English\"}]</td>\n",
              "      <td>Look closer.</td>\n",
              "      <td>Kevin Spacey Annette Bening Thora Birch Wes Be...</td>\n",
              "      <td>[{'name': 'Thomas Newman', 'gender': 2, 'depar...</td>\n",
              "      <td>Sam Mendes</td>\n",
              "    </tr>\n",
              "  </tbody>\n",
              "</table>\n",
              "<p>5 rows × 21 columns</p>\n",
              "</div>\n",
              "    <div class=\"colab-df-buttons\">\n",
              "\n",
              "  <div class=\"colab-df-container\">\n",
              "    <button class=\"colab-df-convert\" onclick=\"convertToInteractive('df-afb9c592-7dbc-4e4c-b125-183596a6d787')\"\n",
              "            title=\"Convert this dataframe to an interactive table.\"\n",
              "            style=\"display:none;\">\n",
              "\n",
              "  <svg xmlns=\"http://www.w3.org/2000/svg\" height=\"24px\" viewBox=\"0 -960 960 960\">\n",
              "    <path d=\"M120-120v-720h720v720H120Zm60-500h600v-160H180v160Zm220 220h160v-160H400v160Zm0 220h160v-160H400v160ZM180-400h160v-160H180v160Zm440 0h160v-160H620v160ZM180-180h160v-160H180v160Zm440 0h160v-160H620v160Z\"/>\n",
              "  </svg>\n",
              "    </button>\n",
              "\n",
              "  <style>\n",
              "    .colab-df-container {\n",
              "      display:flex;\n",
              "      gap: 12px;\n",
              "    }\n",
              "\n",
              "    .colab-df-convert {\n",
              "      background-color: #E8F0FE;\n",
              "      border: none;\n",
              "      border-radius: 50%;\n",
              "      cursor: pointer;\n",
              "      display: none;\n",
              "      fill: #1967D2;\n",
              "      height: 32px;\n",
              "      padding: 0 0 0 0;\n",
              "      width: 32px;\n",
              "    }\n",
              "\n",
              "    .colab-df-convert:hover {\n",
              "      background-color: #E2EBFA;\n",
              "      box-shadow: 0px 1px 2px rgba(60, 64, 67, 0.3), 0px 1px 3px 1px rgba(60, 64, 67, 0.15);\n",
              "      fill: #174EA6;\n",
              "    }\n",
              "\n",
              "    .colab-df-buttons div {\n",
              "      margin-bottom: 4px;\n",
              "    }\n",
              "\n",
              "    [theme=dark] .colab-df-convert {\n",
              "      background-color: #3B4455;\n",
              "      fill: #D2E3FC;\n",
              "    }\n",
              "\n",
              "    [theme=dark] .colab-df-convert:hover {\n",
              "      background-color: #434B5C;\n",
              "      box-shadow: 0px 1px 3px 1px rgba(0, 0, 0, 0.15);\n",
              "      filter: drop-shadow(0px 1px 2px rgba(0, 0, 0, 0.3));\n",
              "      fill: #FFFFFF;\n",
              "    }\n",
              "  </style>\n",
              "\n",
              "    <script>\n",
              "      const buttonEl =\n",
              "        document.querySelector('#df-afb9c592-7dbc-4e4c-b125-183596a6d787 button.colab-df-convert');\n",
              "      buttonEl.style.display =\n",
              "        google.colab.kernel.accessAllowed ? 'block' : 'none';\n",
              "\n",
              "      async function convertToInteractive(key) {\n",
              "        const element = document.querySelector('#df-afb9c592-7dbc-4e4c-b125-183596a6d787');\n",
              "        const dataTable =\n",
              "          await google.colab.kernel.invokeFunction('convertToInteractive',\n",
              "                                                    [key], {});\n",
              "        if (!dataTable) return;\n",
              "\n",
              "        const docLinkHtml = 'Like what you see? Visit the ' +\n",
              "          '<a target=\"_blank\" href=https://colab.research.google.com/notebooks/data_table.ipynb>data table notebook</a>'\n",
              "          + ' to learn more about interactive tables.';\n",
              "        element.innerHTML = '';\n",
              "        dataTable['output_type'] = 'display_data';\n",
              "        await google.colab.output.renderOutput(dataTable, element);\n",
              "        const docLink = document.createElement('div');\n",
              "        docLink.innerHTML = docLinkHtml;\n",
              "        element.appendChild(docLink);\n",
              "      }\n",
              "    </script>\n",
              "  </div>\n",
              "\n",
              "\n",
              "<div id=\"df-e7d3416c-a4ab-4a86-ba2d-2e709bba0749\">\n",
              "  <button class=\"colab-df-quickchart\" onclick=\"quickchart('df-e7d3416c-a4ab-4a86-ba2d-2e709bba0749')\"\n",
              "            title=\"Suggest charts\"\n",
              "            style=\"display:none;\">\n",
              "\n",
              "<svg xmlns=\"http://www.w3.org/2000/svg\" height=\"24px\"viewBox=\"0 0 24 24\"\n",
              "     width=\"24px\">\n",
              "    <g>\n",
              "        <path d=\"M19 3H5c-1.1 0-2 .9-2 2v14c0 1.1.9 2 2 2h14c1.1 0 2-.9 2-2V5c0-1.1-.9-2-2-2zM9 17H7v-7h2v7zm4 0h-2V7h2v10zm4 0h-2v-4h2v4z\"/>\n",
              "    </g>\n",
              "</svg>\n",
              "  </button>\n",
              "\n",
              "<style>\n",
              "  .colab-df-quickchart {\n",
              "      --bg-color: #E8F0FE;\n",
              "      --fill-color: #1967D2;\n",
              "      --hover-bg-color: #E2EBFA;\n",
              "      --hover-fill-color: #174EA6;\n",
              "      --disabled-fill-color: #AAA;\n",
              "      --disabled-bg-color: #DDD;\n",
              "  }\n",
              "\n",
              "  [theme=dark] .colab-df-quickchart {\n",
              "      --bg-color: #3B4455;\n",
              "      --fill-color: #D2E3FC;\n",
              "      --hover-bg-color: #434B5C;\n",
              "      --hover-fill-color: #FFFFFF;\n",
              "      --disabled-bg-color: #3B4455;\n",
              "      --disabled-fill-color: #666;\n",
              "  }\n",
              "\n",
              "  .colab-df-quickchart {\n",
              "    background-color: var(--bg-color);\n",
              "    border: none;\n",
              "    border-radius: 50%;\n",
              "    cursor: pointer;\n",
              "    display: none;\n",
              "    fill: var(--fill-color);\n",
              "    height: 32px;\n",
              "    padding: 0;\n",
              "    width: 32px;\n",
              "  }\n",
              "\n",
              "  .colab-df-quickchart:hover {\n",
              "    background-color: var(--hover-bg-color);\n",
              "    box-shadow: 0 1px 2px rgba(60, 64, 67, 0.3), 0 1px 3px 1px rgba(60, 64, 67, 0.15);\n",
              "    fill: var(--button-hover-fill-color);\n",
              "  }\n",
              "\n",
              "  .colab-df-quickchart-complete:disabled,\n",
              "  .colab-df-quickchart-complete:disabled:hover {\n",
              "    background-color: var(--disabled-bg-color);\n",
              "    fill: var(--disabled-fill-color);\n",
              "    box-shadow: none;\n",
              "  }\n",
              "\n",
              "  .colab-df-spinner {\n",
              "    border: 2px solid var(--fill-color);\n",
              "    border-color: transparent;\n",
              "    border-bottom-color: var(--fill-color);\n",
              "    animation:\n",
              "      spin 1s steps(1) infinite;\n",
              "  }\n",
              "\n",
              "  @keyframes spin {\n",
              "    0% {\n",
              "      border-color: transparent;\n",
              "      border-bottom-color: var(--fill-color);\n",
              "      border-left-color: var(--fill-color);\n",
              "    }\n",
              "    20% {\n",
              "      border-color: transparent;\n",
              "      border-left-color: var(--fill-color);\n",
              "      border-top-color: var(--fill-color);\n",
              "    }\n",
              "    30% {\n",
              "      border-color: transparent;\n",
              "      border-left-color: var(--fill-color);\n",
              "      border-top-color: var(--fill-color);\n",
              "      border-right-color: var(--fill-color);\n",
              "    }\n",
              "    40% {\n",
              "      border-color: transparent;\n",
              "      border-right-color: var(--fill-color);\n",
              "      border-top-color: var(--fill-color);\n",
              "    }\n",
              "    60% {\n",
              "      border-color: transparent;\n",
              "      border-right-color: var(--fill-color);\n",
              "    }\n",
              "    80% {\n",
              "      border-color: transparent;\n",
              "      border-right-color: var(--fill-color);\n",
              "      border-bottom-color: var(--fill-color);\n",
              "    }\n",
              "    90% {\n",
              "      border-color: transparent;\n",
              "      border-bottom-color: var(--fill-color);\n",
              "    }\n",
              "  }\n",
              "</style>\n",
              "\n",
              "  <script>\n",
              "    async function quickchart(key) {\n",
              "      const quickchartButtonEl =\n",
              "        document.querySelector('#' + key + ' button');\n",
              "      quickchartButtonEl.disabled = true;  // To prevent multiple clicks.\n",
              "      quickchartButtonEl.classList.add('colab-df-spinner');\n",
              "      try {\n",
              "        const charts = await google.colab.kernel.invokeFunction(\n",
              "            'suggestCharts', [key], {});\n",
              "      } catch (error) {\n",
              "        console.error('Error during call to suggestCharts:', error);\n",
              "      }\n",
              "      quickchartButtonEl.classList.remove('colab-df-spinner');\n",
              "      quickchartButtonEl.classList.add('colab-df-quickchart-complete');\n",
              "    }\n",
              "    (() => {\n",
              "      let quickchartButtonEl =\n",
              "        document.querySelector('#df-e7d3416c-a4ab-4a86-ba2d-2e709bba0749 button');\n",
              "      quickchartButtonEl.style.display =\n",
              "        google.colab.kernel.accessAllowed ? 'block' : 'none';\n",
              "    })();\n",
              "  </script>\n",
              "</div>\n",
              "\n",
              "    </div>\n",
              "  </div>\n"
            ],
            "application/vnd.google.colaboratory.intrinsic+json": {
              "type": "dataframe",
              "variable_name": "df"
            }
          },
          "metadata": {},
          "execution_count": 5
        }
      ]
    },
    {
      "cell_type": "code",
      "source": [
        "df.info()"
      ],
      "metadata": {
        "colab": {
          "base_uri": "https://localhost:8080/"
        },
        "id": "GRZLkJwvD6SU",
        "outputId": "73306942-68ea-440a-9649-fb66b73189db"
      },
      "execution_count": null,
      "outputs": [
        {
          "output_type": "stream",
          "name": "stdout",
          "text": [
            "<class 'pandas.core.frame.DataFrame'>\n",
            "RangeIndex: 4760 entries, 0 to 4759\n",
            "Data columns (total 21 columns):\n",
            " #   Column                    Non-Null Count  Dtype  \n",
            "---  ------                    --------------  -----  \n",
            " 0   Movie_ID                  4760 non-null   int64  \n",
            " 1   Movie_Title               4760 non-null   object \n",
            " 2   Movie_Genre               4760 non-null   object \n",
            " 3   Movie_Language            4760 non-null   object \n",
            " 4   Movie_Budget              4760 non-null   int64  \n",
            " 5   Movie_Popularity          4760 non-null   float64\n",
            " 6   Movie_Release_Date        4760 non-null   object \n",
            " 7   Movie_Revenue             4760 non-null   int64  \n",
            " 8   Movie_Runtime             4758 non-null   float64\n",
            " 9   Movie_Vote                4760 non-null   float64\n",
            " 10  Movie_Vote_Count          4760 non-null   int64  \n",
            " 11  Movie_Homepage            1699 non-null   object \n",
            " 12  Movie_Keywords            4373 non-null   object \n",
            " 13  Movie_Overview            4757 non-null   object \n",
            " 14  Movie_Production_House    4760 non-null   object \n",
            " 15  Movie_Production_Country  4760 non-null   object \n",
            " 16  Movie_Spoken_Language     4760 non-null   object \n",
            " 17  Movie_Tagline             3942 non-null   object \n",
            " 18  Movie_Cast                4733 non-null   object \n",
            " 19  Movie_Crew                4760 non-null   object \n",
            " 20  Movie_Director            4738 non-null   object \n",
            "dtypes: float64(3), int64(4), object(14)\n",
            "memory usage: 781.1+ KB\n"
          ]
        }
      ]
    },
    {
      "cell_type": "code",
      "source": [
        "df.shape"
      ],
      "metadata": {
        "colab": {
          "base_uri": "https://localhost:8080/"
        },
        "id": "s_bGFv-WD6fv",
        "outputId": "c5516356-1f87-41a4-cd8b-4a3d5dec63e8"
      },
      "execution_count": null,
      "outputs": [
        {
          "output_type": "execute_result",
          "data": {
            "text/plain": [
              "(4760, 21)"
            ]
          },
          "metadata": {},
          "execution_count": 7
        }
      ]
    },
    {
      "cell_type": "code",
      "source": [
        "df.columns"
      ],
      "metadata": {
        "colab": {
          "base_uri": "https://localhost:8080/"
        },
        "id": "JCghctVAD6iy",
        "outputId": "86789838-4602-4d74-8c6e-5d92110dbace"
      },
      "execution_count": null,
      "outputs": [
        {
          "output_type": "execute_result",
          "data": {
            "text/plain": [
              "Index(['Movie_ID', 'Movie_Title', 'Movie_Genre', 'Movie_Language',\n",
              "       'Movie_Budget', 'Movie_Popularity', 'Movie_Release_Date',\n",
              "       'Movie_Revenue', 'Movie_Runtime', 'Movie_Vote', 'Movie_Vote_Count',\n",
              "       'Movie_Homepage', 'Movie_Keywords', 'Movie_Overview',\n",
              "       'Movie_Production_House', 'Movie_Production_Country',\n",
              "       'Movie_Spoken_Language', 'Movie_Tagline', 'Movie_Cast', 'Movie_Crew',\n",
              "       'Movie_Director'],\n",
              "      dtype='object')"
            ]
          },
          "metadata": {},
          "execution_count": 8
        }
      ]
    },
    {
      "cell_type": "markdown",
      "source": [
        "# Get Feature Selection"
      ],
      "metadata": {
        "id": "d3qaPJ07E-8V"
      }
    },
    {
      "cell_type": "code",
      "source": [
        "df_features = df[['Movie_Genre','Movie_Keywords','Movie_Tagline','Movie_Cast','Movie_Director']].fillna(' ')"
      ],
      "metadata": {
        "collapsed": true,
        "id": "jr3UmsV8D6mX"
      },
      "execution_count": null,
      "outputs": []
    },
    {
      "cell_type": "code",
      "source": [
        "df_features.shape"
      ],
      "metadata": {
        "id": "YlefaCy7D6we",
        "colab": {
          "base_uri": "https://localhost:8080/"
        },
        "outputId": "9ef49d3c-7dad-4e7f-bf08-aa33825ee10f"
      },
      "execution_count": null,
      "outputs": [
        {
          "output_type": "execute_result",
          "data": {
            "text/plain": [
              "(4760, 5)"
            ]
          },
          "metadata": {},
          "execution_count": 12
        }
      ]
    },
    {
      "cell_type": "code",
      "source": [
        "df_features"
      ],
      "metadata": {
        "id": "Ojl0c19zD69S",
        "colab": {
          "base_uri": "https://localhost:8080/",
          "height": 493
        },
        "outputId": "c8314c05-a87b-476b-f8f3-35c988218abc"
      },
      "execution_count": null,
      "outputs": [
        {
          "output_type": "execute_result",
          "data": {
            "text/plain": [
              "                           Movie_Genre  \\\n",
              "0                         Crime Comedy   \n",
              "1     Adventure Action Science Fiction   \n",
              "2                     Animation Family   \n",
              "3                 Comedy Drama Romance   \n",
              "4                                Drama   \n",
              "...                                ...   \n",
              "4755                            Horror   \n",
              "4756               Comedy Family Drama   \n",
              "4757                    Thriller Drama   \n",
              "4758                            Family   \n",
              "4759                       Documentary   \n",
              "\n",
              "                                         Movie_Keywords  \\\n",
              "0             hotel new year's eve witch bet hotel room   \n",
              "1           android galaxy hermit death star lightsaber   \n",
              "2     father son relationship harbor underwater fish...   \n",
              "3     vietnam veteran hippie mentally disabled runni...   \n",
              "4     male nudity female nudity adultery midlife cri...   \n",
              "...                                                 ...   \n",
              "4755                                                      \n",
              "4756                                                      \n",
              "4757                     christian film sex trafficking   \n",
              "4758                                                      \n",
              "4759  music actors legendary perfomer classic hollyw...   \n",
              "\n",
              "                                          Movie_Tagline  \\\n",
              "0     Twelve outrageous guests. Four scandalous requ...   \n",
              "1          A long time ago in a galaxy far, far away...   \n",
              "2     There are 3.7 trillion fish in the ocean, they...   \n",
              "3     The world will never be the same, once you've ...   \n",
              "4                                          Look closer.   \n",
              "...                                                 ...   \n",
              "4755                The hot spot where Satan's waitin'.   \n",
              "4756           It’s better to stand out than to fit in.   \n",
              "4757           She never knew it could happen to her...   \n",
              "4758                                                      \n",
              "4759                                                      \n",
              "\n",
              "                                             Movie_Cast     Movie_Director  \n",
              "0     Tim Roth Antonio Banderas Jennifer Beals Madon...     Allison Anders  \n",
              "1     Mark Hamill Harrison Ford Carrie Fisher Peter ...       George Lucas  \n",
              "2     Albert Brooks Ellen DeGeneres Alexander Gould ...     Andrew Stanton  \n",
              "3     Tom Hanks Robin Wright Gary Sinise Mykelti Wil...    Robert Zemeckis  \n",
              "4     Kevin Spacey Annette Bening Thora Birch Wes Be...         Sam Mendes  \n",
              "...                                                 ...                ...  \n",
              "4755  Lisa Hart Carroll Michael Des Barres Paul Drak...         Pece Dingo  \n",
              "4756  Roni Akurati Brighton Sharbino Jason Lee Anjul...       Frank Lotito  \n",
              "4757  Nicole Smolen Kim Baldwin Ariana Stephens Brys...       Jaco Booyens  \n",
              "4758                                                                        \n",
              "4759                                    Tony Oppedisano  Simon Napier-Bell  \n",
              "\n",
              "[4760 rows x 5 columns]"
            ],
            "text/html": [
              "\n",
              "  <div id=\"df-b9f37290-2707-4ef6-8fbe-ceaf540efe50\" class=\"colab-df-container\">\n",
              "    <div>\n",
              "<style scoped>\n",
              "    .dataframe tbody tr th:only-of-type {\n",
              "        vertical-align: middle;\n",
              "    }\n",
              "\n",
              "    .dataframe tbody tr th {\n",
              "        vertical-align: top;\n",
              "    }\n",
              "\n",
              "    .dataframe thead th {\n",
              "        text-align: right;\n",
              "    }\n",
              "</style>\n",
              "<table border=\"1\" class=\"dataframe\">\n",
              "  <thead>\n",
              "    <tr style=\"text-align: right;\">\n",
              "      <th></th>\n",
              "      <th>Movie_Genre</th>\n",
              "      <th>Movie_Keywords</th>\n",
              "      <th>Movie_Tagline</th>\n",
              "      <th>Movie_Cast</th>\n",
              "      <th>Movie_Director</th>\n",
              "    </tr>\n",
              "  </thead>\n",
              "  <tbody>\n",
              "    <tr>\n",
              "      <th>0</th>\n",
              "      <td>Crime Comedy</td>\n",
              "      <td>hotel new year's eve witch bet hotel room</td>\n",
              "      <td>Twelve outrageous guests. Four scandalous requ...</td>\n",
              "      <td>Tim Roth Antonio Banderas Jennifer Beals Madon...</td>\n",
              "      <td>Allison Anders</td>\n",
              "    </tr>\n",
              "    <tr>\n",
              "      <th>1</th>\n",
              "      <td>Adventure Action Science Fiction</td>\n",
              "      <td>android galaxy hermit death star lightsaber</td>\n",
              "      <td>A long time ago in a galaxy far, far away...</td>\n",
              "      <td>Mark Hamill Harrison Ford Carrie Fisher Peter ...</td>\n",
              "      <td>George Lucas</td>\n",
              "    </tr>\n",
              "    <tr>\n",
              "      <th>2</th>\n",
              "      <td>Animation Family</td>\n",
              "      <td>father son relationship harbor underwater fish...</td>\n",
              "      <td>There are 3.7 trillion fish in the ocean, they...</td>\n",
              "      <td>Albert Brooks Ellen DeGeneres Alexander Gould ...</td>\n",
              "      <td>Andrew Stanton</td>\n",
              "    </tr>\n",
              "    <tr>\n",
              "      <th>3</th>\n",
              "      <td>Comedy Drama Romance</td>\n",
              "      <td>vietnam veteran hippie mentally disabled runni...</td>\n",
              "      <td>The world will never be the same, once you've ...</td>\n",
              "      <td>Tom Hanks Robin Wright Gary Sinise Mykelti Wil...</td>\n",
              "      <td>Robert Zemeckis</td>\n",
              "    </tr>\n",
              "    <tr>\n",
              "      <th>4</th>\n",
              "      <td>Drama</td>\n",
              "      <td>male nudity female nudity adultery midlife cri...</td>\n",
              "      <td>Look closer.</td>\n",
              "      <td>Kevin Spacey Annette Bening Thora Birch Wes Be...</td>\n",
              "      <td>Sam Mendes</td>\n",
              "    </tr>\n",
              "    <tr>\n",
              "      <th>...</th>\n",
              "      <td>...</td>\n",
              "      <td>...</td>\n",
              "      <td>...</td>\n",
              "      <td>...</td>\n",
              "      <td>...</td>\n",
              "    </tr>\n",
              "    <tr>\n",
              "      <th>4755</th>\n",
              "      <td>Horror</td>\n",
              "      <td></td>\n",
              "      <td>The hot spot where Satan's waitin'.</td>\n",
              "      <td>Lisa Hart Carroll Michael Des Barres Paul Drak...</td>\n",
              "      <td>Pece Dingo</td>\n",
              "    </tr>\n",
              "    <tr>\n",
              "      <th>4756</th>\n",
              "      <td>Comedy Family Drama</td>\n",
              "      <td></td>\n",
              "      <td>It’s better to stand out than to fit in.</td>\n",
              "      <td>Roni Akurati Brighton Sharbino Jason Lee Anjul...</td>\n",
              "      <td>Frank Lotito</td>\n",
              "    </tr>\n",
              "    <tr>\n",
              "      <th>4757</th>\n",
              "      <td>Thriller Drama</td>\n",
              "      <td>christian film sex trafficking</td>\n",
              "      <td>She never knew it could happen to her...</td>\n",
              "      <td>Nicole Smolen Kim Baldwin Ariana Stephens Brys...</td>\n",
              "      <td>Jaco Booyens</td>\n",
              "    </tr>\n",
              "    <tr>\n",
              "      <th>4758</th>\n",
              "      <td>Family</td>\n",
              "      <td></td>\n",
              "      <td></td>\n",
              "      <td></td>\n",
              "      <td></td>\n",
              "    </tr>\n",
              "    <tr>\n",
              "      <th>4759</th>\n",
              "      <td>Documentary</td>\n",
              "      <td>music actors legendary perfomer classic hollyw...</td>\n",
              "      <td></td>\n",
              "      <td>Tony Oppedisano</td>\n",
              "      <td>Simon Napier-Bell</td>\n",
              "    </tr>\n",
              "  </tbody>\n",
              "</table>\n",
              "<p>4760 rows × 5 columns</p>\n",
              "</div>\n",
              "    <div class=\"colab-df-buttons\">\n",
              "\n",
              "  <div class=\"colab-df-container\">\n",
              "    <button class=\"colab-df-convert\" onclick=\"convertToInteractive('df-b9f37290-2707-4ef6-8fbe-ceaf540efe50')\"\n",
              "            title=\"Convert this dataframe to an interactive table.\"\n",
              "            style=\"display:none;\">\n",
              "\n",
              "  <svg xmlns=\"http://www.w3.org/2000/svg\" height=\"24px\" viewBox=\"0 -960 960 960\">\n",
              "    <path d=\"M120-120v-720h720v720H120Zm60-500h600v-160H180v160Zm220 220h160v-160H400v160Zm0 220h160v-160H400v160ZM180-400h160v-160H180v160Zm440 0h160v-160H620v160ZM180-180h160v-160H180v160Zm440 0h160v-160H620v160Z\"/>\n",
              "  </svg>\n",
              "    </button>\n",
              "\n",
              "  <style>\n",
              "    .colab-df-container {\n",
              "      display:flex;\n",
              "      gap: 12px;\n",
              "    }\n",
              "\n",
              "    .colab-df-convert {\n",
              "      background-color: #E8F0FE;\n",
              "      border: none;\n",
              "      border-radius: 50%;\n",
              "      cursor: pointer;\n",
              "      display: none;\n",
              "      fill: #1967D2;\n",
              "      height: 32px;\n",
              "      padding: 0 0 0 0;\n",
              "      width: 32px;\n",
              "    }\n",
              "\n",
              "    .colab-df-convert:hover {\n",
              "      background-color: #E2EBFA;\n",
              "      box-shadow: 0px 1px 2px rgba(60, 64, 67, 0.3), 0px 1px 3px 1px rgba(60, 64, 67, 0.15);\n",
              "      fill: #174EA6;\n",
              "    }\n",
              "\n",
              "    .colab-df-buttons div {\n",
              "      margin-bottom: 4px;\n",
              "    }\n",
              "\n",
              "    [theme=dark] .colab-df-convert {\n",
              "      background-color: #3B4455;\n",
              "      fill: #D2E3FC;\n",
              "    }\n",
              "\n",
              "    [theme=dark] .colab-df-convert:hover {\n",
              "      background-color: #434B5C;\n",
              "      box-shadow: 0px 1px 3px 1px rgba(0, 0, 0, 0.15);\n",
              "      filter: drop-shadow(0px 1px 2px rgba(0, 0, 0, 0.3));\n",
              "      fill: #FFFFFF;\n",
              "    }\n",
              "  </style>\n",
              "\n",
              "    <script>\n",
              "      const buttonEl =\n",
              "        document.querySelector('#df-b9f37290-2707-4ef6-8fbe-ceaf540efe50 button.colab-df-convert');\n",
              "      buttonEl.style.display =\n",
              "        google.colab.kernel.accessAllowed ? 'block' : 'none';\n",
              "\n",
              "      async function convertToInteractive(key) {\n",
              "        const element = document.querySelector('#df-b9f37290-2707-4ef6-8fbe-ceaf540efe50');\n",
              "        const dataTable =\n",
              "          await google.colab.kernel.invokeFunction('convertToInteractive',\n",
              "                                                    [key], {});\n",
              "        if (!dataTable) return;\n",
              "\n",
              "        const docLinkHtml = 'Like what you see? Visit the ' +\n",
              "          '<a target=\"_blank\" href=https://colab.research.google.com/notebooks/data_table.ipynb>data table notebook</a>'\n",
              "          + ' to learn more about interactive tables.';\n",
              "        element.innerHTML = '';\n",
              "        dataTable['output_type'] = 'display_data';\n",
              "        await google.colab.output.renderOutput(dataTable, element);\n",
              "        const docLink = document.createElement('div');\n",
              "        docLink.innerHTML = docLinkHtml;\n",
              "        element.appendChild(docLink);\n",
              "      }\n",
              "    </script>\n",
              "  </div>\n",
              "\n",
              "\n",
              "<div id=\"df-b2a89f4b-c5ab-41a7-a59b-dfc0d38c4dcc\">\n",
              "  <button class=\"colab-df-quickchart\" onclick=\"quickchart('df-b2a89f4b-c5ab-41a7-a59b-dfc0d38c4dcc')\"\n",
              "            title=\"Suggest charts\"\n",
              "            style=\"display:none;\">\n",
              "\n",
              "<svg xmlns=\"http://www.w3.org/2000/svg\" height=\"24px\"viewBox=\"0 0 24 24\"\n",
              "     width=\"24px\">\n",
              "    <g>\n",
              "        <path d=\"M19 3H5c-1.1 0-2 .9-2 2v14c0 1.1.9 2 2 2h14c1.1 0 2-.9 2-2V5c0-1.1-.9-2-2-2zM9 17H7v-7h2v7zm4 0h-2V7h2v10zm4 0h-2v-4h2v4z\"/>\n",
              "    </g>\n",
              "</svg>\n",
              "  </button>\n",
              "\n",
              "<style>\n",
              "  .colab-df-quickchart {\n",
              "      --bg-color: #E8F0FE;\n",
              "      --fill-color: #1967D2;\n",
              "      --hover-bg-color: #E2EBFA;\n",
              "      --hover-fill-color: #174EA6;\n",
              "      --disabled-fill-color: #AAA;\n",
              "      --disabled-bg-color: #DDD;\n",
              "  }\n",
              "\n",
              "  [theme=dark] .colab-df-quickchart {\n",
              "      --bg-color: #3B4455;\n",
              "      --fill-color: #D2E3FC;\n",
              "      --hover-bg-color: #434B5C;\n",
              "      --hover-fill-color: #FFFFFF;\n",
              "      --disabled-bg-color: #3B4455;\n",
              "      --disabled-fill-color: #666;\n",
              "  }\n",
              "\n",
              "  .colab-df-quickchart {\n",
              "    background-color: var(--bg-color);\n",
              "    border: none;\n",
              "    border-radius: 50%;\n",
              "    cursor: pointer;\n",
              "    display: none;\n",
              "    fill: var(--fill-color);\n",
              "    height: 32px;\n",
              "    padding: 0;\n",
              "    width: 32px;\n",
              "  }\n",
              "\n",
              "  .colab-df-quickchart:hover {\n",
              "    background-color: var(--hover-bg-color);\n",
              "    box-shadow: 0 1px 2px rgba(60, 64, 67, 0.3), 0 1px 3px 1px rgba(60, 64, 67, 0.15);\n",
              "    fill: var(--button-hover-fill-color);\n",
              "  }\n",
              "\n",
              "  .colab-df-quickchart-complete:disabled,\n",
              "  .colab-df-quickchart-complete:disabled:hover {\n",
              "    background-color: var(--disabled-bg-color);\n",
              "    fill: var(--disabled-fill-color);\n",
              "    box-shadow: none;\n",
              "  }\n",
              "\n",
              "  .colab-df-spinner {\n",
              "    border: 2px solid var(--fill-color);\n",
              "    border-color: transparent;\n",
              "    border-bottom-color: var(--fill-color);\n",
              "    animation:\n",
              "      spin 1s steps(1) infinite;\n",
              "  }\n",
              "\n",
              "  @keyframes spin {\n",
              "    0% {\n",
              "      border-color: transparent;\n",
              "      border-bottom-color: var(--fill-color);\n",
              "      border-left-color: var(--fill-color);\n",
              "    }\n",
              "    20% {\n",
              "      border-color: transparent;\n",
              "      border-left-color: var(--fill-color);\n",
              "      border-top-color: var(--fill-color);\n",
              "    }\n",
              "    30% {\n",
              "      border-color: transparent;\n",
              "      border-left-color: var(--fill-color);\n",
              "      border-top-color: var(--fill-color);\n",
              "      border-right-color: var(--fill-color);\n",
              "    }\n",
              "    40% {\n",
              "      border-color: transparent;\n",
              "      border-right-color: var(--fill-color);\n",
              "      border-top-color: var(--fill-color);\n",
              "    }\n",
              "    60% {\n",
              "      border-color: transparent;\n",
              "      border-right-color: var(--fill-color);\n",
              "    }\n",
              "    80% {\n",
              "      border-color: transparent;\n",
              "      border-right-color: var(--fill-color);\n",
              "      border-bottom-color: var(--fill-color);\n",
              "    }\n",
              "    90% {\n",
              "      border-color: transparent;\n",
              "      border-bottom-color: var(--fill-color);\n",
              "    }\n",
              "  }\n",
              "</style>\n",
              "\n",
              "  <script>\n",
              "    async function quickchart(key) {\n",
              "      const quickchartButtonEl =\n",
              "        document.querySelector('#' + key + ' button');\n",
              "      quickchartButtonEl.disabled = true;  // To prevent multiple clicks.\n",
              "      quickchartButtonEl.classList.add('colab-df-spinner');\n",
              "      try {\n",
              "        const charts = await google.colab.kernel.invokeFunction(\n",
              "            'suggestCharts', [key], {});\n",
              "      } catch (error) {\n",
              "        console.error('Error during call to suggestCharts:', error);\n",
              "      }\n",
              "      quickchartButtonEl.classList.remove('colab-df-spinner');\n",
              "      quickchartButtonEl.classList.add('colab-df-quickchart-complete');\n",
              "    }\n",
              "    (() => {\n",
              "      let quickchartButtonEl =\n",
              "        document.querySelector('#df-b2a89f4b-c5ab-41a7-a59b-dfc0d38c4dcc button');\n",
              "      quickchartButtonEl.style.display =\n",
              "        google.colab.kernel.accessAllowed ? 'block' : 'none';\n",
              "    })();\n",
              "  </script>\n",
              "</div>\n",
              "\n",
              "  <div id=\"id_61215c2c-993d-4c8c-b24f-133343ea6efd\">\n",
              "    <style>\n",
              "      .colab-df-generate {\n",
              "        background-color: #E8F0FE;\n",
              "        border: none;\n",
              "        border-radius: 50%;\n",
              "        cursor: pointer;\n",
              "        display: none;\n",
              "        fill: #1967D2;\n",
              "        height: 32px;\n",
              "        padding: 0 0 0 0;\n",
              "        width: 32px;\n",
              "      }\n",
              "\n",
              "      .colab-df-generate:hover {\n",
              "        background-color: #E2EBFA;\n",
              "        box-shadow: 0px 1px 2px rgba(60, 64, 67, 0.3), 0px 1px 3px 1px rgba(60, 64, 67, 0.15);\n",
              "        fill: #174EA6;\n",
              "      }\n",
              "\n",
              "      [theme=dark] .colab-df-generate {\n",
              "        background-color: #3B4455;\n",
              "        fill: #D2E3FC;\n",
              "      }\n",
              "\n",
              "      [theme=dark] .colab-df-generate:hover {\n",
              "        background-color: #434B5C;\n",
              "        box-shadow: 0px 1px 3px 1px rgba(0, 0, 0, 0.15);\n",
              "        filter: drop-shadow(0px 1px 2px rgba(0, 0, 0, 0.3));\n",
              "        fill: #FFFFFF;\n",
              "      }\n",
              "    </style>\n",
              "    <button class=\"colab-df-generate\" onclick=\"generateWithVariable('df_features')\"\n",
              "            title=\"Generate code using this dataframe.\"\n",
              "            style=\"display:none;\">\n",
              "\n",
              "  <svg xmlns=\"http://www.w3.org/2000/svg\" height=\"24px\"viewBox=\"0 0 24 24\"\n",
              "       width=\"24px\">\n",
              "    <path d=\"M7,19H8.4L18.45,9,17,7.55,7,17.6ZM5,21V16.75L18.45,3.32a2,2,0,0,1,2.83,0l1.4,1.43a1.91,1.91,0,0,1,.58,1.4,1.91,1.91,0,0,1-.58,1.4L9.25,21ZM18.45,9,17,7.55Zm-12,3A5.31,5.31,0,0,0,4.9,8.1,5.31,5.31,0,0,0,1,6.5,5.31,5.31,0,0,0,4.9,4.9,5.31,5.31,0,0,0,6.5,1,5.31,5.31,0,0,0,8.1,4.9,5.31,5.31,0,0,0,12,6.5,5.46,5.46,0,0,0,6.5,12Z\"/>\n",
              "  </svg>\n",
              "    </button>\n",
              "    <script>\n",
              "      (() => {\n",
              "      const buttonEl =\n",
              "        document.querySelector('#id_61215c2c-993d-4c8c-b24f-133343ea6efd button.colab-df-generate');\n",
              "      buttonEl.style.display =\n",
              "        google.colab.kernel.accessAllowed ? 'block' : 'none';\n",
              "\n",
              "      buttonEl.onclick = () => {\n",
              "        google.colab.notebook.generateWithVariable('df_features');\n",
              "      }\n",
              "      })();\n",
              "    </script>\n",
              "  </div>\n",
              "\n",
              "    </div>\n",
              "  </div>\n"
            ],
            "application/vnd.google.colaboratory.intrinsic+json": {
              "type": "dataframe",
              "variable_name": "df_features",
              "summary": "{\n  \"name\": \"df_features\",\n  \"rows\": 4760,\n  \"fields\": [\n    {\n      \"column\": \"Movie_Genre\",\n      \"properties\": {\n        \"dtype\": \"category\",\n        \"num_unique_values\": 1164,\n        \"samples\": [\n          \"Family Animation Adventure\",\n          \"Adventure Science Fiction Action\",\n          \"Action Crime Drama Romance Thriller\"\n        ],\n        \"semantic_type\": \"\",\n        \"description\": \"\"\n      }\n    },\n    {\n      \"column\": \"Movie_Keywords\",\n      \"properties\": {\n        \"dtype\": \"string\",\n        \"num_unique_values\": 4203,\n        \"samples\": [\n          \"canada nazis sequel spin off ancient evil\",\n          \"sex professor wedding woman director columbia university\",\n          \"prophecy sea beach gold small town\"\n        ],\n        \"semantic_type\": \"\",\n        \"description\": \"\"\n      }\n    },\n    {\n      \"column\": \"Movie_Tagline\",\n      \"properties\": {\n        \"dtype\": \"string\",\n        \"num_unique_values\": 3928,\n        \"samples\": [\n          \"The messenger must be silenced.\",\n          \"It's not the house that's haunted.\",\n          \"The final hunt begins.\"\n        ],\n        \"semantic_type\": \"\",\n        \"description\": \"\"\n      }\n    },\n    {\n      \"column\": \"Movie_Cast\",\n      \"properties\": {\n        \"dtype\": \"string\",\n        \"num_unique_values\": 4715,\n        \"samples\": [\n          \"Robin Tunney Fairuza Balk Neve Campbell Rachel True Skeet Ulrich\",\n          \"Peter Sellers Christopher Plummer Herbert Lom Catherine Schell Peter Arne\",\n          \"John Wayne Laraine Day Cedric Hardwicke Judith Anderson Anthony Quinn\"\n        ],\n        \"semantic_type\": \"\",\n        \"description\": \"\"\n      }\n    },\n    {\n      \"column\": \"Movie_Director\",\n      \"properties\": {\n        \"dtype\": \"category\",\n        \"num_unique_values\": 2332,\n        \"samples\": [\n          \"Rob McKittrick\",\n          \"Terron R. Parsons\",\n          \"Cyrus Nowrasteh\"\n        ],\n        \"semantic_type\": \"\",\n        \"description\": \"\"\n      }\n    }\n  ]\n}"
            }
          },
          "metadata": {},
          "execution_count": 13
        }
      ]
    },
    {
      "cell_type": "code",
      "source": [
        "X = df_features['Movie_Genre']+' '+df_features['Movie_Keywords']+' '+df_features['Movie_Tagline']+' '+df_features['Movie_Cast']+' '+df_features['Movie_Director']"
      ],
      "metadata": {
        "id": "ai3k_4NgD7DF"
      },
      "execution_count": null,
      "outputs": []
    },
    {
      "cell_type": "code",
      "source": [
        "X"
      ],
      "metadata": {
        "id": "5DkCfq2ZD7Ff",
        "colab": {
          "base_uri": "https://localhost:8080/"
        },
        "outputId": "89f9b740-bdb1-4b08-f0ee-3f2a6c40c266"
      },
      "execution_count": null,
      "outputs": [
        {
          "output_type": "execute_result",
          "data": {
            "text/plain": [
              "0       Crime Comedy hotel new year's eve witch bet ho...\n",
              "1       Adventure Action Science Fiction android galax...\n",
              "2       Animation Family father son relationship harbo...\n",
              "3       Comedy Drama Romance vietnam veteran hippie me...\n",
              "4       Drama male nudity female nudity adultery midli...\n",
              "                              ...                        \n",
              "4755    Horror   The hot spot where Satan's waitin'. L...\n",
              "4756    Comedy Family Drama   It’s better to stand out...\n",
              "4757    Thriller Drama christian film sex trafficking ...\n",
              "4758                                       Family        \n",
              "4759    Documentary music actors legendary perfomer cl...\n",
              "Length: 4760, dtype: object"
            ]
          },
          "metadata": {},
          "execution_count": 16
        }
      ]
    },
    {
      "cell_type": "code",
      "source": [
        "X.shape"
      ],
      "metadata": {
        "id": "hOgntAssD7IH",
        "colab": {
          "base_uri": "https://localhost:8080/"
        },
        "outputId": "c12799bf-01f7-43f5-8bab-801e7297f54d"
      },
      "execution_count": null,
      "outputs": [
        {
          "output_type": "execute_result",
          "data": {
            "text/plain": [
              "(4760,)"
            ]
          },
          "metadata": {},
          "execution_count": 17
        }
      ]
    },
    {
      "cell_type": "markdown",
      "source": [
        "# Get Feature Text Conversion to Tokens"
      ],
      "metadata": {
        "id": "sVbkAUJL_8ax"
      }
    },
    {
      "cell_type": "code",
      "source": [
        "from sklearn.feature_extraction.text import TfidfVectorizer"
      ],
      "metadata": {
        "id": "va2CSMFWD7Oq"
      },
      "execution_count": null,
      "outputs": []
    },
    {
      "cell_type": "code",
      "source": [
        "Tfidf = TfidfVectorizer()"
      ],
      "metadata": {
        "id": "pZS48T9MD7Um"
      },
      "execution_count": null,
      "outputs": []
    },
    {
      "cell_type": "code",
      "source": [
        "X = Tfidf.fit_transform(X)"
      ],
      "metadata": {
        "id": "GNqWiCPjD7Xi"
      },
      "execution_count": null,
      "outputs": []
    },
    {
      "cell_type": "code",
      "source": [
        "X.shape"
      ],
      "metadata": {
        "id": "i7hDLIFVD7ag",
        "colab": {
          "base_uri": "https://localhost:8080/"
        },
        "outputId": "f9ff6614-14fe-4385-c376-39b9149d47af"
      },
      "execution_count": null,
      "outputs": [
        {
          "output_type": "execute_result",
          "data": {
            "text/plain": [
              "(4760, 17258)"
            ]
          },
          "metadata": {},
          "execution_count": 21
        }
      ]
    },
    {
      "cell_type": "code",
      "source": [
        "print(X)"
      ],
      "metadata": {
        "id": "yDD23jQ2D7dV",
        "colab": {
          "base_uri": "https://localhost:8080/"
        },
        "outputId": "0db4998f-6740-4e3a-b231-f3308dbe70b6"
      },
      "execution_count": null,
      "outputs": [
        {
          "output_type": "stream",
          "name": "stdout",
          "text": [
            "  (0, 617)\t0.1633382144407513\n",
            "  (0, 492)\t0.1432591540388685\n",
            "  (0, 15413)\t0.1465525095337543\n",
            "  (0, 9675)\t0.14226057295252661\n",
            "  (0, 9465)\t0.1659841367820977\n",
            "  (0, 1390)\t0.16898383612799558\n",
            "  (0, 7825)\t0.09799561597509843\n",
            "  (0, 1214)\t0.13865857545144072\n",
            "  (0, 729)\t0.13415063359531618\n",
            "  (0, 13093)\t0.1432591540388685\n",
            "  (0, 15355)\t0.10477815972666779\n",
            "  (0, 9048)\t0.0866842116160778\n",
            "  (0, 11161)\t0.06250380151644369\n",
            "  (0, 16773)\t0.17654247479915475\n",
            "  (0, 5612)\t0.08603537588547631\n",
            "  (0, 16735)\t0.10690083751525419\n",
            "  (0, 7904)\t0.13348000542112332\n",
            "  (0, 15219)\t0.09800472886453934\n",
            "  (0, 11242)\t0.07277788238484746\n",
            "  (0, 3878)\t0.11998399582562203\n",
            "  (0, 5499)\t0.11454057510303811\n",
            "  (0, 7071)\t0.19822417598406614\n",
            "  (0, 7454)\t0.14745635785412262\n",
            "  (0, 1495)\t0.19712637387361423\n",
            "  (0, 9206)\t0.15186283580984414\n",
            "  :\t:\n",
            "  (4757, 5455)\t0.12491480594769522\n",
            "  (4757, 2967)\t0.16273475835631626\n",
            "  (4757, 8464)\t0.23522565554066333\n",
            "  (4757, 6938)\t0.17088173678136628\n",
            "  (4757, 8379)\t0.17480603856721913\n",
            "  (4757, 15303)\t0.07654356007668191\n",
            "  (4757, 15384)\t0.09754322497537371\n",
            "  (4757, 7649)\t0.11479421494340192\n",
            "  (4757, 10896)\t0.14546473055066447\n",
            "  (4757, 4494)\t0.05675298448720501\n",
            "  (4758, 5238)\t1.0\n",
            "  (4759, 11264)\t0.33947721804318337\n",
            "  (4759, 11708)\t0.33947721804318337\n",
            "  (4759, 205)\t0.3237911628497312\n",
            "  (4759, 8902)\t0.3040290704566037\n",
            "  (4759, 14062)\t0.3237911628497312\n",
            "  (4759, 3058)\t0.2812896191863103\n",
            "  (4759, 7130)\t0.26419662449963793\n",
            "  (4759, 10761)\t0.3126617295732147\n",
            "  (4759, 4358)\t0.18306542312175342\n",
            "  (4759, 14051)\t0.20084315377640435\n",
            "  (4759, 5690)\t0.19534291014627303\n",
            "  (4759, 15431)\t0.19628653185946862\n",
            "  (4759, 1490)\t0.21197258705292082\n",
            "  (4759, 10666)\t0.15888268987343043\n"
          ]
        }
      ]
    },
    {
      "cell_type": "markdown",
      "source": [
        "# Get Similarity Score using Cosine Similarity"
      ],
      "metadata": {
        "id": "eTagGohTBr8x"
      }
    },
    {
      "cell_type": "markdown",
      "source": [],
      "metadata": {
        "id": "T1F0GWw8CBnX"
      }
    },
    {
      "cell_type": "code",
      "source": [
        "from sklearn.metrics.pairwise import cosine_similarity"
      ],
      "metadata": {
        "id": "IDR9bLsFBrFd"
      },
      "execution_count": null,
      "outputs": []
    },
    {
      "cell_type": "code",
      "source": [
        "Similarity_Score = cosine_similarity(X)"
      ],
      "metadata": {
        "id": "swvE4BxXCKXL"
      },
      "execution_count": null,
      "outputs": []
    },
    {
      "cell_type": "code",
      "source": [
        "Similarity_Score"
      ],
      "metadata": {
        "id": "N46tM2plD7gW",
        "colab": {
          "base_uri": "https://localhost:8080/"
        },
        "outputId": "51ccce53-ac76-452f-9d17-aafc60c6a63c"
      },
      "execution_count": null,
      "outputs": [
        {
          "output_type": "execute_result",
          "data": {
            "text/plain": [
              "array([[1.        , 0.01351235, 0.03570468, ..., 0.        , 0.        ,\n",
              "        0.        ],\n",
              "       [0.01351235, 1.        , 0.00806674, ..., 0.        , 0.        ,\n",
              "        0.        ],\n",
              "       [0.03570468, 0.00806674, 1.        , ..., 0.        , 0.08014876,\n",
              "        0.        ],\n",
              "       ...,\n",
              "       [0.        , 0.        , 0.        , ..., 1.        , 0.        ,\n",
              "        0.        ],\n",
              "       [0.        , 0.        , 0.08014876, ..., 0.        , 1.        ,\n",
              "        0.        ],\n",
              "       [0.        , 0.        , 0.        , ..., 0.        , 0.        ,\n",
              "        1.        ]])"
            ]
          },
          "metadata": {},
          "execution_count": 26
        }
      ]
    },
    {
      "cell_type": "code",
      "source": [
        "Similarity_Score.shape"
      ],
      "metadata": {
        "id": "i9i4RmCGD7jV",
        "colab": {
          "base_uri": "https://localhost:8080/"
        },
        "outputId": "a27e4cb1-86b9-42f2-e10b-429d4ebaf08b"
      },
      "execution_count": null,
      "outputs": [
        {
          "output_type": "execute_result",
          "data": {
            "text/plain": [
              "(4760, 4760)"
            ]
          },
          "metadata": {},
          "execution_count": 27
        }
      ]
    },
    {
      "cell_type": "markdown",
      "source": [
        "# Get Movie Name as Input form User and validate for Closest Spelling"
      ],
      "metadata": {
        "id": "tQMTuNmpCpBr"
      }
    },
    {
      "cell_type": "code",
      "source": [
        "Favourite_Movie_Name = input(' Enter your favourite movie name : ')"
      ],
      "metadata": {
        "id": "0gh_Nr2kD7p3",
        "colab": {
          "base_uri": "https://localhost:8080/"
        },
        "outputId": "6a7f1d11-e27b-4746-9485-f4dda1221eac"
      },
      "execution_count": null,
      "outputs": [
        {
          "name": "stdout",
          "output_type": "stream",
          "text": [
            " Enter your favourite movie name : harry potter\n"
          ]
        }
      ]
    },
    {
      "cell_type": "code",
      "source": [
        "All_Movies_Title_List = df['Movie_Title'].tolist()"
      ],
      "metadata": {
        "id": "06iee7PtD7xo"
      },
      "execution_count": null,
      "outputs": []
    },
    {
      "cell_type": "code",
      "source": [
        "import difflib"
      ],
      "metadata": {
        "id": "xik-M3-lD70x"
      },
      "execution_count": null,
      "outputs": []
    },
    {
      "cell_type": "code",
      "source": [
        "Movies_Recommendation = difflib.get_close_matches(Favourite_Movie_Name, All_Movies_Title_List)\n",
        "print(Movies_Recommendation)"
      ],
      "metadata": {
        "id": "xPAIHMPbD73m",
        "colab": {
          "base_uri": "https://localhost:8080/"
        },
        "outputId": "605072e7-1423-4570-f569-9dca08283084"
      },
      "execution_count": null,
      "outputs": [
        {
          "output_type": "stream",
          "name": "stdout",
          "text": [
            "['Party Monster']\n"
          ]
        }
      ]
    },
    {
      "cell_type": "code",
      "source": [
        "Close_Match = Movies_Recommendation[0]\n",
        "print(Close_Match)"
      ],
      "metadata": {
        "colab": {
          "base_uri": "https://localhost:8080/"
        },
        "id": "kYx1NZ2CEgJ5",
        "outputId": "799a3bf9-c38e-4e33-a029-c422843bd3a2"
      },
      "execution_count": null,
      "outputs": [
        {
          "output_type": "stream",
          "name": "stdout",
          "text": [
            "Party Monster\n"
          ]
        }
      ]
    },
    {
      "cell_type": "code",
      "source": [
        "Index_of_Close_Match_Movie = df[df.Movie_Title == Close_Match]['Movie_ID'].values[0]\n",
        "print(Index_of_Close_Match_Movie)"
      ],
      "metadata": {
        "colab": {
          "base_uri": "https://localhost:8080/"
        },
        "id": "EbC1NjwkEgQu",
        "outputId": "03c116b9-9fc0-4217-d46a-e052d364f94b"
      },
      "execution_count": null,
      "outputs": [
        {
          "output_type": "stream",
          "name": "stdout",
          "text": [
            "480\n"
          ]
        }
      ]
    },
    {
      "cell_type": "code",
      "source": [
        "# getting the list of similar movies\n",
        "Recommendation_Score = list(enumerate(Similarity_Score[Index_of_Close_Match_Movie]))\n",
        "print(Recommendation_Score)"
      ],
      "metadata": {
        "id": "FlsjhadhEgXl",
        "colab": {
          "base_uri": "https://localhost:8080/"
        },
        "outputId": "8b922968-bdd0-496f-a5c0-b0ee70de8198"
      },
      "execution_count": null,
      "outputs": [
        {
          "output_type": "stream",
          "name": "stdout",
          "text": [
            "[(0, 0.0), (1, 0.0), (2, 0.0), (3, 0.011470864026860761), (4, 0.002704110228569881), (5, 0.002570480247003558), (6, 0.022032810642776825), (7, 0.0018410581132613094), (8, 0.0027833013825401135), (9, 0.009247162243547888), (10, 0.0), (11, 0.029196887062632976), (12, 0.016422784406920778), (13, 0.0), (14, 0.0), (15, 0.0023638906762485615), (16, 0.0021361075547300054), (17, 0.010614732635948811), (18, 0.023126549114252777), (19, 0.002472706068728217), (20, 0.002680656630612257), (21, 0.002740680125769926), (22, 0.010411203475332316), (23, 0.002670713268908979), (24, 0.001673869436510061), (25, 0.010793534939592411), (26, 0.002507618553499501), (27, 0.0), (28, 0.020791484358950937), (29, 0.0024405729582904117), (30, 0.0), (31, 0.012271542747085815), (32, 0.002247470110954674), (33, 0.017100995179831557), (34, 0.002666827121899561), (35, 0.03604999959447062), (36, 0.025586721002232755), (37, 0.0), (38, 0.0), (39, 0.0), (40, 0.0), (41, 0.02683670115908507), (42, 0.017914197386591522), (43, 0.002352381991069638), (44, 0.002133392534340949), (45, 0.0), (46, 0.01949131016174083), (47, 0.077472002527489), (48, 0.002823882048717133), (49, 0.010163427048510405), (50, 0.0), (51, 0.002696424078436588), (52, 0.01850197447143161), (53, 0.009468855100200619), (54, 0.010147911794989249), (55, 0.010441167048580344), (56, 0.010173841217714991), (57, 0.0082411581064287), (58, 0.008378640548757092), (59, 0.0), (60, 0.01074024608018007), (61, 0.012395734177108935), (62, 0.002829532948612012), (63, 0.0020396907082814455), (64, 0.0), (65, 0.0), (66, 0.0025578555940586104), (67, 0.0), (68, 0.0027180390721298097), (69, 0.0), (70, 0.0), (71, 0.012862606417578056), (72, 0.01698537622807733), (73, 0.0), (74, 0.002725689448856021), (75, 0.0), (76, 0.010457158855690636), (77, 0.028624019029306027), (78, 0.0), (79, 0.0025548633765764225), (80, 0.0), (81, 0.027230949855620256), (82, 0.0019448308961620944), (83, 0.0), (84, 0.010266513359286435), (85, 0.04327378288753552), (86, 0.0), (87, 0.002474045665348016), (88, 0.0), (89, 0.0), (90, 0.0), (91, 0.0), (92, 0.013533985800235683), (93, 0.035534017195967424), (94, 0.0), (95, 0.0), (96, 0.037513537920941885), (97, 0.030160761695643586), (98, 0.002509527857712903), (99, 0.0), (100, 0.0), (101, 0.0), (102, 0.0), (103, 0.0022197999928091038), (104, 0.002579034250977643), (105, 0.0025417519978169563), (106, 0.001972846957685996), (107, 0.04041114387086964), (108, 0.054683877714048), (109, 0.0025550898210769525), (110, 0.0), (111, 0.00238074994188693), (112, 0.0024673480964730096), (113, 0.0021075090520014713), (114, 0.002565292289396709), (115, 0.053098387525309286), (116, 0.0118498529237097), (117, 0.02016765440722717), (118, 0.0), (119, 0.0025143928452040845), (120, 0.0026431418425358006), (121, 0.0023554799571663715), (122, 0.009204952502193053), (123, 0.002803959910802884), (124, 0.002340175753908256), (125, 0.011439599985799562), (126, 0.0024180710464595558), (127, 0.0024954304933279907), (128, 0.011632231652054983), (129, 0.00911161894851318), (130, 0.009071631317637604), (131, 0.0), (132, 0.03516394269013179), (133, 0.0), (134, 0.0), (135, 0.0), (136, 0.011594385150359173), (137, 0.017283893896557465), (138, 0.0), (139, 0.0), (140, 0.002400700209292216), (141, 0.01097567960427876), (142, 0.0021204011550654766), (143, 0.0), (144, 0.0), (145, 0.0), (146, 0.0), (147, 0.002217284538303397), (148, 0.0), (149, 0.012699642282647975), (150, 0.0), (151, 0.0), (152, 0.010182634323786167), (153, 0.02533423165242474), (154, 0.03991502885832285), (155, 0.0), (156, 0.002081952888962246), (157, 0.002440843110124338), (158, 0.002298893941795268), (159, 0.0020058186230221616), (160, 0.0), (161, 0.0023036291941129655), (162, 0.010975205437779809), (163, 0.0), (164, 0.002438659415417022), (165, 0.029710300088257695), (166, 0.011523666616545726), (167, 0.0024758683996499104), (168, 0.010072454587344425), (169, 0.002517990301187037), (170, 0.0), (171, 0.0), (172, 0.002570981227643323), (173, 0.0026860039815226624), (174, 0.0025314589243477996), (175, 0.0021640857720192502), (176, 0.002633439440040602), (177, 0.008518481439065962), (178, 0.029659890213580217), (179, 0.009604868213232374), (180, 0.02939331933124879), (181, 0.00992604709837658), (182, 0.002583290995124004), (183, 0.05988291724417273), (184, 0.043809106184498285), (185, 0.0), (186, 0.06516563043657105), (187, 0.0), (188, 0.020344323894036405), (189, 0.0), (190, 0.03238028121179328), (191, 0.008915605448661768), (192, 0.0027719051833188443), (193, 0.0327315948825698), (194, 0.0020562405315981084), (195, 0.0021541622091503457), (196, 0.016863159473084508), (197, 0.0024198734814229986), (198, 0.02387775817314777), (199, 0.06595240640913604), (200, 0.002264554456902947), (201, 0.0), (202, 0.0016816747786567781), (203, 0.08228515649168847), (204, 0.01311697800772952), (205, 0.011102957011998378), (206, 0.01331857150343492), (207, 0.0), (208, 0.002720888011647901), (209, 0.002586070887073845), (210, 0.0027621137734187102), (211, 0.0026788240911186016), (212, 0.0023984382576629514), (213, 0.04358989949336799), (214, 0.0), (215, 0.0486809429434249), (216, 0.002657004482760955), (217, 0.0), (218, 0.011462516151950018), (219, 0.0), (220, 0.0), (221, 0.020491848957701415), (222, 0.0022557230254548594), (223, 0.0), (224, 0.001960837412516817), (225, 0.0), (226, 0.00256250342569936), (227, 0.0027389604838910274), (228, 0.054780062108490485), (229, 0.0023893324092120203), (230, 0.009731248602556794), (231, 0.03308183288962443), (232, 0.010758745441819371), (233, 0.0), (234, 0.0), (235, 0.002892710298944886), (236, 0.0024073297581045767), (237, 0.008506610686635795), (238, 0.01280563960886885), (239, 0.0), (240, 0.027282263124659582), (241, 0.01045967954817728), (242, 0.0022189295106434413), (243, 0.0018043278983576963), (244, 0.010257572695208437), (245, 0.0), (246, 0.016355010786403827), (247, 0.01241416985267552), (248, 0.0), (249, 0.002247610671007426), (250, 0.0), (251, 0.0021966277472634), (252, 0.002270135286281061), (253, 0.02195019023746211), (254, 0.0028247916261914486), (255, 0.002683734150512711), (256, 0.0019146731717494011), (257, 0.008724414852444583), (258, 0.010556981794137412), (259, 0.02651064573964339), (260, 0.0), (261, 0.0), (262, 0.0026923572697170797), (263, 0.016573715978330506), (264, 0.017537858265036108), (265, 0.0), (266, 0.014888976765617831), (267, 0.013032689324987148), (268, 0.002285814594986649), (269, 0.024193082886726735), (270, 0.0026803329676572895), (271, 0.0019641190981089783), (272, 0.0), (273, 0.0), (274, 0.002942674477773853), (275, 0.0), (276, 0.0024164870253460743), (277, 0.008783640637426244), (278, 0.01729124885326796), (279, 0.0023992389106278324), (280, 0.029149755427058246), (281, 0.0028932022661805053), (282, 0.04043819810080651), (283, 0.021387777157632626), (284, 0.0), (285, 0.05266303597665568), (286, 0.02419452928926949), (287, 0.0024047741841691814), (288, 0.0), (289, 0.0), (290, 0.0), (291, 0.009557561496326323), (292, 0.002486521287597624), (293, 0.0018222588006594537), (294, 0.0), (295, 0.0), (296, 0.0019208049424562616), (297, 0.01057163613412301), (298, 0.03295513364433068), (299, 0.03154271194892205), (300, 0.009519940257838934), (301, 0.010570241317954261), (302, 0.04235676644574286), (303, 0.025285284433200682), (304, 0.0), (305, 0.0), (306, 0.0), (307, 0.022074518907637675), (308, 0.00286586658015196), (309, 0.0020384238482880836), (310, 0.030222650024639836), (311, 0.0), (312, 0.03329673343837832), (313, 0.0), (314, 0.0), (315, 0.0), (316, 0.0), (317, 0.002244095017135154), (318, 0.0028007710543035283), (319, 0.0), (320, 0.018360621509011493), (321, 0.0), (322, 0.0), (323, 0.0), (324, 0.027693590637825415), (325, 0.002421812697661905), (326, 0.003138604507471795), (327, 0.0), (328, 0.012447076442705563), (329, 0.0024861681815313403), (330, 0.0017708289313198274), (331, 0.0), (332, 0.007482098565191511), (333, 0.0), (334, 0.009435043131174064), (335, 0.0), (336, 0.019727175344550176), (337, 0.0), (338, 0.009116714572299), (339, 0.00966992791067642), (340, 0.010736374635175709), (341, 0.0), (342, 0.0027918726039947374), (343, 0.02840865852519025), (344, 0.0), (345, 0.0), (346, 0.0025466192163023775), (347, 0.0), (348, 0.015223759981635313), (349, 0.03299429247091823), (350, 0.03972380736450152), (351, 0.0019553000356337994), (352, 0.0), (353, 0.06354374803909377), (354, 0.019191071984082844), (355, 0.037760305099251205), (356, 0.002444594601805142), (357, 0.03337866876153129), (358, 0.02922257981833248), (359, 0.03269857138841856), (360, 0.0), (361, 0.044876638304331695), (362, 0.011032642793011116), (363, 0.010919116974565312), (364, 0.0022048373044557543), (365, 0.011096636614053532), (366, 0.01369050615143254), (367, 0.0), (368, 0.0), (369, 0.0), (370, 0.021517661208729683), (371, 0.03619468386391013), (372, 0.014329156254151687), (373, 0.0024288728222172204), (374, 0.07476684327723661), (375, 0.02646642111388766), (376, 0.018216699538152595), (377, 0.002640617052269731), (378, 0.002573830967967696), (379, 0.0), (380, 0.0), (381, 0.029938868409426098), (382, 0.00919082562787548), (383, 0.0), (384, 0.02719973164964016), (385, 0.03492362408794769), (386, 0.026690108063033326), (387, 0.06285204164663011), (388, 0.012317842366819771), (389, 0.06018160236127468), (390, 0.045799723055382734), (391, 0.0), (392, 0.0), (393, 0.060087000536360964), (394, 0.0), (395, 0.013470689670240468), (396, 0.0024628162747665754), (397, 0.0), (398, 0.016904483427183453), (399, 0.03152232280664623), (400, 0.00253932405114485), (401, 0.03726983873496781), (402, 0.0031242748102344514), (403, 0.023897684911147105), (404, 0.00969728940176012), (405, 0.0), (406, 0.0026147943761330714), (407, 0.022622598749062372), (408, 0.002423059825446607), (409, 0.009653546727612618), (410, 0.0023843301326677683), (411, 0.02660190542199347), (412, 0.010660116213022734), (413, 0.0), (414, 0.00750389226392119), (415, 0.010554471001692038), (416, 0.025836996875518638), (417, 0.0), (418, 0.0), (419, 0.03175481553180402), (420, 0.0), (421, 0.0), (422, 0.0), (423, 0.0), (424, 0.0), (425, 0.04743669827020846), (426, 0.0), (427, 0.0), (428, 0.026386397147963227), (429, 0.0026859407960243093), (430, 0.013513741256741355), (431, 0.003022437596708767), (432, 0.002180264944231113), (433, 0.002096399599594613), (434, 0.03874128458019493), (435, 0.015398232660180032), (436, 0.032699069025158435), (437, 0.00243179707431301), (438, 0.008571927979831575), (439, 0.0), (440, 0.010382978697934754), (441, 0.053957379865196595), (442, 0.03288738929960116), (443, 0.0029642873610810794), (444, 0.002855578854259156), (445, 0.0021939820152251), (446, 0.0025000844507777928), (447, 0.002661193447171482), (448, 0.0029581669048731815), (449, 0.021284173969935743), (450, 0.014317740170513682), (451, 0.010035726281702068), (452, 0.021235466885572752), (453, 0.02234829513539107), (454, 0.0), (455, 0.0018186068933328079), (456, 0.013302291787766369), (457, 0.002352214009577425), (458, 0.002859648100866316), (459, 0.0), (460, 0.0), (461, 0.0), (462, 0.0), (463, 0.0023751795886628115), (464, 0.0025332564637610727), (465, 0.002339766519489045), (466, 0.002533755622865403), (467, 0.01263344786200284), (468, 0.03969484457686147), (469, 0.0192566194971627), (470, 0.013761826435411025), (471, 0.0023933363686860255), (472, 0.0026384666515394026), (473, 0.002318635611624696), (474, 0.0), (475, 0.07991761921108), (476, 0.002813262619151499), (477, 0.0), (478, 0.0029004966260620527), (479, 0.0025598285490455834), (480, 1.0000000000000002), (481, 0.014190116435863931), (482, 0.0026750329895247438), (483, 0.01325643526363405), (484, 0.0), (485, 0.002746485095854563), (486, 0.0), (487, 0.0024533655462856433), (488, 0.014875214030484817), (489, 0.0030658158179378745), (490, 0.0025378175092046814), (491, 0.011681942986070266), (492, 0.11679034919160668), (493, 0.04228765535780064), (494, 0.0), (495, 0.011104791904495518), (496, 0.013129688687559548), (497, 0.009330879979100246), (498, 0.009526373265330675), (499, 0.0027890708737848763), (500, 0.03294420176193795), (501, 0.0), (502, 0.013660110673460905), (503, 0.0), (504, 0.002578343101314831), (505, 0.00243466250081152), (506, 0.008497180907276788), (507, 0.0024064489198310376), (508, 0.002946845340972786), (509, 0.002628258250766518), (510, 0.035472741043446235), (511, 0.017294656950249496), (512, 0.0), (513, 0.0), (514, 0.0), (515, 0.018096800950595307), (516, 0.0), (517, 0.0), (518, 0.0030045103606865017), (519, 0.002262865081787234), (520, 0.009161648807568557), (521, 0.0), (522, 0.032543974639495), (523, 0.0), (524, 0.0023510980767416007), (525, 0.0), (526, 0.0032227474303910915), (527, 0.012174894488565437), (528, 0.010174656941029363), (529, 0.0), (530, 0.0), (531, 0.0), (532, 0.0), (533, 0.08135405884025713), (534, 0.0025312376527787906), (535, 0.0), (536, 0.0), (537, 0.0), (538, 0.0226897990528762), (539, 0.0), (540, 0.0), (541, 0.002478926237893324), (542, 0.0017971921615590608), (543, 0.002669247345669777), (544, 0.0026007618191461425), (545, 0.0), (546, 0.009641246592547118), (547, 0.0021607668402390742), (548, 0.03663672721805038), (549, 0.0), (550, 0.03350067825645782), (551, 0.002661635759230004), (552, 0.016856865472263234), (553, 0.011938653015352883), (554, 0.0), (555, 0.0), (556, 0.0), (557, 0.0), (558, 0.0023632543651587973), (559, 0.0), (560, 0.0), (561, 0.01237934873870703), (562, 0.0019443096986688933), (563, 0.011765920193518043), (564, 0.04155277999123972), (565, 0.017736528906291467), (566, 0.0021501351251461474), (567, 0.0), (568, 0.018535612837801897), (569, 0.009155867813863516), (570, 0.013648429614353579), (571, 0.021738663252775344), (572, 0.05055991557186233), (573, 0.027450318796449373), (574, 0.0), (575, 0.0), (576, 0.0028890677410724846), (577, 0.03509498209386428), (578, 0.030237317566527432), (579, 0.0025979663507058187), (580, 0.020979245264292866), (581, 0.0023095425190200933), (582, 0.0), (583, 0.0), (584, 0.015912834316294068), (585, 0.02643918649034467), (586, 0.02133139464189892), (587, 0.0028185812362161427), (588, 0.020862140590988787), (589, 0.0023751798290272685), (590, 0.0222287701128203), (591, 0.014074443325451862), (592, 0.010149134032536453), (593, 0.002614030290373155), (594, 0.06465058001375393), (595, 0.036367819308362845), (596, 0.0028715538460607924), (597, 0.0023038063074513546), (598, 0.002387869306378577), (599, 0.0), (600, 0.0), (601, 0.0), (602, 0.0), (603, 0.0), (604, 0.09441605765072442), (605, 0.002255102058509328), (606, 0.002646464025275235), (607, 0.028009792168885595), (608, 0.011827911607873432), (609, 0.010352970942425484), (610, 0.009935145997774352), (611, 0.004117596026820469), (612, 0.0027210504652597006), (613, 0.03783779811435574), (614, 0.027671993622605584), (615, 0.010351130871762048), (616, 0.00213573956176726), (617, 0.0021637933781282754), (618, 0.0), (619, 0.03131052579390849), (620, 0.002461531963930997), (621, 0.0), (622, 0.002723251071943429), (623, 0.0027219550653751735), (624, 0.011934932081596362), (625, 0.0), (626, 0.0021719033898452912), (627, 0.003470318099177722), (628, 0.002583927704135218), (629, 0.0), (630, 0.0), (631, 0.0432272854121009), (632, 0.0), (633, 0.020544397274741583), (634, 0.016491636950686197), (635, 0.01090965914387368), (636, 0.002588279395905128), (637, 0.002653948518210207), (638, 0.018503836153535173), (639, 0.008437900500542304), (640, 0.008365318756027371), (641, 0.001835255530614067), (642, 0.002213701219202753), (643, 0.0024834749458558076), (644, 0.05639596649669332), (645, 0.01580444220649599), (646, 0.014789109168882894), (647, 0.002248651439287193), (648, 0.0), (649, 0.0), (650, 0.0), (651, 0.014847530288404331), (652, 0.002621407026575291), (653, 0.022503312304498507), (654, 0.0), (655, 0.002393266309359578), (656, 0.0), (657, 0.002275867793141308), (658, 0.0), (659, 0.02984313769858027), (660, 0.013629985371036794), (661, 0.0), (662, 0.00968845314840307), (663, 0.0), (664, 0.0), (665, 0.0), (666, 0.0), (667, 0.0), (668, 0.021743562891832508), (669, 0.02165368245800668), (670, 0.0031584276342042634), (671, 0.0), (672, 0.0022853002926842697), (673, 0.002796745149718203), (674, 0.009905397751543863), (675, 0.0027948855004950117), (676, 0.028925343156275082), (677, 0.0), (678, 0.0), (679, 0.0), (680, 0.002725552212261638), (681, 0.0), (682, 0.0), (683, 0.0028932747840656626), (684, 0.01726872593812512), (685, 0.0), (686, 0.0), (687, 0.0), (688, 0.014454510685400847), (689, 0.0025487981317631253), (690, 0.0), (691, 0.002071353153153542), (692, 0.0), (693, 0.0024944076183565245), (694, 0.020267439067065168), (695, 0.0), (696, 0.06337709930775409), (697, 0.023632109812570478), (698, 0.002424781218384285), (699, 0.008986164751068292), (700, 0.0109632604425997), (701, 0.00286085492165203), (702, 0.0), (703, 0.020466654159030453), (704, 0.0), (705, 0.02740712757345134), (706, 0.02369774168489394), (707, 0.02694722035113493), (708, 0.0), (709, 0.0), (710, 0.009740994486721968), (711, 0.0), (712, 0.011092628756115021), (713, 0.06563400202313817), (714, 0.021810212902900555), (715, 0.03764083368463133), (716, 0.0026875039811460858), (717, 0.002672629610287911), (718, 0.0), (719, 0.012355039487515599), (720, 0.009610565021489267), (721, 0.0029364875302174617), (722, 0.002302829379510896), (723, 0.016075688651850963), (724, 0.009923657619333117), (725, 0.03533752691498912), (726, 0.03941744377622759), (727, 0.07693166637834914), (728, 0.0027642070402247518), (729, 0.0028578719591456424), (730, 0.022194841148858533), (731, 0.01248164155052765), (732, 0.01727427792605189), (733, 0.018647870654189543), (734, 0.014402741900394915), (735, 0.0034995823249716097), (736, 0.010059564622378312), (737, 0.0028906275020923904), (738, 0.0), (739, 0.022080784977319357), (740, 0.0017192675126407686), (741, 0.0), (742, 0.01818951656310801), (743, 0.002633567634816622), (744, 0.002370091425092205), (745, 0.024652336371898398), (746, 0.0), (747, 0.0), (748, 0.0), (749, 0.0025643954112538605), (750, 0.031135860569355644), (751, 0.012058145427658184), (752, 0.010456798638935224), (753, 0.0), (754, 0.0), (755, 0.04057189815380638), (756, 0.0), (757, 0.0020471702349053236), (758, 0.010566775331717045), (759, 0.0023334033271192227), (760, 0.0), (761, 0.0025632353918260712), (762, 0.014551264538726159), (763, 0.0), (764, 0.0), (765, 0.0), (766, 0.0023713449094256737), (767, 0.0024311334601209065), (768, 0.0), (769, 0.0025293043987793334), (770, 0.009229506428745475), (771, 0.0), (772, 0.0), (773, 0.01837023701518717), (774, 0.002655493117931697), (775, 0.0), (776, 0.0), (777, 0.003080265089855487), (778, 0.0), (779, 0.008541728090976659), (780, 0.0), (781, 0.010523482074390075), (782, 0.002459268647636695), (783, 0.02970094233722571), (784, 0.0), (785, 0.0), (786, 0.0), (787, 0.01837872057397743), (788, 0.004706240620587008), (789, 0.0), (790, 0.01697489264063044), (791, 0.002753203669564813), (792, 0.01635890697282451), (793, 0.0), (794, 0.0027696728660456466), (795, 0.0), (796, 0.012767851307063685), (797, 0.0), (798, 0.0024457336786628007), (799, 0.11267625880381191), (800, 0.03476710192768931), (801, 0.0), (802, 0.0), (803, 0.0), (804, 0.025359062161546573), (805, 0.0023699384983676334), (806, 0.01996935723912466), (807, 0.007933814253048297), (808, 0.020746917485089274), (809, 0.0), (810, 0.03547436774434922), (811, 0.0), (812, 0.016559885240158972), (813, 0.0028784504624498218), (814, 0.017990845993324338), (815, 0.025189116331555076), (816, 0.0020859345831509093), (817, 0.06999585160142718), (818, 0.0024211455398508055), (819, 0.009471151710648006), (820, 0.0), (821, 0.0), (822, 0.010034843109562428), (823, 0.01772645227797117), (824, 0.02231022289583831), (825, 0.0), (826, 0.0027332621895490667), (827, 0.0), (828, 0.014527590723036093), (829, 0.002354312064955058), (830, 0.0026940569365174814), (831, 0.0018092664723911894), (832, 0.0026058685184123585), (833, 0.0), (834, 0.0), (835, 0.0), (836, 0.00880920670436351), (837, 0.0), (838, 0.0023830956335038323), (839, 0.0), (840, 0.0), (841, 0.0), (842, 0.0), (843, 0.012647091097259505), (844, 0.005524765115220577), (845, 0.002683071970467618), (846, 0.027302069976030297), (847, 0.002938908918809067), (848, 0.002584644699765702), (849, 0.009985971956071751), (850, 0.002609078316306447), (851, 0.010999001320359414), (852, 0.02697050000751333), (853, 0.01189057291523869), (854, 0.0024458689751751883), (855, 0.0), (856, 0.013727399725086542), (857, 0.049005381365614435), (858, 0.0017304335997538978), (859, 0.0651656199780383), (860, 0.002969423913235333), (861, 0.011236213898661206), (862, 0.0), (863, 0.011927225103329619), (864, 0.0025896805919154737), (865, 0.05069744653956147), (866, 0.0023825387675195913), (867, 0.0025258091868951417), (868, 0.014278663261920128), (869, 0.0), (870, 0.0025060068102229797), (871, 0.0026332856214712802), (872, 0.0027436834567623417), (873, 0.0), (874, 0.0022101437848140674), (875, 0.03328832281435318), (876, 0.002925277133527645), (877, 0.0), (878, 0.014525521362007052), (879, 0.0026737856360672606), (880, 0.012375124974299743), (881, 0.0), (882, 0.008857756512099708), (883, 0.049292836383261804), (884, 0.0026664107632579075), (885, 0.04074511175130964), (886, 0.022063020478666817), (887, 0.038988355955004196), (888, 0.002840416262240682), (889, 0.0032983100450244274), (890, 0.002672889688361574), (891, 0.0), (892, 0.04919856040212276), (893, 0.0), (894, 0.0025387795494947263), (895, 0.002387706712149742), (896, 0.00279973163759785), (897, 0.04471511789180483), (898, 0.0), (899, 0.0023624776815642052), (900, 0.04901052209976254), (901, 0.002122750079488116), (902, 0.013146686192369446), (903, 0.0024023381357074075), (904, 0.0), (905, 0.0), (906, 0.021465184468865323), (907, 0.0023568298387193873), (908, 0.0), (909, 0.03879868968979557), (910, 0.04519709378522348), (911, 0.04470188188752649), (912, 0.051936780991935105), (913, 0.013594329961920448), (914, 0.02668888273465764), (915, 0.016852705510770682), (916, 0.0), (917, 0.002293992228796993), (918, 0.0), (919, 0.017798036634408695), (920, 0.0), (921, 0.0023852072199503265), (922, 0.002875357842032496), (923, 0.01256579712047982), (924, 0.002232366457680542), (925, 0.0029468534276499226), (926, 0.01365991996289678), (927, 0.022856240276585036), (928, 0.0), (929, 0.04125197520298835), (930, 0.0027202452676561564), (931, 0.0), (932, 0.015656008207894784), (933, 0.002617383426787887), (934, 0.03737642594381506), (935, 0.002383778762413325), (936, 0.023271880093286294), (937, 0.0029942490040786446), (938, 0.0), (939, 0.012307322751162966), (940, 0.04403403769677198), (941, 0.0024003682070518765), (942, 0.015731389946908137), (943, 0.0), (944, 0.0023877605928787167), (945, 0.0), (946, 0.0), (947, 0.003457112965634282), (948, 0.0), (949, 0.018292535966730823), (950, 0.0), (951, 0.010599133234296142), (952, 0.0027704161026787548), (953, 0.010109067381022244), (954, 0.008930769812123481), (955, 0.0), (956, 0.02552957037528538), (957, 0.011464586202649753), (958, 0.0), (959, 0.018795314188407384), (960, 0.0), (961, 0.010338670779082232), (962, 0.002430140271424251), (963, 0.0023956444517526697), (964, 0.0), (965, 0.0), (966, 0.0024197880160933805), (967, 0.0028295349360950763), (968, 0.0023215663110937403), (969, 0.030668188329948706), (970, 0.0), (971, 0.0), (972, 0.0), (973, 0.002524962086078219), (974, 0.0), (975, 0.0023992249591167102), (976, 0.0), (977, 0.01089971376674823), (978, 0.0), (979, 0.040908364849811536), (980, 0.0026487767996245548), (981, 0.002307279169649336), (982, 0.01153441548770118), (983, 0.0), (984, 0.002437802469177282), (985, 0.0029317159331803248), (986, 0.0025608984399674013), (987, 0.015951160755274255), (988, 0.04308556318286914), (989, 0.019746854112416123), (990, 0.010977016773629389), (991, 0.013477319066275245), (992, 0.0), (993, 0.02370681284365564), (994, 0.0026044790781627404), (995, 0.0), (996, 0.0), (997, 0.03336650919838573), (998, 0.06482790948604057), (999, 0.002902956719629567), (1000, 0.0023051331241787927), (1001, 0.002442597564037692), (1002, 0.0024418768912899784), (1003, 0.0), (1004, 0.002297133643059339), (1005, 0.011754783224210549), (1006, 0.0026775289085111645), (1007, 0.0026980485785896052), (1008, 0.008984842165430225), (1009, 0.025012386375704205), (1010, 0.0), (1011, 0.021445967643000892), (1012, 0.012695960528386013), (1013, 0.011079275602157537), (1014, 0.0), (1015, 0.04797096960341612), (1016, 0.0), (1017, 0.0024910441108761524), (1018, 0.0), (1019, 0.017025509338140413), (1020, 0.0024587745180389576), (1021, 0.0025528168845278783), (1022, 0.0), (1023, 0.002880824773427336), (1024, 0.0), (1025, 0.0), (1026, 0.0025148634401451135), (1027, 0.01247719970874962), (1028, 0.0), (1029, 0.052967432803586054), (1030, 0.002480820312080216), (1031, 0.0), (1032, 0.0024206334369244343), (1033, 0.0024565621340221265), (1034, 0.012495772741227845), (1035, 0.0024897499185985877), (1036, 0.0024171523719857336), (1037, 0.0125101332584409), (1038, 0.0), (1039, 0.0), (1040, 0.0020016996065386336), (1041, 0.08572034533891106), (1042, 0.012844167776534585), (1043, 0.013720478262566583), (1044, 0.027312943933191062), (1045, 0.010246395289096053), (1046, 0.008487308064216293), (1047, 0.010924620700255344), (1048, 0.0026632273840270313), (1049, 0.003038957235921447), (1050, 0.046944561860597304), (1051, 0.01222082779819815), (1052, 0.03968139431904443), (1053, 0.003014415424399614), (1054, 0.05905728299955766), (1055, 0.009124254413326571), (1056, 0.0), (1057, 0.011250941871204635), (1058, 0.0), (1059, 0.0025369055692151714), (1060, 0.0024727204792366108), (1061, 0.0), (1062, 0.0), (1063, 0.0), (1064, 0.0031049857463140897), (1065, 0.0023424376239142572), (1066, 0.0), (1067, 0.009530532089584808), (1068, 0.0), (1069, 0.04913769370064507), (1070, 0.0), (1071, 0.002734960706298608), (1072, 0.0025383879572681324), (1073, 0.0), (1074, 0.0), (1075, 0.0026997873066963015), (1076, 0.0), (1077, 0.0026182461723992293), (1078, 0.0021343013723955253), (1079, 0.0023567847329049076), (1080, 0.02118583236950379), (1081, 0.0), (1082, 0.016487654026580114), (1083, 0.002666543750889183), (1084, 0.002511263547575834), (1085, 0.028947561567995207), (1086, 0.0), (1087, 0.0026055316509911324), (1088, 0.0021908299521062537), (1089, 0.0), (1090, 0.018910576758651428), (1091, 0.0), (1092, 0.0), (1093, 0.0), (1094, 0.0), (1095, 0.0), (1096, 0.002493306062038065), (1097, 0.017175881989187226), (1098, 0.0020898575626155844), (1099, 0.0), (1100, 0.002520439480603565), (1101, 0.0), (1102, 0.0025435821964572636), (1103, 0.018090148677304855), (1104, 0.0), (1105, 0.017037012979611903), (1106, 0.009905640208145123), (1107, 0.002384499908561705), (1108, 0.010698693254870198), (1109, 0.002841830631934722), (1110, 0.002519121884082024), (1111, 0.010211251654947932), (1112, 0.002552607351308212), (1113, 0.0), (1114, 0.018491819704674943), (1115, 0.0), (1116, 0.0), (1117, 0.012534906198504038), (1118, 0.0), (1119, 0.02065998664687208), (1120, 0.017879070550532446), (1121, 0.0032108547440326323), (1122, 0.0026092167526792385), (1123, 0.02292160833252418), (1124, 0.0026570326638383755), (1125, 0.0), (1126, 0.0), (1127, 0.0), (1128, 0.027823412013573943), (1129, 0.009996335797521287), (1130, 0.01027460611731537), (1131, 0.041147703082221765), (1132, 0.01240063919720644), (1133, 0.0), (1134, 0.01711719484430947), (1135, 0.011892853672814728), (1136, 0.0022468157610002373), (1137, 0.0), (1138, 0.019574483927464595), (1139, 0.0), (1140, 0.03314747574844122), (1141, 0.0027388514478824478), (1142, 0.010468421216832866), (1143, 0.04422319327346885), (1144, 0.002043279128996598), (1145, 0.003543938868101719), (1146, 0.0), (1147, 0.0), (1148, 0.0028936325902684345), (1149, 0.0), (1150, 0.010777857738432206), (1151, 0.0), (1152, 0.0), (1153, 0.04757348001885282), (1154, 0.0), (1155, 0.010363874754070471), (1156, 0.0), (1157, 0.034644748705043846), (1158, 0.0), (1159, 0.0), (1160, 0.061975638756760314), (1161, 0.013882360019377921), (1162, 0.0), (1163, 0.0025583377360204355), (1164, 0.0), (1165, 0.022328024189251026), (1166, 0.0), (1167, 0.0183919889906378), (1168, 0.0030775504623084633), (1169, 0.002999466093522523), (1170, 0.0025657342543201696), (1171, 0.009051617209633654), (1172, 0.05828186250856052), (1173, 0.0), (1174, 0.002620007486136666), (1175, 0.048777535169719284), (1176, 0.012816173216475681), (1177, 0.012291529896468856), (1178, 0.0), (1179, 0.04100515125908233), (1180, 0.0), (1181, 0.0), (1182, 0.0026148065461150376), (1183, 0.018635092981482974), (1184, 0.002923780852149007), (1185, 0.0), (1186, 0.024756786727390033), (1187, 0.003011109491396492), (1188, 0.013695513377755496), (1189, 0.0), (1190, 0.01946917019490262), (1191, 0.0025729623019586454), (1192, 0.0026851700555937997), (1193, 0.0), (1194, 0.0), (1195, 0.01035802765794963), (1196, 0.02660549998370744), (1197, 0.00964074707029698), (1198, 0.021336811743047752), (1199, 0.0022608092871988224), (1200, 0.017260465306076403), (1201, 0.0), (1202, 0.04236677357255133), (1203, 0.0024063044268595136), (1204, 0.013238783060326517), (1205, 0.0), (1206, 0.0023957927553843587), (1207, 0.0), (1208, 0.0032674088346071233), (1209, 0.0021356913107843426), (1210, 0.0), (1211, 0.0), (1212, 0.0086204763045062), (1213, 0.0), (1214, 0.0), (1215, 0.024133754205535422), (1216, 0.00232399425899772), (1217, 0.0204311089862895), (1218, 0.11201884982705378), (1219, 0.013796431806999056), (1220, 0.04456354556230202), (1221, 0.00871734364611159), (1222, 0.010743707250916442), (1223, 0.012603980415253999), (1224, 0.029431717375542538), (1225, 0.0027036651263538983), (1226, 0.0), (1227, 0.0), (1228, 0.0), (1229, 0.0026756071855558766), (1230, 0.0), (1231, 0.0), (1232, 0.0025826247057352475), (1233, 0.0), (1234, 0.013817257731666144), (1235, 0.0), (1236, 0.0), (1237, 0.0023264535506087466), (1238, 0.0), (1239, 0.0), (1240, 0.011074503478998963), (1241, 0.03878936692436701), (1242, 0.0), (1243, 0.0027953669742148304), (1244, 0.0), (1245, 0.012170413022518853), (1246, 0.05710025135015194), (1247, 0.002475367555451902), (1248, 0.012536642366256087), (1249, 0.032490678439737505), (1250, 0.01018470358868561), (1251, 0.00226785801425081), (1252, 0.0025391818729376845), (1253, 0.009853111980265002), (1254, 0.002626630519463525), (1255, 0.012397873144104047), (1256, 0.009434816754347743), (1257, 0.027783445247264248), (1258, 0.01208834313202018), (1259, 0.01171384032728194), (1260, 0.018726608354586224), (1261, 0.0284100335404419), (1262, 0.0), (1263, 0.038527290473438364), (1264, 0.0030871506955983236), (1265, 0.0), (1266, 0.0), (1267, 0.016930537051522365), (1268, 0.017256437085157415), (1269, 0.0), (1270, 0.0), (1271, 0.011001333198641248), (1272, 0.018710540831325007), (1273, 0.03515084105596933), (1274, 0.0), (1275, 0.002957157727774656), (1276, 0.0), (1277, 0.0019165157616583518), (1278, 0.023081568835600898), (1279, 0.0), (1280, 0.0), (1281, 0.01532259918019523), (1282, 0.0), (1283, 0.024189445445044776), (1284, 0.002494814580704066), (1285, 0.0), (1286, 0.0025124937729118536), (1287, 0.0), (1288, 0.0), (1289, 0.0), (1290, 0.030138613340206784), (1291, 0.0), (1292, 0.01031110466223057), (1293, 0.0), (1294, 0.0026309503162168526), (1295, 0.010382654201759597), (1296, 0.028249764451204067), (1297, 0.0), (1298, 0.012976004275546054), (1299, 0.028851077061658497), (1300, 0.028686802349556353), (1301, 0.03413026255292514), (1302, 0.0), (1303, 0.0020663226233084237), (1304, 0.0193570297746946), (1305, 0.0021187422247915537), (1306, 0.0018682832598392602), (1307, 0.0), (1308, 0.01151910122769122), (1309, 0.0), (1310, 0.009018795237988516), (1311, 0.0), (1312, 0.0021627872346851266), (1313, 0.0025254544017107704), (1314, 0.01260731609979866), (1315, 0.0), (1316, 0.0), (1317, 0.023679804993209885), (1318, 0.0022856584109842907), (1319, 0.0025144154386518972), (1320, 0.007844178653796541), (1321, 0.0), (1322, 0.0), (1323, 0.0), (1324, 0.002733810988030297), (1325, 0.0027778305566359103), (1326, 0.017596250006163095), (1327, 0.0), (1328, 0.0), (1329, 0.0), (1330, 0.04449912609069958), (1331, 0.0), (1332, 0.04084089181798702), (1333, 0.0), (1334, 0.002630907839581409), (1335, 0.0025883734900127527), (1336, 0.0), (1337, 0.0026154088376145086), (1338, 0.0452567942025479), (1339, 0.013869274353713032), (1340, 0.011081176394232914), (1341, 0.008201343265817557), (1342, 0.0), (1343, 0.0), (1344, 0.0), (1345, 0.010462194150938766), (1346, 0.01004964988685976), (1347, 0.0), (1348, 0.0), (1349, 0.017328032750330867), (1350, 0.0024964442330296746), (1351, 0.0018900337746420048), (1352, 0.00217698606792063), (1353, 0.0), (1354, 0.011822633372827731), (1355, 0.002624494144346975), (1356, 0.0612200026764872), (1357, 0.034036505065410075), (1358, 0.0), (1359, 0.0140210585427505), (1360, 0.0023325046145892857), (1361, 0.010651057726978271), (1362, 0.02658705306192835), (1363, 0.009483362487489516), (1364, 0.02084669333895231), (1365, 0.0021641837162235966), (1366, 0.0023118074880922575), (1367, 0.01799836671759782), (1368, 0.009641220163453174), (1369, 0.002097620466610299), (1370, 0.010825865661820108), (1371, 0.0), (1372, 0.028185675596665412), (1373, 0.009680779839668316), (1374, 0.027526199330349457), (1375, 0.012401688638325676), (1376, 0.00995650289086532), (1377, 0.0020673765039092265), (1378, 0.012544754638435168), (1379, 0.020196625065438595), (1380, 0.0), (1381, 0.0), (1382, 0.013468244628346202), (1383, 0.0028930235224726886), (1384, 0.0), (1385, 0.002566077974665028), (1386, 0.010159026481993816), (1387, 0.0023135977757963453), (1388, 0.0), (1389, 0.0), (1390, 0.04084982209077929), (1391, 0.0), (1392, 0.011163014119013607), (1393, 0.0), (1394, 0.01778744360490649), (1395, 0.0), (1396, 0.0), (1397, 0.0022162665522272693), (1398, 0.0178028181925385), (1399, 0.022991163417664627), (1400, 0.013234801209039276), (1401, 0.0), (1402, 0.021052545281945785), (1403, 0.0019690779259861975), (1404, 0.002422580030152251), (1405, 0.008784952607102875), (1406, 0.0), (1407, 0.0), (1408, 0.012708116725195848), (1409, 0.002741800061478449), (1410, 0.002590243909503065), (1411, 0.01289390400298704), (1412, 0.0), (1413, 0.002600988536597848), (1414, 0.011200980590971531), (1415, 0.0020997684570161694), (1416, 0.028713066527712213), (1417, 0.0020005512519201485), (1418, 0.04360962027859637), (1419, 0.0), (1420, 0.00995188823681709), (1421, 0.0024706795301649644), (1422, 0.002495334078333767), (1423, 0.019127718427321593), (1424, 0.0), (1425, 0.0), (1426, 0.0), (1427, 0.0021008714731411025), (1428, 0.0), (1429, 0.0030810024982959477), (1430, 0.0), (1431, 0.0), (1432, 0.0), (1433, 0.0023843277523471628), (1434, 0.002339880197040743), (1435, 0.0), (1436, 0.0), (1437, 0.01188142526998992), (1438, 0.002538099456896106), (1439, 0.0026834105482711956), (1440, 0.002602419296054484), (1441, 0.0), (1442, 0.06987410284022826), (1443, 0.0), (1444, 0.0), (1445, 0.0), (1446, 0.0024559806908664517), (1447, 0.0), (1448, 0.0023680960412347687), (1449, 0.0), (1450, 0.0022085649032806314), (1451, 0.0), (1452, 0.0), (1453, 0.0), (1454, 0.014331848075551096), (1455, 0.0), (1456, 0.002378812187784445), (1457, 0.016310129094930896), (1458, 0.0), (1459, 0.0), (1460, 0.02386279377004814), (1461, 0.0), (1462, 0.011968165505851327), (1463, 0.0024709981853224703), (1464, 0.0020993430268711386), (1465, 0.0022219432944089687), (1466, 0.011648988365776766), (1467, 0.016109887948534962), (1468, 0.008857287010888512), (1469, 0.017379385003655472), (1470, 0.018128085224153313), (1471, 0.011404352830407027), (1472, 0.0025926509842786375), (1473, 0.0), (1474, 0.03259336778750899), (1475, 0.01603217283031973), (1476, 0.002596516460365065), (1477, 0.0023638723403936355), (1478, 0.002454180558907497), (1479, 0.0028109070126945608), (1480, 0.00974600213944556), (1481, 0.018728728558918103), (1482, 0.0), (1483, 0.0025429764134994085), (1484, 0.020469056653701946), (1485, 0.0), (1486, 0.0), (1487, 0.0), (1488, 0.0025692984409137376), (1489, 0.0028797888056629243), (1490, 0.0), (1491, 0.0), (1492, 0.0), (1493, 0.010108910800119778), (1494, 0.0026402294525288083), (1495, 0.032096119679614954), (1496, 0.052597374690504614), (1497, 0.0029249073975502757), (1498, 0.0028492539011503366), (1499, 0.0028689247800914464), (1500, 0.019836717553885642), (1501, 0.0), (1502, 0.013533867399438779), (1503, 0.0023236574123499214), (1504, 0.0), (1505, 0.01683633959153133), (1506, 0.0017550763507607986), (1507, 0.0), (1508, 0.0), (1509, 0.0017508115279044833), (1510, 0.012675151613174954), (1511, 0.01085075650648009), (1512, 0.010057652775897487), (1513, 0.00266973287923422), (1514, 0.0260934194704078), (1515, 0.010057673596654904), (1516, 0.0026393869255291456), (1517, 0.0), (1518, 0.02534586142953768), (1519, 0.0023699490912904323), (1520, 0.0), (1521, 0.0), (1522, 0.021766690998232086), (1523, 0.0), (1524, 0.03659807218270673), (1525, 0.03234598959579026), (1526, 0.012247057484431874), (1527, 0.0025081943086648654), (1528, 0.03728269528861158), (1529, 0.04009768742265904), (1530, 0.0), (1531, 0.0), (1532, 0.015935370530902618), (1533, 0.046794379928341776), (1534, 0.0), (1535, 0.0), (1536, 0.0), (1537, 0.0027438715189663956), (1538, 0.0023262779040283538), (1539, 0.011195516213263907), (1540, 0.0), (1541, 0.0), (1542, 0.0), (1543, 0.0023611953969678435), (1544, 0.0), (1545, 0.0), (1546, 0.0), (1547, 0.017911612649185924), (1548, 0.0), (1549, 0.0), (1550, 0.021252267770733756), (1551, 0.0), (1552, 0.025492799340875866), (1553, 0.0022618716443729074), (1554, 0.0), (1555, 0.018013992807804018), (1556, 0.0), (1557, 0.010774418754734203), (1558, 0.0023823755657404687), (1559, 0.023076027331592936), (1560, 0.0), (1561, 0.0), (1562, 0.0), (1563, 0.0), (1564, 0.0), (1565, 0.01073189914940714), (1566, 0.0), (1567, 0.0), (1568, 0.06843823255118746), (1569, 0.027801069172982626), (1570, 0.029651740213216718), (1571, 0.0021188739456664157), (1572, 0.013883963674208914), (1573, 0.0), (1574, 0.0025862606073290407), (1575, 0.0), (1576, 0.0), (1577, 0.0), (1578, 0.010524412025737838), (1579, 0.030117240593399132), (1580, 0.0028280127939803853), (1581, 0.007556468484239762), (1582, 0.0024604473107648845), (1583, 0.0), (1584, 0.0), (1585, 0.0), (1586, 0.0), (1587, 0.0), (1588, 0.0), (1589, 0.017155821021728794), (1590, 0.0), (1591, 0.04296733860705043), (1592, 0.022598928161003784), (1593, 0.0031058611466285198), (1594, 0.002869432347198064), (1595, 0.018168730981908816), (1596, 0.0), (1597, 0.0024687716544051956), (1598, 0.002529908606889017), (1599, 0.010616282562060535), (1600, 0.010782519604751174), (1601, 0.02748402205505984), (1602, 0.0), (1603, 0.033106997983399424), (1604, 0.022614111830459083), (1605, 0.002315348760024031), (1606, 0.0), (1607, 0.0), (1608, 0.0022621888060667147), (1609, 0.0), (1610, 0.009251684920517401), (1611, 0.0), (1612, 0.002552068276546266), (1613, 0.021300317917271376), (1614, 0.0), (1615, 0.011833346725638816), (1616, 0.03456786920709408), (1617, 0.0025020159846333855), (1618, 0.03284996828311637), (1619, 0.016389029161056706), (1620, 0.002396415654768412), (1621, 0.002526518769687912), (1622, 0.017216032558594444), (1623, 0.0), (1624, 0.002085516955323457), (1625, 0.002304550838877064), (1626, 0.0), (1627, 0.01073247018733114), (1628, 0.002344999781483378), (1629, 0.0026454993651534296), (1630, 0.0), (1631, 0.0), (1632, 0.0), (1633, 0.009548075463240997), (1634, 0.0025400990920592813), (1635, 0.0), (1636, 0.0), (1637, 0.0027490752767644687), (1638, 0.012766287692635778), (1639, 0.0), (1640, 0.0), (1641, 0.002376588044491283), (1642, 0.002371957728331235), (1643, 0.002690630567686338), (1644, 0.0), (1645, 0.0024758698074860822), (1646, 0.0), (1647, 0.026467062568874804), (1648, 0.001913909937987909), (1649, 0.060219445681730654), (1650, 0.002376487643093955), (1651, 0.0), (1652, 0.008863436321839818), (1653, 0.019578090444020077), (1654, 0.016024501373411274), (1655, 0.003117505897528822), (1656, 0.03232512361723976), (1657, 0.0), (1658, 0.031215494857388257), (1659, 0.0), (1660, 0.0026777515033637104), (1661, 0.0356096041877014), (1662, 0.0), (1663, 0.002414395744231531), (1664, 0.0315325184483739), (1665, 0.0023996233590045666), (1666, 0.00252733591022318), (1667, 0.002361945942536504), (1668, 0.026958296331665094), (1669, 0.01229504701696845), (1670, 0.002697430257654016), (1671, 0.019437568391571743), (1672, 0.002346140380032993), (1673, 0.0), (1674, 0.0), (1675, 0.03927108819195133), (1676, 0.0), (1677, 0.002016296982157114), (1678, 0.0025482123669904318), (1679, 0.0), (1680, 0.0023275756082901137), (1681, 0.0), (1682, 0.002405022656855456), (1683, 0.013435437778019001), (1684, 0.01793782143267271), (1685, 0.0027115398596622028), (1686, 0.0), (1687, 0.0027173115223125288), (1688, 0.002613370713542724), (1689, 0.04228151668619179), (1690, 0.0023090431677247085), (1691, 0.0021867773881376466), (1692, 0.0), (1693, 0.0024063023966171214), (1694, 0.0), (1695, 0.0), (1696, 0.0), (1697, 0.010285674195435138), (1698, 0.0), (1699, 0.0), (1700, 0.0), (1701, 0.0), (1702, 0.0), (1703, 0.002651678583206317), (1704, 0.0), (1705, 0.0), (1706, 0.002586196689683641), (1707, 0.020603820974740193), (1708, 0.0027526333421437686), (1709, 0.0), (1710, 0.0024276870265459035), (1711, 0.003213877876956625), (1712, 0.00273943274812684), (1713, 0.0), (1714, 0.08824404235466665), (1715, 0.0), (1716, 0.0028742210692673676), (1717, 0.002639457787150371), (1718, 0.0134335442212075), (1719, 0.028914138612255152), (1720, 0.0), (1721, 0.0), (1722, 0.002588030576162514), (1723, 0.0), (1724, 0.0), (1725, 0.0), (1726, 0.010254016907768452), (1727, 0.0026646678652114514), (1728, 0.019800357526165727), (1729, 0.0), (1730, 0.049073285667784114), (1731, 0.0), (1732, 0.010679960652819542), (1733, 0.0028100660757245464), (1734, 0.0), (1735, 0.0), (1736, 0.03145471786132455), (1737, 0.0), (1738, 0.009954103481842135), (1739, 0.0023043890706754434), (1740, 0.10472425664534027), (1741, 0.0), (1742, 0.002423257281699806), (1743, 0.0021814756207606365), (1744, 0.002444912626202547), (1745, 0.0), (1746, 0.0), (1747, 0.0330928654120354), (1748, 0.03301036337936791), (1749, 0.0), (1750, 0.04995866727577475), (1751, 0.0), (1752, 0.0), (1753, 0.0), (1754, 0.0028232165017806157), (1755, 0.0), (1756, 0.0), (1757, 0.0), (1758, 0.0), (1759, 0.002421537498334008), (1760, 0.02606795357738375), (1761, 0.0), (1762, 0.07866244812252184), (1763, 0.002194690150110646), (1764, 0.043123959883427876), (1765, 0.0026506675404630044), (1766, 0.0), (1767, 0.010072566219215654), (1768, 0.013415478957942737), (1769, 0.026944287520800383), (1770, 0.0), (1771, 0.009742116738234087), (1772, 0.024296686736476985), (1773, 0.0), (1774, 0.015329346878897837), (1775, 0.013372855896255923), (1776, 0.0022570592262473503), (1777, 0.0), (1778, 0.0), (1779, 0.020601913857676207), (1780, 0.030552310298024216), (1781, 0.017843368861578467), (1782, 0.019712223839195474), (1783, 0.0), (1784, 0.00907371653926619), (1785, 0.0), (1786, 0.0), (1787, 0.0), (1788, 0.0), (1789, 0.0), (1790, 0.0), (1791, 0.0), (1792, 0.018072823677104857), (1793, 0.002402075072677424), (1794, 0.0), (1795, 0.015179607078864218), (1796, 0.002338367015867214), (1797, 0.025840731993664448), (1798, 0.002751317084484182), (1799, 0.0), (1800, 0.028887631437630654), (1801, 0.00215231291723401), (1802, 0.0), (1803, 0.0), (1804, 0.010022892335750008), (1805, 0.0027922774380492025), (1806, 0.0), (1807, 0.0025138471002002145), (1808, 0.002298449913699365), (1809, 0.0), (1810, 0.0), (1811, 0.012943362133417608), (1812, 0.0), (1813, 0.002488139349073589), (1814, 0.002359755398938567), (1815, 0.0), (1816, 0.0), (1817, 0.02392827799271447), (1818, 0.0), (1819, 0.002387656875686061), (1820, 0.030022107391824968), (1821, 0.013692452560784992), (1822, 0.0027054039887479614), (1823, 0.0), (1824, 0.0), (1825, 0.018165027197471626), (1826, 0.0023174924961907512), (1827, 0.002317542884360502), (1828, 0.0022113909460350985), (1829, 0.0), (1830, 0.0022708526599507163), (1831, 0.002534022931294544), (1832, 0.0), (1833, 0.0021945415015236116), (1834, 0.0), (1835, 0.0), (1836, 0.011094818504053066), (1837, 0.0), (1838, 0.0), (1839, 0.0), (1840, 0.0), (1841, 0.010393026829076224), (1842, 0.0), (1843, 0.002906817394259164), (1844, 0.0), (1845, 0.002167268068984671), (1846, 0.0), (1847, 0.0), (1848, 0.0027588889001037794), (1849, 0.0), (1850, 0.009043988483340475), (1851, 0.0026681487200648896), (1852, 0.0), (1853, 0.0027127471560322524), (1854, 0.01245807214763335), (1855, 0.009346455031816737), (1856, 0.0), (1857, 0.0), (1858, 0.0028677116014413752), (1859, 0.0), (1860, 0.0026356770241235125), (1861, 0.0019426209664998246), (1862, 0.0028702927502759056), (1863, 0.0), (1864, 0.020729678096869937), (1865, 0.023463895434258357), (1866, 0.0027984400027518445), (1867, 0.01729644456241405), (1868, 0.0), (1869, 0.032260102611747096), (1870, 0.0), (1871, 0.023914678002552384), (1872, 0.0025921236010700162), (1873, 0.0), (1874, 0.0027697077482821118), (1875, 0.002353466386901803), (1876, 0.0025775775592595533), (1877, 0.0024455834669041827), (1878, 0.012389240931666075), (1879, 0.0), (1880, 0.0), (1881, 0.0), (1882, 0.002511050268277905), (1883, 0.0), (1884, 0.002395420430807095), (1885, 0.003002894836704827), (1886, 0.022409872592261577), (1887, 0.0029043235067776683), (1888, 0.0), (1889, 0.0), (1890, 0.0028437703025495464), (1891, 0.0025406176881438924), (1892, 0.002327189426069074), (1893, 0.0027031135541307765), (1894, 0.0), (1895, 0.0), (1896, 0.029910642326402972), (1897, 0.0027787598552753367), (1898, 0.0), (1899, 0.0), (1900, 0.0), (1901, 0.022091130181141682), (1902, 0.0366270360282763), (1903, 0.00934753987900523), (1904, 0.0), (1905, 0.002794102994098117), (1906, 0.0), (1907, 0.002758656739655051), (1908, 0.17746927016454045), (1909, 0.0029089330291110775), (1910, 0.0), (1911, 0.0), (1912, 0.0), (1913, 0.027144425640019322), (1914, 0.0), (1915, 0.012188133085725233), (1916, 0.002700723550419806), (1917, 0.0), (1918, 0.002707090834361121), (1919, 0.022392631847820196), (1920, 0.017891824977996962), (1921, 0.002290424889619945), (1922, 0.00258713804078533), (1923, 0.002846292300607094), (1924, 0.002927914222928813), (1925, 0.009153386021833177), (1926, 0.01061804872674741), (1927, 0.0), (1928, 0.0), (1929, 0.02844336728019075), (1930, 0.0), (1931, 0.01977084275372286), (1932, 0.010376070284526239), (1933, 0.0), (1934, 0.0022883730734825545), (1935, 0.0), (1936, 0.01333591573649368), (1937, 0.0), (1938, 0.008742234822490145), (1939, 0.0), (1940, 0.0), (1941, 0.0), (1942, 0.0026074347268317095), (1943, 0.02554044786339507), (1944, 0.0), (1945, 0.0), (1946, 0.013408296354124539), (1947, 0.0029751327090980924), (1948, 0.021554462104673818), (1949, 0.01740419950869163), (1950, 0.01256169860531976), (1951, 0.0027191283515912), (1952, 0.013800632060813885), (1953, 0.0), (1954, 0.0022702457539696638), (1955, 0.010496189606513426), (1956, 0.0), (1957, 0.0), (1958, 0.0), (1959, 0.01411458934159935), (1960, 0.002837570909916905), (1961, 0.02220584761389485), (1962, 0.0), (1963, 0.022653464067107394), (1964, 0.044569326992218744), (1965, 0.06616115766638049), (1966, 0.0), (1967, 0.0024897396411930335), (1968, 0.03531226479648638), (1969, 0.0024732857529992393), (1970, 0.028930854295602205), (1971, 0.002172270959765522), (1972, 0.0), (1973, 0.0), (1974, 0.02492437743716122), (1975, 0.0), (1976, 0.0), (1977, 0.01161756956440467), (1978, 0.0), (1979, 0.0), (1980, 0.0022986988748611723), (1981, 0.04407428955258316), (1982, 0.009152651985525692), (1983, 0.002669168984206446), (1984, 0.0), (1985, 0.0025896914536202133), (1986, 0.0), (1987, 0.0), (1988, 0.0), (1989, 0.0020584510978992115), (1990, 0.03395121868745815), (1991, 0.02990097787165437), (1992, 0.0), (1993, 0.00954065863791016), (1994, 0.0), (1995, 0.04914964213656682), (1996, 0.0), (1997, 0.002784453948376076), (1998, 0.02783821163495494), (1999, 0.0), (2000, 0.0020423089694428715), (2001, 0.0), (2002, 0.0), (2003, 0.0), (2004, 0.0024087541722588248), (2005, 0.0), (2006, 0.014316913275360554), (2007, 0.0), (2008, 0.0024923617757794214), (2009, 0.032551572579356376), (2010, 0.022265875737248364), (2011, 0.025637631920264255), (2012, 0.012058480257691653), (2013, 0.0), (2014, 0.018887115635032762), (2015, 0.0), (2016, 0.00266056495249043), (2017, 0.0), (2018, 0.04633265068128449), (2019, 0.02033754427796744), (2020, 0.0), (2021, 0.0), (2022, 0.0), (2023, 0.0024134273530973557), (2024, 0.002454177482329454), (2025, 0.0), (2026, 0.01749983093485037), (2027, 0.01483456714879939), (2028, 0.0317334041467677), (2029, 0.0025021011093161517), (2030, 0.0), (2031, 0.0023126732672404285), (2032, 0.0), (2033, 0.00908932756195367), (2034, 0.012670220088702831), (2035, 0.0021711328632482416), (2036, 0.009544972245601734), (2037, 0.04836257798002822), (2038, 0.0), (2039, 0.03576931175559485), (2040, 0.021377851233587118), (2041, 0.0), (2042, 0.0), (2043, 0.01160554958025073), (2044, 0.0), (2045, 0.0026045754187450205), (2046, 0.0), (2047, 0.017099444086845227), (2048, 0.015828759417539466), (2049, 0.0028254067650122093), (2050, 0.0), (2051, 0.0029118152834087248), (2052, 0.0), (2053, 0.002645942454833094), (2054, 0.0), (2055, 0.0023227819485234715), (2056, 0.0), (2057, 0.037705998067082865), (2058, 0.04929290888642415), (2059, 0.0), (2060, 0.002536831031791838), (2061, 0.02960173043316769), (2062, 0.00967567376811376), (2063, 0.0), (2064, 0.03245355055562644), (2065, 0.0023025212937523624), (2066, 0.0), (2067, 0.002578263370626575), (2068, 0.002435311659601415), (2069, 0.030416744237603013), (2070, 0.002192127830376712), (2071, 0.0), (2072, 0.0026556548540206983), (2073, 0.012796061066004165), (2074, 0.008821576447938215), (2075, 0.003358108620997105), (2076, 0.0021615095086547037), (2077, 0.0), (2078, 0.0), (2079, 0.0), (2080, 0.002476178215547964), (2081, 0.0), (2082, 0.0), (2083, 0.02950632270403744), (2084, 0.0), (2085, 0.0), (2086, 0.010642636540157537), (2087, 0.002506652347028482), (2088, 0.0026851197711348124), (2089, 0.0030114678432211265), (2090, 0.0), (2091, 0.0025985260275986524), (2092, 0.0), (2093, 0.0), (2094, 0.009455944096424761), (2095, 0.0), (2096, 0.0027316702905748527), (2097, 0.002788896019672517), (2098, 0.0), (2099, 0.002395446007710932), (2100, 0.0192173733787201), (2101, 0.0), (2102, 0.012274303243199992), (2103, 0.002495520619659491), (2104, 0.047902669064545884), (2105, 0.002729061544727855), (2106, 0.0), (2107, 0.0), (2108, 0.0028445737041924886), (2109, 0.0025834287858514282), (2110, 0.0), (2111, 0.002510421986592535), (2112, 0.002828676404049816), (2113, 0.0), (2114, 0.017240030925886985), (2115, 0.0), (2116, 0.0027660448630389316), (2117, 0.0024583244917090645), (2118, 0.0326062418002799), (2119, 0.0), (2120, 0.009770674488849707), (2121, 0.00243987728905327), (2122, 0.002587266478113952), (2123, 0.022308294530214594), (2124, 0.0), (2125, 0.019714137949354203), (2126, 0.0026430391688260267), (2127, 0.0021515008077562497), (2128, 0.0), (2129, 0.012090629659496699), (2130, 0.0), (2131, 0.0024619802672131838), (2132, 0.02492598494204095), (2133, 0.012341791844250629), (2134, 0.03153709051766935), (2135, 0.0), (2136, 0.02471961454496839), (2137, 0.003632397557063555), (2138, 0.0), (2139, 0.0), (2140, 0.053221672808418816), (2141, 0.0024496165037292757), (2142, 0.0029890207227760784), (2143, 0.002450329163623937), (2144, 0.0025851272491364046), (2145, 0.0), (2146, 0.002190200788510764), (2147, 0.011129599817971847), (2148, 0.00265638363122635), (2149, 0.0023945956083112497), (2150, 0.0), (2151, 0.0027324832676877695), (2152, 0.008916527718482434), (2153, 0.021673056416818853), (2154, 0.003282749468763768), (2155, 0.002607655580340784), (2156, 0.0), (2157, 0.025265167022044715), (2158, 0.012225525171326149), (2159, 0.002826055326467042), (2160, 0.0), (2161, 0.0), (2162, 0.002752194800896347), (2163, 0.0022867969175481497), (2164, 0.0), (2165, 0.0), (2166, 0.0024136522004006076), (2167, 0.0), (2168, 0.0), (2169, 0.002579421189322109), (2170, 0.009344726345992552), (2171, 0.0), (2172, 0.0), (2173, 0.002523678480636379), (2174, 0.0025403419745439228), (2175, 0.0), (2176, 0.0028291840218651167), (2177, 0.0), (2178, 0.010198960988899823), (2179, 0.0), (2180, 0.02170705744445215), (2181, 0.0), (2182, 0.021333044614227886), (2183, 0.0097233226371445), (2184, 0.03186879654590052), (2185, 0.0), (2186, 0.0), (2187, 0.0029413641562293065), (2188, 0.0031277573882086324), (2189, 0.003597569899988613), (2190, 0.014064846650777917), (2191, 0.002298424046284191), (2192, 0.0025809331506391996), (2193, 0.002586168144520576), (2194, 0.0), (2195, 0.002556097169665615), (2196, 0.0204631916061917), (2197, 0.0), (2198, 0.01001160145182088), (2199, 0.003336117526941584), (2200, 0.0), (2201, 0.0023840857494083142), (2202, 0.0), (2203, 0.0251488965544889), (2204, 0.0), (2205, 0.015714059341554194), (2206, 0.0), (2207, 0.015369339125167223), (2208, 0.0448234767062476), (2209, 0.0028532094436900758), (2210, 0.0026057284113038745), (2211, 0.010520366736464233), (2212, 0.002557298891083573), (2213, 0.013714261259884241), (2214, 0.0027865340067793286), (2215, 0.0), (2216, 0.018964626856396175), (2217, 0.0), (2218, 0.0), (2219, 0.0), (2220, 0.0), (2221, 0.0021306025167402544), (2222, 0.0), (2223, 0.0029139857015417123), (2224, 0.002431911759233548), (2225, 0.0), (2226, 0.027569591318425648), (2227, 0.024492337088216125), (2228, 0.0), (2229, 0.002800771613730273), (2230, 0.015793852648857777), (2231, 0.0), (2232, 0.0), (2233, 0.0), (2234, 0.0), (2235, 0.0), (2236, 0.018218105241247687), (2237, 0.013494697044189114), (2238, 0.0), (2239, 0.0), (2240, 0.017618225499523812), (2241, 0.01821208830717383), (2242, 0.011933887153094059), (2243, 0.0), (2244, 0.0), (2245, 0.0), (2246, 0.0), (2247, 0.0), (2248, 0.0023040608751877384), (2249, 0.0), (2250, 0.03898199864768925), (2251, 0.00356587820484447), (2252, 0.0), (2253, 0.0), (2254, 0.0027501884428897043), (2255, 0.003306513491609523), (2256, 0.0), (2257, 0.025848280906335137), (2258, 0.05937662191542233), (2259, 0.05494749505178587), (2260, 0.0027415959500536042), (2261, 0.0), (2262, 0.0), (2263, 0.0), (2264, 0.002276867010222928), (2265, 0.02091695873815483), (2266, 0.0031556928305965827), (2267, 0.0), (2268, 0.03524003700770235), (2269, 0.014571995436677775), (2270, 0.0022143522931600116), (2271, 0.0), (2272, 0.0), (2273, 0.0), (2274, 0.0), (2275, 0.0), (2276, 0.0), (2277, 0.0025979339768232024), (2278, 0.0), (2279, 0.0024971084422857307), (2280, 0.010386879645518642), (2281, 0.0), (2282, 0.0), (2283, 0.01064882525124224), (2284, 0.0025766825739097776), (2285, 0.0023061110213828486), (2286, 0.016045303112615632), (2287, 0.002138163413937326), (2288, 0.002710830435529293), (2289, 0.0025451075510285206), (2290, 0.0), (2291, 0.0), (2292, 0.0026102492637838856), (2293, 0.00279356582464992), (2294, 0.03321521995244054), (2295, 0.0026036015065925215), (2296, 0.0), (2297, 0.020072372968591094), (2298, 0.02712101031776107), (2299, 0.00409828154269247), (2300, 0.02105817748281347), (2301, 0.00234436125054665), (2302, 0.002910952479079966), (2303, 0.0024171162762567804), (2304, 0.0), (2305, 0.0), (2306, 0.0032425067750329016), (2307, 0.0), (2308, 0.0), (2309, 0.0024481785094036886), (2310, 0.0034266038931953227), (2311, 0.009863475550384289), (2312, 0.0), (2313, 0.0026019922748617137), (2314, 0.0), (2315, 0.009664658310590405), (2316, 0.0), (2317, 0.01994193344116567), (2318, 0.0), (2319, 0.002662405629676467), (2320, 0.002979376852975799), (2321, 0.0026330907491589426), (2322, 0.009733763821629297), (2323, 0.011775088641702377), (2324, 0.006613351605458625), (2325, 0.0), (2326, 0.0), (2327, 0.016328848930045697), (2328, 0.0), (2329, 0.0), (2330, 0.010565113865972416), (2331, 0.0), (2332, 0.028322438207639248), (2333, 0.0), (2334, 0.0026378758344649178), (2335, 0.010080854245693941), (2336, 0.0), (2337, 0.0), (2338, 0.002315493641949973), (2339, 0.0), (2340, 0.019398536860195954), (2341, 0.0), (2342, 0.0), (2343, 0.0), (2344, 0.0025681818609324075), (2345, 0.0), (2346, 0.002913942727809003), (2347, 0.028458712696694498), (2348, 0.02216685088441091), (2349, 0.0035485015691011554), (2350, 0.0032932557713906334), (2351, 0.0), (2352, 0.0), (2353, 0.019551510831602923), (2354, 0.0025654099114648427), (2355, 0.057542672366311026), (2356, 0.0028649858949389515), (2357, 0.0), (2358, 0.0), (2359, 0.0021391000500866008), (2360, 0.009266770393261556), (2361, 0.0027184208151706654), (2362, 0.0023492800791580096), (2363, 0.0), (2364, 0.0), (2365, 0.02381004667611098), (2366, 0.0), (2367, 0.0024532343264726812), (2368, 0.0), (2369, 0.0), (2370, 0.002670054932403148), (2371, 0.045796208236709476), (2372, 0.0), (2373, 0.0), (2374, 0.01558589276518524), (2375, 0.0028155460530263714), (2376, 0.015599197512513567), (2377, 0.0), (2378, 0.0030160931347861116), (2379, 0.003698681454290964), (2380, 0.0), (2381, 0.0), (2382, 0.024152341562062318), (2383, 0.0), (2384, 0.0), (2385, 0.013743131567885723), (2386, 0.0157230672752037), (2387, 0.002557281579662844), (2388, 0.006292887734061784), (2389, 0.008913347138349487), (2390, 0.0028095339394324484), (2391, 0.00273726623069589), (2392, 0.0033462692662332275), (2393, 0.02142529021871816), (2394, 0.002700488239165214), (2395, 0.0), (2396, 0.0025861476467037045), (2397, 0.0522665172733812), (2398, 0.0), (2399, 0.002365715049084284), (2400, 0.0028987246305795158), (2401, 0.0024907524024442213), (2402, 0.0023209781909635475), (2403, 0.017724982574361024), (2404, 0.0034858447533540073), (2405, 0.002665528084806059), (2406, 0.0030103845407940238), (2407, 0.0035426569225143036), (2408, 0.016623581137137657), (2409, 0.0), (2410, 0.0028115284807535158), (2411, 0.014216968960953539), (2412, 0.0022253368368569167), (2413, 0.019919148743334208), (2414, 0.0), (2415, 0.003109844619073016), (2416, 0.002525887612106616), (2417, 0.003000722838711196), (2418, 0.002716609115315573), (2419, 0.0026925409511812572), (2420, 0.0), (2421, 0.0), (2422, 0.00248776770060828), (2423, 0.0032298313342318504), (2424, 0.0), (2425, 0.0033215528995588234), (2426, 0.0), (2427, 0.0029769348863650197), (2428, 0.0028283296587300172), (2429, 0.0), (2430, 0.05324388061999391), (2431, 0.0), (2432, 0.0), (2433, 0.0), (2434, 0.0030638455412042515), (2435, 0.0), (2436, 0.0028644175882677116), (2437, 0.014251008533801988), (2438, 0.0031744740020963557), (2439, 0.04484636571829727), (2440, 0.0052054975973626445), (2441, 0.010566183862767501), (2442, 0.0), (2443, 0.00824569131877025), (2444, 0.057128457286535345), (2445, 0.0), (2446, 0.0023803681422430107), (2447, 0.020184270450457023), (2448, 0.0033470154449369103), (2449, 0.0), (2450, 0.0), (2451, 0.020395257162046994), (2452, 0.0), (2453, 0.0023554882939151654), (2454, 0.003094722095359224), (2455, 0.0), (2456, 0.010313473714606645), (2457, 0.0023053940248987555), (2458, 0.0), (2459, 0.0031194127969055934), (2460, 0.02568720760519722), (2461, 0.012651429401405546), (2462, 0.0), (2463, 0.0025191775082917174), (2464, 0.0028107676359919644), (2465, 0.03448169657377867), (2466, 0.002632014275612266), (2467, 0.002472646664270319), (2468, 0.0), (2469, 0.037750103657968326), (2470, 0.0), (2471, 0.0), (2472, 0.0), (2473, 0.0024407826845922074), (2474, 0.0019662657135285457), (2475, 0.002756123650886753), (2476, 0.0), (2477, 0.0027689683369641264), (2478, 0.017654464711351354), (2479, 0.0), (2480, 0.0), (2481, 0.002134258018649425), (2482, 0.03780183045222207), (2483, 0.04474122558282846), (2484, 0.003426711967800671), (2485, 0.0), (2486, 0.0), (2487, 0.0), (2488, 0.02453582292840718), (2489, 0.0026117996571064627), (2490, 0.003693878715328216), (2491, 0.0), (2492, 0.0025788948730747353), (2493, 0.0), (2494, 0.0027631157467846307), (2495, 0.002562628207171702), (2496, 0.0023967175126672576), (2497, 0.009228859443858537), (2498, 0.01870516667380701), (2499, 0.0), (2500, 0.013941803867023959), (2501, 0.0), (2502, 0.0022611828040241346), (2503, 0.0), (2504, 0.0), (2505, 0.01707927423284534), (2506, 0.0), (2507, 0.0027840262368668137), (2508, 0.0), (2509, 0.0021060945375042718), (2510, 0.0), (2511, 0.030551818505459936), (2512, 0.012954662892752187), (2513, 0.009267662648461749), (2514, 0.0), (2515, 0.0), (2516, 0.035946561774655765), (2517, 0.009499148206418421), (2518, 0.019771324772640163), (2519, 0.0), (2520, 0.02444160019085707), (2521, 0.0), (2522, 0.002731420191652876), (2523, 0.0), (2524, 0.0), (2525, 0.0024132961639117875), (2526, 0.002096907234582604), (2527, 0.01939298220031944), (2528, 0.002380003355669775), (2529, 0.0037202663825506256), (2530, 0.003257367469428744), (2531, 0.002670955458865706), (2532, 0.011280957007969656), (2533, 0.002577652005599187), (2534, 0.022988317537824272), (2535, 0.0028405348064774816), (2536, 0.0), (2537, 0.0035157366241590775), (2538, 0.001533434595494263), (2539, 0.0), (2540, 0.0146572327849987), (2541, 0.0), (2542, 0.0), (2543, 0.0), (2544, 0.006391791653298902), (2545, 0.0026700974005723706), (2546, 0.0251073222304749), (2547, 0.0), (2548, 0.0), (2549, 0.0), (2550, 0.011499989411947745), (2551, 0.021901605025503874), (2552, 0.0023961063574313387), (2553, 0.002498549597344477), (2554, 0.0025854279620713466), (2555, 0.005828768287872698), (2556, 0.002376430741341077), (2557, 0.0031785243137121438), (2558, 0.03834536666748613), (2559, 0.0033690457464779), (2560, 0.002941428130731399), (2561, 0.0026737677929667848), (2562, 0.007894768145505993), (2563, 0.0021196011662504358), (2564, 0.0), (2565, 0.0027186944149628508), (2566, 0.0), (2567, 0.015208340993216178), (2568, 0.003134457164195878), (2569, 0.002532406763046687), (2570, 0.003016400393008448), (2571, 0.01939693373970155), (2572, 0.0024277222623604574), (2573, 0.0), (2574, 0.0), (2575, 0.0), (2576, 0.0), (2577, 0.0), (2578, 0.0), (2579, 0.0028727024312224375), (2580, 0.0022887173497222607), (2581, 0.0), (2582, 0.021990198518106952), (2583, 0.0), (2584, 0.009668201450402127), (2585, 0.0028530122824019857), (2586, 0.0), (2587, 0.002274348399478018), (2588, 0.011231176591859151), (2589, 0.01036493328116371), (2590, 0.03935475669974388), (2591, 0.0695522842506787), (2592, 0.002837245218574573), (2593, 0.002364540281302914), (2594, 0.0), (2595, 0.0027797482867201184), (2596, 0.009527953984156646), (2597, 0.0), (2598, 0.012345109498269351), (2599, 0.0), (2600, 0.0), (2601, 0.002672795227110959), (2602, 0.0021265275335788977), (2603, 0.0021524863872711786), (2604, 0.0), (2605, 0.0), (2606, 0.0025805547659701316), (2607, 0.00229720304348689), (2608, 0.023353435629867855), (2609, 0.013391881365627824), (2610, 0.0027084745008643576), (2611, 0.01119426423375633), (2612, 0.012601890356912098), (2613, 0.0030192572147024464), (2614, 0.005565584223394469), (2615, 0.009740250889702061), (2616, 0.02833750273854923), (2617, 0.0022595582046806913), (2618, 0.009986305451791258), (2619, 0.0030863165740388668), (2620, 0.0), (2621, 0.01135221410433609), (2622, 0.0), (2623, 0.01740999756710554), (2624, 0.02117373716097938), (2625, 0.00294448650972084), (2626, 0.0), (2627, 0.0), (2628, 0.00335499286721352), (2629, 0.002909261583610869), (2630, 0.0), (2631, 0.0), (2632, 0.002502613501604768), (2633, 0.0026905789026150703), (2634, 0.014369738027404069), (2635, 0.0), (2636, 0.0019240973986598849), (2637, 0.011257634904964115), (2638, 0.002911923377079701), (2639, 0.0), (2640, 0.013652567919524534), (2641, 0.00957542930946708), (2642, 0.019342946964041742), (2643, 0.003314549831213057), (2644, 0.0), (2645, 0.0032982722045309465), (2646, 0.017319684148474866), (2647, 0.015576134913374163), (2648, 0.010811988047345122), (2649, 0.003620134677007285), (2650, 0.013556819432605165), (2651, 0.0024247633613342693), (2652, 0.012693084194267661), (2653, 0.00247312037700031), (2654, 0.009106769952178928), (2655, 0.0033963558537619325), (2656, 0.0), (2657, 0.0), (2658, 0.0), (2659, 0.0), (2660, 0.0), (2661, 0.0027512308356119684), (2662, 0.0), (2663, 0.0), (2664, 0.0027322635910490382), (2665, 0.0), (2666, 0.0), (2667, 0.0), (2668, 0.0026369876656609312), (2669, 0.0), (2670, 0.013717934823600699), (2671, 0.0), (2672, 0.011200069871880247), (2673, 0.017357778072334525), (2674, 0.002359172254752107), (2675, 0.01759847499450892), (2676, 0.0), (2677, 0.0), (2678, 0.0041738859641835095), (2679, 0.0024251472277449773), (2680, 0.053653256405682886), (2681, 0.020161329439226737), (2682, 0.009322954952359346), (2683, 0.0), (2684, 0.0), (2685, 0.0), (2686, 0.0), (2687, 0.012837457766603775), (2688, 0.008572927506188958), (2689, 0.048394716185336514), (2690, 0.0), (2691, 0.023729641560359952), (2692, 0.0022254937857947676), (2693, 0.018357170020427926), (2694, 0.0034138645115174785), (2695, 0.019374470456564177), (2696, 0.002979218854957607), (2697, 0.0020981056775223467), (2698, 0.0024969980328156203), (2699, 0.0), (2700, 0.0), (2701, 0.02834516984321591), (2702, 0.002929161143694842), (2703, 0.0), (2704, 0.0), (2705, 0.0027750095572489633), (2706, 0.002436497689588228), (2707, 0.0030079150345308442), (2708, 0.04476602080386681), (2709, 0.0), (2710, 0.0), (2711, 0.019954172703652878), (2712, 0.002738282010026724), (2713, 0.0), (2714, 0.013287846361096107), (2715, 0.013154884579709047), (2716, 0.0024685937909314933), (2717, 0.0), (2718, 0.0), (2719, 0.0), (2720, 0.0030037257596774634), (2721, 0.0022269023297347462), (2722, 0.0035978093546533757), (2723, 0.0027486044874071225), (2724, 0.0022773466552385496), (2725, 0.0027408854371514233), (2726, 0.0), (2727, 0.0), (2728, 0.002332779240575415), (2729, 0.010660664327156281), (2730, 0.0), (2731, 0.0034401431263060716), (2732, 0.0), (2733, 0.011100069972784172), (2734, 0.0), (2735, 0.002366281947325106), (2736, 0.0), (2737, 0.0), (2738, 0.003024438644097154), (2739, 0.0028125071023279366), (2740, 0.002885609106679476), (2741, 0.0023075653879107683), (2742, 0.0), (2743, 0.046149143420467865), (2744, 0.002656125934103795), (2745, 0.0025868447711292664), (2746, 0.04510496368188597), (2747, 0.002220689847954313), (2748, 0.0027868895986899863), (2749, 0.017282520841959165), (2750, 0.0), (2751, 0.0), (2752, 0.002451245278293474), (2753, 0.03183653076177553), (2754, 0.0), (2755, 0.0027099949853735088), (2756, 0.0), (2757, 0.003922640722492113), (2758, 0.01066320911466724), (2759, 0.0), (2760, 0.05260057255749482), (2761, 0.0022054415049964824), (2762, 0.028413459784398694), (2763, 0.0185453374376931), (2764, 0.028602957187907584), (2765, 0.0024360952806071613), (2766, 0.022372016179377015), (2767, 0.011998157238843989), (2768, 0.003643077377528808), (2769, 0.0030250085784642154), (2770, 0.0), (2771, 0.011071860063288128), (2772, 0.003035895382098617), (2773, 0.0), (2774, 0.008378708477387017), (2775, 0.0034792334744353274), (2776, 0.002760253664018412), (2777, 0.002371393821579071), (2778, 0.0030989385841154174), (2779, 0.014680903612510413), (2780, 0.0), (2781, 0.0), (2782, 0.00285287871816851), (2783, 0.02427175821680196), (2784, 0.0026195316203931314), (2785, 0.0), (2786, 0.0027445310105133846), (2787, 0.0), (2788, 0.0), (2789, 0.0), (2790, 0.0), (2791, 0.00961624521897875), (2792, 0.0027152062973720605), (2793, 0.07063736853377234), (2794, 0.0), (2795, 0.0032365520008018583), (2796, 0.0029329472847062304), (2797, 0.024573550429087508), (2798, 0.03051154050310424), (2799, 0.0), (2800, 0.0024213375334123277), (2801, 0.0), (2802, 0.01503778957729552), (2803, 0.013995385206864712), (2804, 0.0), (2805, 0.0), (2806, 0.0), (2807, 0.009803063702220517), (2808, 0.0024833589247209367), (2809, 0.005395241674786691), (2810, 0.0), (2811, 0.019179184730473524), (2812, 0.002415288387387583), (2813, 0.010013873324537008), (2814, 0.0), (2815, 0.0), (2816, 0.0), (2817, 0.0), (2818, 0.0), (2819, 0.02117105938237184), (2820, 0.0), (2821, 0.013852169820575539), (2822, 0.03577146085444101), (2823, 0.0), (2824, 0.0), (2825, 0.0), (2826, 0.0025765396320952738), (2827, 0.0697329124784365), (2828, 0.0), (2829, 0.0), (2830, 0.025643066313373097), (2831, 0.002565799256248994), (2832, 0.0033633633322012312), (2833, 0.0), (2834, 0.0031795564188978167), (2835, 0.0), (2836, 0.0), (2837, 0.01203824902174044), (2838, 0.01667542100163368), (2839, 0.0), (2840, 0.002858395283325552), (2841, 0.001431499896059407), (2842, 0.015142153258860739), (2843, 0.07432269776079972), (2844, 0.00211668711439361), (2845, 0.0023588813620765217), (2846, 0.0029988053864481276), (2847, 0.009865806764791265), (2848, 0.015325480674593302), (2849, 0.0027094282235273874), (2850, 0.0), (2851, 0.0), (2852, 0.0), (2853, 0.0025500141298602694), (2854, 0.002846296855862467), (2855, 0.0), (2856, 0.01076987767053197), (2857, 0.003163554770831066), (2858, 0.0036326003362677044), (2859, 0.0024297694107122863), (2860, 0.0), (2861, 0.0033970097285432126), (2862, 0.0023884455102365044), (2863, 0.0026425001953183248), (2864, 0.04259938980328701), (2865, 0.0), (2866, 0.052115945635854595), (2867, 0.0077928062986501725), (2868, 0.0023711151884417084), (2869, 0.0), (2870, 0.003474260420795338), (2871, 0.0), (2872, 0.0029500888916782473), (2873, 0.0), (2874, 0.0), (2875, 0.0), (2876, 0.002140455725347462), (2877, 0.0), (2878, 0.0027015896723398165), (2879, 0.003121159045194939), (2880, 0.0), (2881, 0.0029025988674420025), (2882, 0.0027849570730799442), (2883, 0.0034681585991930206), (2884, 0.002958515311615161), (2885, 0.0), (2886, 0.045693319376717965), (2887, 0.0025968411563570505), (2888, 0.016658909968128986), (2889, 0.0035280343553653697), (2890, 0.0028279936380370928), (2891, 0.0), (2892, 0.03041182870138311), (2893, 0.0029063311271595345), (2894, 0.03287738701053396), (2895, 0.0030676617780302493), (2896, 0.0), (2897, 0.0), (2898, 0.013966221061343518), (2899, 0.0024091870627034914), (2900, 0.002554704901153382), (2901, 0.0032904738604644965), (2902, 0.0018849103237955228), (2903, 0.002874067361655941), (2904, 0.0026656485154456897), (2905, 0.0), (2906, 0.0), (2907, 0.0023768841567723296), (2908, 0.002059523209229541), (2909, 0.019580369855560043), (2910, 0.002507543341677449), (2911, 0.002667286633606732), (2912, 0.0024815929631142822), (2913, 0.0), (2914, 0.002898418292617236), (2915, 0.0027870314574169244), (2916, 0.0028706821032756812), (2917, 0.0020186513347592553), (2918, 0.0), (2919, 0.015887158306876436), (2920, 0.014071069807012842), (2921, 0.0), (2922, 0.0), (2923, 0.0034531059242536464), (2924, 0.0029722482705790134), (2925, 0.002057706009019416), (2926, 0.0026802717050799134), (2927, 0.01210915497295161), (2928, 0.0), (2929, 0.0), (2930, 0.0), (2931, 0.002318311240071079), (2932, 0.0033885064882309473), (2933, 0.0021764624817100214), (2934, 0.002581527028660731), (2935, 0.06709637779886721), (2936, 0.0029011719343969475), (2937, 0.0036801533367975966), (2938, 0.009354585048127455), (2939, 0.0), (2940, 0.024626991958807763), (2941, 0.0), (2942, 0.0022176953581729522), (2943, 0.002553643812416328), (2944, 0.0), (2945, 0.002508709423326228), (2946, 0.015134765962370891), (2947, 0.0), (2948, 0.0), (2949, 0.0027383522177431368), (2950, 0.0), (2951, 0.0), (2952, 0.0), (2953, 0.002712724176884475), (2954, 0.002340103973353861), (2955, 0.010204169645361283), (2956, 0.011184519908364578), (2957, 0.03675911280340882), (2958, 0.019536981511708764), (2959, 0.013491704755774174), (2960, 0.0), (2961, 0.0025226660486608226), (2962, 0.018070682160173098), (2963, 0.0), (2964, 0.002738659173727244), (2965, 0.012394926636523132), (2966, 0.0031155358472839518), (2967, 0.0), (2968, 0.0), (2969, 0.0021256024828969393), (2970, 0.002731726004317459), (2971, 0.0), (2972, 0.0024157416863051684), (2973, 0.0), (2974, 0.0028773959728512727), (2975, 0.0281466373522125), (2976, 0.0022958187180040245), (2977, 0.02886887007179068), (2978, 0.020648415245833992), (2979, 0.0), (2980, 0.0025135076699074723), (2981, 0.002189306790147577), (2982, 0.0), (2983, 0.0), (2984, 0.0), (2985, 0.002137706929286135), (2986, 0.0030314581780273887), (2987, 0.0029587159884385083), (2988, 0.0026432913199734356), (2989, 0.00357111538904678), (2990, 0.0), (2991, 0.0), (2992, 0.049376808048256775), (2993, 0.0030912087456576587), (2994, 0.0), (2995, 0.002428946791246619), (2996, 0.014359588844380204), (2997, 0.0024223714829248373), (2998, 0.0038475129276153808), (2999, 0.0025483221951920153), (3000, 0.002624026143450399), (3001, 0.030223468785514726), (3002, 0.0), (3003, 0.002847004837388547), (3004, 0.016071495767113107), (3005, 0.019193277095960824), (3006, 0.0), (3007, 0.002737923328710557), (3008, 0.02865515773225839), (3009, 0.0), (3010, 0.0024713613375337323), (3011, 0.0), (3012, 0.0028733472157293984), (3013, 0.0028911064137671343), (3014, 0.014518063515630569), (3015, 0.003247629285615119), (3016, 0.002631005732435096), (3017, 0.0), (3018, 0.04173191664417701), (3019, 0.002983483965835111), (3020, 0.003111280564118532), (3021, 0.0), (3022, 0.0), (3023, 0.01588321048832489), (3024, 0.0021200715995828502), (3025, 0.0), (3026, 0.016991112810205114), (3027, 0.0023062101540057773), (3028, 0.002476608139318204), (3029, 0.0), (3030, 0.003471897264765123), (3031, 0.0031306634251201215), (3032, 0.002868668824346025), (3033, 0.0), (3034, 0.0), (3035, 0.0024398175708691267), (3036, 0.014621319359732349), (3037, 0.0027052363187764954), (3038, 0.0), (3039, 0.0), (3040, 0.0035790739958662427), (3041, 0.0), (3042, 0.0034725069980820543), (3043, 0.002901256244290883), (3044, 0.016763638111995847), (3045, 0.008658956667031441), (3046, 0.002513640206695781), (3047, 0.0), (3048, 0.0), (3049, 0.0), (3050, 0.0023480559532180357), (3051, 0.017909506959231124), (3052, 0.0035005931542987766), (3053, 0.016806933174176496), (3054, 0.0), (3055, 0.0034873925162262134), (3056, 0.0021231324681311036), (3057, 0.034662275474944146), (3058, 0.00990304142317693), (3059, 0.0), (3060, 0.0), (3061, 0.0), (3062, 0.0028413375234566203), (3063, 0.02357932569803066), (3064, 0.002788693937589948), (3065, 0.002176876171362551), (3066, 0.020488915703742915), (3067, 0.0025318226474793423), (3068, 0.0), (3069, 0.002502756024093453), (3070, 0.011448220541627271), (3071, 0.0024005086906050952), (3072, 0.04141249298889032), (3073, 0.0), (3074, 0.0031443453843196393), (3075, 0.0024890565286447906), (3076, 0.0033540615504550906), (3077, 0.017933212114203), (3078, 0.0), (3079, 0.0), (3080, 0.0), (3081, 0.003016130149664403), (3082, 0.016889522734415414), (3083, 0.0), (3084, 0.002718190318198955), (3085, 0.0), (3086, 0.01409564341387754), (3087, 0.0), (3088, 0.0), (3089, 0.012140889581300891), (3090, 0.0), (3091, 0.028551112071511724), (3092, 0.03665082489657652), (3093, 0.012356291161441383), (3094, 0.0029987512934768496), (3095, 0.0027514720162068224), (3096, 0.011342489283387127), (3097, 0.02659444453006907), (3098, 0.0), (3099, 0.0), (3100, 0.0), (3101, 0.08565022854038998), (3102, 0.049308648998430016), (3103, 0.0), (3104, 0.0), (3105, 0.010012495232901958), (3106, 0.02657888548222426), (3107, 0.0), (3108, 0.0023002205575625235), (3109, 0.0), (3110, 0.0), (3111, 0.002293803094943903), (3112, 0.00275586552490179), (3113, 0.05662663122698689), (3114, 0.0), (3115, 0.0), (3116, 0.0028162691447285357), (3117, 0.019245324334466907), (3118, 0.0), (3119, 0.0035135297926962255), (3120, 0.0023727536128289087), (3121, 0.009792338302651882), (3122, 0.0024448859761307313), (3123, 0.00312605361415214), (3124, 0.0), (3125, 0.002575513721466272), (3126, 0.119796058200707), (3127, 0.0), (3128, 0.0032306314756544376), (3129, 0.035925408780756694), (3130, 0.03932890042358616), (3131, 0.0), (3132, 0.0), (3133, 0.0), (3134, 0.0), (3135, 0.0), (3136, 0.0), (3137, 0.004757354357558125), (3138, 0.0), (3139, 0.0036285198004276454), (3140, 0.003225343595339052), (3141, 0.009627151411823067), (3142, 0.0407521834898527), (3143, 0.03322813560977476), (3144, 0.0), (3145, 0.0), (3146, 0.0028666789798221823), (3147, 0.01801437710246446), (3148, 0.002901702417347276), (3149, 0.0), (3150, 0.06114598188770088), (3151, 0.002441300909853127), (3152, 0.0019999251840630027), (3153, 0.002639070455558369), (3154, 0.015970389559766464), (3155, 0.0025803862727450306), (3156, 0.0), (3157, 0.03344362250897876), (3158, 0.011752138855512649), (3159, 0.0031719178500390684), (3160, 0.0), (3161, 0.029077737664219887), (3162, 0.010419834816910235), (3163, 0.0), (3164, 0.0), (3165, 0.002943634756978673), (3166, 0.0035549832816942077), (3167, 0.0022951710394430156), (3168, 0.0), (3169, 0.0), (3170, 0.0024381450083610975), (3171, 0.0024378961919842017), (3172, 0.0), (3173, 0.0025239369788135823), (3174, 0.034019590952801625), (3175, 0.02034879055341536), (3176, 0.0), (3177, 0.0), (3178, 0.031742188207260644), (3179, 0.010766804880819148), (3180, 0.0), (3181, 0.0), (3182, 0.0026107297622414306), (3183, 0.002806446599780369), (3184, 0.013485406483496111), (3185, 0.0), (3186, 0.0029059307266926225), (3187, 0.0026969668463582798), (3188, 0.01676861111732088), (3189, 0.0), (3190, 0.0), (3191, 0.010287341098515422), (3192, 0.0), (3193, 0.0), (3194, 0.002419002359619318), (3195, 0.047700797858641175), (3196, 0.040916645491927306), (3197, 0.0), (3198, 0.002647529286745271), (3199, 0.0019846563853879334), (3200, 0.0637411958236061), (3201, 0.0), (3202, 0.023436113649328037), (3203, 0.0), (3204, 0.0), (3205, 0.0), (3206, 0.0031007935518579588), (3207, 0.0), (3208, 0.03393660981878832), (3209, 0.0), (3210, 0.0025851228659095316), (3211, 0.002218968705082749), (3212, 0.0), (3213, 0.05194688940021805), (3214, 0.0024467334719982686), (3215, 0.0), (3216, 0.002550353541073387), (3217, 0.0), (3218, 0.002732264216039805), (3219, 0.01705213995903619), (3220, 0.0025047680128553514), (3221, 0.0), (3222, 0.0), (3223, 0.0), (3224, 0.0026682478060658307), (3225, 0.06885841962582435), (3226, 0.004714275216278532), (3227, 0.0025840934711126255), (3228, 0.0031102129872008105), (3229, 0.0), (3230, 0.0029587861367719992), (3231, 0.0), (3232, 0.009167623580670093), (3233, 0.0026365604141904836), (3234, 0.02194485814532902), (3235, 0.0027321000593216295), (3236, 0.028358431252411425), (3237, 0.0025313511561953655), (3238, 0.011229135583901456), (3239, 0.003231165812547399), (3240, 0.004953174810729614), (3241, 0.016044115485287665), (3242, 0.03363654730125356), (3243, 0.020186048692438247), (3244, 0.011740168567256074), (3245, 0.0), (3246, 0.0024569170194608317), (3247, 0.0), (3248, 0.0028582430280548955), (3249, 0.003205394862745135), (3250, 0.0), (3251, 0.0), (3252, 0.002135512266999753), (3253, 0.0), (3254, 0.0020955045752001837), (3255, 0.0), (3256, 0.0), (3257, 0.0030881126023490266), (3258, 0.0027868314063751514), (3259, 0.011058134316835755), (3260, 0.012802139379509216), (3261, 0.0), (3262, 0.003297645582541812), (3263, 0.0), (3264, 0.0027061322335107025), (3265, 0.018048702788567485), (3266, 0.0), (3267, 0.002325469399414357), (3268, 0.0024460728024428176), (3269, 0.0027722661516488547), (3270, 0.01739987513060957), (3271, 0.002769162277490052), (3272, 0.010170177555079278), (3273, 0.0028532288975742044), (3274, 0.002887628953985514), (3275, 0.002995456644599094), (3276, 0.0038687320423115), (3277, 0.0), (3278, 0.0023303628365758658), (3279, 0.023370044266554903), (3280, 0.0), (3281, 0.0), (3282, 0.003323653068152418), (3283, 0.013290652018583085), (3284, 0.02582269481864445), (3285, 0.021196173222906324), (3286, 0.04774567459396139), (3287, 0.0), (3288, 0.0), (3289, 0.0026264821898864792), (3290, 0.0026374528903234736), (3291, 0.0034440332041071773), (3292, 0.003345597159587205), (3293, 0.0024257301115062006), (3294, 0.0), (3295, 0.0), (3296, 0.002914906271314511), (3297, 0.0027232193397635817), (3298, 0.0024756550793600452), (3299, 0.002546659115633146), (3300, 0.03809001049574759), (3301, 0.0020069295723016624), (3302, 0.01529761867746241), (3303, 0.002608057812535992), (3304, 0.027016149326334532), (3305, 0.0), (3306, 0.0023495778621275467), (3307, 0.002977009344476199), (3308, 0.015447669394801057), (3309, 0.0), (3310, 0.0286949143878224), (3311, 0.0023183159311374445), (3312, 0.0), (3313, 0.0020923781518285872), (3314, 0.027431010273735467), (3315, 0.0024482488014850447), (3316, 0.021688333102958708), (3317, 0.002099115738698188), (3318, 0.017440049775912785), (3319, 0.0), (3320, 0.0), (3321, 0.0), (3322, 0.0032984263008447585), (3323, 0.0), (3324, 0.0), (3325, 0.004578933318520002), (3326, 0.002714402651567669), (3327, 0.002298791862001075), (3328, 0.010108305704795623), (3329, 0.017690436544202638), (3330, 0.002554126808941036), (3331, 0.002136371939275131), (3332, 0.0), (3333, 0.0), (3334, 0.011032138170229881), (3335, 0.0025894491225602998), (3336, 0.01939900781470934), (3337, 0.0029571379336562576), (3338, 0.0), (3339, 0.0), (3340, 0.0), (3341, 0.0025700316530684088), (3342, 0.002379823402737432), (3343, 0.0), (3344, 0.00217653644442147), (3345, 0.0), (3346, 0.0025560419735534586), (3347, 0.0021510395890436927), (3348, 0.0024802271958218047), (3349, 0.0026589131313932684), (3350, 0.0), (3351, 0.013618268890937979), (3352, 0.012547978526642273), (3353, 0.013053051665429492), (3354, 0.0032266664449338484), (3355, 0.034593581355653144), (3356, 0.02072923823624387), (3357, 0.0031856536734942145), (3358, 0.0031114027610420246), (3359, 0.0029825740301839634), (3360, 0.002276514806487504), (3361, 0.0), (3362, 0.010332349885147214), (3363, 0.003196288402879232), (3364, 0.0029585855229996238), (3365, 0.001807334820521227), (3366, 0.0), (3367, 0.0), (3368, 0.054031542045780506), (3369, 0.002363983565797883), (3370, 0.018783019164526245), (3371, 0.019400937962761964), (3372, 0.016151433123662743), (3373, 0.0028845464096288595), (3374, 0.002543431625194167), (3375, 0.0), (3376, 0.0021884933937204713), (3377, 0.012269761098755317), (3378, 0.0), (3379, 0.0025126441519907066), (3380, 0.011582934817271694), (3381, 0.0025322523440525543), (3382, 0.0026742486438016697), (3383, 0.0), (3384, 0.0), (3385, 0.06163179256105538), (3386, 0.012721704973611622), (3387, 0.02957308321668902), (3388, 0.0027002497623515253), (3389, 0.01779689776497844), (3390, 0.0024418586651760296), (3391, 0.005713706415907758), (3392, 0.031823016083265425), (3393, 0.002204194014380968), (3394, 0.06832750056487563), (3395, 0.0), (3396, 0.0029561206880252015), (3397, 0.0), (3398, 0.06793627222578498), (3399, 0.002394382406595136), (3400, 0.0), (3401, 0.0), (3402, 0.0024974486184946086), (3403, 0.011431768071764834), (3404, 0.03209749201788693), (3405, 0.018320582574543078), (3406, 0.0027047200309312115), (3407, 0.002405995684891512), (3408, 0.01451939286262215), (3409, 0.01312063545678054), (3410, 0.002062350847212404), (3411, 0.0), (3412, 0.002499514330075554), (3413, 0.00307829498621708), (3414, 0.002868843911981705), (3415, 0.0), (3416, 0.009983211662601977), (3417, 0.002822686405448293), (3418, 0.0023258243022903444), (3419, 0.02316904321835708), (3420, 0.0), (3421, 0.0017730694324165212), (3422, 0.0), (3423, 0.00293248075355444), (3424, 0.0), (3425, 0.0029695665811663614), (3426, 0.0), (3427, 0.0), (3428, 0.0), (3429, 0.0), (3430, 0.0021332385907503726), (3431, 0.002058048302310734), (3432, 0.01738545928499644), (3433, 0.0733942333932386), (3434, 0.0027265356325227048), (3435, 0.019162520462817623), (3436, 0.0025793325150085824), (3437, 0.0026829714507970188), (3438, 0.0), (3439, 0.0), (3440, 0.0), (3441, 0.0025418049999335296), (3442, 0.0), (3443, 0.0), (3444, 0.0), (3445, 0.025983580603582496), (3446, 0.010768468120087978), (3447, 0.002504317771553144), (3448, 0.0), (3449, 0.01409992830000563), (3450, 0.0029764945080101874), (3451, 0.0), (3452, 0.002389809742810676), (3453, 0.0), (3454, 0.009774658958046011), (3455, 0.0023532004617720583), (3456, 0.011465512664414968), (3457, 0.0), (3458, 0.0017558242556823416), (3459, 0.0090798370921927), (3460, 0.01414165430945551), (3461, 0.010651420623748062), (3462, 0.0), (3463, 0.039599252504614296), (3464, 0.010590347536455462), (3465, 0.0), (3466, 0.0), (3467, 0.0), (3468, 0.0), (3469, 0.0), (3470, 0.05866872499468245), (3471, 0.0020377352990846287), (3472, 0.012659567242340913), (3473, 0.03978433307009928), (3474, 0.002328782339137941), (3475, 0.0), (3476, 0.0), (3477, 0.002541317947771064), (3478, 0.00256286074016841), (3479, 0.0034226290248161088), (3480, 0.008193401958106035), (3481, 0.0), (3482, 0.0), (3483, 0.0027135191524511725), (3484, 0.0440398889245345), (3485, 0.0), (3486, 0.0), (3487, 0.002464100526581496), (3488, 0.0), (3489, 0.0), (3490, 0.0), (3491, 0.028305533660220324), (3492, 0.012539968669191366), (3493, 0.002682432502292686), (3494, 0.0), (3495, 0.009323801492573688), (3496, 0.0027509795439596306), (3497, 0.002800188315610208), (3498, 0.0024487018073463696), (3499, 0.002517716675157982), (3500, 0.03976632291173637), (3501, 0.0026051216548590205), (3502, 0.0), (3503, 0.0024575253990972716), (3504, 0.002454759778295286), (3505, 0.0), (3506, 0.0029558544940387808), (3507, 0.0), (3508, 0.0), (3509, 0.0), (3510, 0.0), (3511, 0.002697754859046693), (3512, 0.0039299146422732), (3513, 0.01834961629287547), (3514, 0.013621975529590147), (3515, 0.013933819817619545), (3516, 0.021834712146517114), (3517, 0.002653599512655781), (3518, 0.0), (3519, 0.0), (3520, 0.0), (3521, 0.003157315741711818), (3522, 0.010226968012915593), (3523, 0.003673912227129833), (3524, 0.022767047743082695), (3525, 0.011141916791325616), (3526, 0.00262280086232452), (3527, 0.015897011456253912), (3528, 0.0), (3529, 0.0), (3530, 0.03309478819893541), (3531, 0.0), (3532, 0.0), (3533, 0.015947665431005974), (3534, 0.06943473736551345), (3535, 0.0), (3536, 0.0026591975162051497), (3537, 0.0031788307817210127), (3538, 0.0020435353289638327), (3539, 0.02181691601398635), (3540, 0.0029891655269356477), (3541, 0.019465051267185656), (3542, 0.002622182780809038), (3543, 0.0), (3544, 0.0031196509507956274), (3545, 0.0), (3546, 0.0019120861437032324), (3547, 0.0), (3548, 0.0021075589179119884), (3549, 0.0), (3550, 0.0), (3551, 0.0025866466704334355), (3552, 0.004168220562748349), (3553, 0.0025400231000680474), (3554, 0.02609312860544249), (3555, 0.0), (3556, 0.0022915278525192876), (3557, 0.0025132034384900766), (3558, 0.002366060899713804), (3559, 0.008375584367461244), (3560, 0.002879604582600732), (3561, 0.003474211003570433), (3562, 0.031095912698780846), (3563, 0.011892337850195583), (3564, 0.002572798050607268), (3565, 0.002536386672519266), (3566, 0.009386348910545798), (3567, 0.0), (3568, 0.0), (3569, 0.03516162901594315), (3570, 0.01041983642448021), (3571, 0.0026206691256556885), (3572, 0.0), (3573, 0.0), (3574, 0.0), (3575, 0.010541430822686272), (3576, 0.0), (3577, 0.015516419135622324), (3578, 0.0), (3579, 0.0021876010577745455), (3580, 0.02887804909620404), (3581, 0.0), (3582, 0.0), (3583, 0.03210860982523348), (3584, 0.0), (3585, 0.0), (3586, 0.0), (3587, 0.050509597610655585), (3588, 0.0), (3589, 0.019338558023053343), (3590, 0.0027223923322970602), (3591, 0.0), (3592, 0.012423604411203437), (3593, 0.0028609169917455262), (3594, 0.016721422954001933), (3595, 0.0), (3596, 0.0025363743628773264), (3597, 0.0), (3598, 0.0), (3599, 0.0026759359004708046), (3600, 0.0), (3601, 0.002733243774303116), (3602, 0.0), (3603, 0.010685553506178632), (3604, 0.03519203185560952), (3605, 0.0), (3606, 0.002613092196890053), (3607, 0.0), (3608, 0.0016693145167649998), (3609, 0.009395909832304586), (3610, 0.0), (3611, 0.02198662588924136), (3612, 0.0025638346940306265), (3613, 0.015486275513125834), (3614, 0.018172118935642828), (3615, 0.0024134149255028233), (3616, 0.003187012872238916), (3617, 0.0), (3618, 0.0027165922690366735), (3619, 0.0), (3620, 0.0031207694120105236), (3621, 0.003015732038351701), (3622, 0.0), (3623, 0.0026438005609213575), (3624, 0.0025391062160647735), (3625, 0.0), (3626, 0.0019662419342819813), (3627, 0.0023712930310310133), (3628, 0.0), (3629, 0.0022010146283926828), (3630, 0.0), (3631, 0.0), (3632, 0.010213782053188512), (3633, 0.0), (3634, 0.019897647139867185), (3635, 0.0034650005475115424), (3636, 0.0026411262450669443), (3637, 0.013449079974020419), (3638, 0.0031952980355825365), (3639, 0.0029331113631376957), (3640, 0.017150979349265398), (3641, 0.043304397119693694), (3642, 0.0027791328090679616), (3643, 0.002603596193925012), (3644, 0.0), (3645, 0.0019317351833667495), (3646, 0.002423347418320243), (3647, 0.002521519536161528), (3648, 0.0), (3649, 0.0), (3650, 0.0), (3651, 0.002931804083452345), (3652, 0.0), (3653, 0.0026124881412646194), (3654, 0.0026953500739908386), (3655, 0.011355577147841717), (3656, 0.01202525655948664), (3657, 0.010595328916984996), (3658, 0.0), (3659, 0.0), (3660, 0.0024714498670908715), (3661, 0.0029229244836337653), (3662, 0.0), (3663, 0.0), (3664, 0.0), (3665, 0.002556755691129012), (3666, 0.0200919669849003), (3667, 0.0039188165633411605), (3668, 0.002169253806167928), (3669, 0.0021719003200797284), (3670, 0.0025847649062108414), (3671, 0.0), (3672, 0.0036417615639533453), (3673, 0.0025524753510008727), (3674, 0.0), (3675, 0.0030550333939430756), (3676, 0.0), (3677, 0.0028132004391292274), (3678, 0.031092003637671263), (3679, 0.0), (3680, 0.0028980881456260646), (3681, 0.0), (3682, 0.0), (3683, 0.0), (3684, 0.0), (3685, 0.0), (3686, 0.040879190877029056), (3687, 0.0032010315022160396), (3688, 0.0), (3689, 0.024946471756174426), (3690, 0.013097312750465037), (3691, 0.002438675212345532), (3692, 0.0027594403744599003), (3693, 0.09820441815001801), (3694, 0.02610132274650022), (3695, 0.04076117031844054), (3696, 0.028185037939171598), (3697, 0.03030282334832296), (3698, 0.043661952123213624), (3699, 0.0026176882233123386), (3700, 0.04071388035937174), (3701, 0.013376930155748827), (3702, 0.0), (3703, 0.0), (3704, 0.0027695571654633468), (3705, 0.002319086144035082), (3706, 0.03604505510569272), (3707, 0.002608403751747701), (3708, 0.0), (3709, 0.009739508574122053), (3710, 0.0), (3711, 0.0), (3712, 0.0), (3713, 0.0), (3714, 0.0028012851028301963), (3715, 0.0), (3716, 0.0188479828991438), (3717, 0.0), (3718, 0.0), (3719, 0.0025014898101736785), (3720, 0.0), (3721, 0.0), (3722, 0.0), (3723, 0.00943035692497429), (3724, 0.0), (3725, 0.0023863195656977166), (3726, 0.0), (3727, 0.002541047578642023), (3728, 0.013425982910003818), (3729, 0.0029701201260548867), (3730, 0.011462230178264922), (3731, 0.0), (3732, 0.009309681334884964), (3733, 0.0024408778033842417), (3734, 0.0024172181527053888), (3735, 0.011602908784716504), (3736, 0.0), (3737, 0.002861743703187011), (3738, 0.02086228211642338), (3739, 0.019563338452678096), (3740, 0.0), (3741, 0.0), (3742, 0.025753798332159114), (3743, 0.029380521458266615), (3744, 0.0), (3745, 0.003014793678511611), (3746, 0.010321920989185917), (3747, 0.0), (3748, 0.0), (3749, 0.016768058547239586), (3750, 0.0), (3751, 0.0021064728564464527), (3752, 0.008489171718684286), (3753, 0.04312354991504225), (3754, 0.0338939114805111), (3755, 0.0022650349384173516), (3756, 0.00209636574822743), (3757, 0.0027645851075667406), (3758, 0.0), (3759, 0.02005155454659858), (3760, 0.0), (3761, 0.0), (3762, 0.003338867590865727), (3763, 0.023660855435514026), (3764, 0.0), (3765, 0.002489514456879323), (3766, 0.003056285189105787), (3767, 0.002354244170071162), (3768, 0.0), (3769, 0.0), (3770, 0.0026800239971720903), (3771, 0.002775891994727595), (3772, 0.002916520854937575), (3773, 0.0), (3774, 0.04916007310162082), (3775, 0.0), (3776, 0.010976125432896767), (3777, 0.00270782819412351), (3778, 0.002662088555139862), (3779, 0.0030947327426492227), (3780, 0.03263179897106195), (3781, 0.0027459814456448454), (3782, 0.013727834365790122), (3783, 0.03942261828141501), (3784, 0.002439410981993802), (3785, 0.008831782830843531), (3786, 0.009587782442666592), (3787, 0.018379020880627636), (3788, 0.0), (3789, 0.0), (3790, 0.021284213393262162), (3791, 0.0), (3792, 0.031080097283382596), (3793, 0.0), (3794, 0.0), (3795, 0.0022925453626281705), (3796, 0.0), (3797, 0.02141327803469561), (3798, 0.010365009014973397), (3799, 0.014577923004557557), (3800, 0.0), (3801, 0.0022961398621820592), (3802, 0.0), (3803, 0.00917399602557854), (3804, 0.0028588918310616307), (3805, 0.009963502472334969), (3806, 0.0352759472182475), (3807, 0.019249139792924544), (3808, 0.01944545611053024), (3809, 0.0026258222263989116), (3810, 0.0), (3811, 0.012300795143866554), (3812, 0.01017066309239042), (3813, 0.0027963389532762), (3814, 0.0), (3815, 0.0), (3816, 0.0), (3817, 0.0), (3818, 0.0), (3819, 0.00241981764350276), (3820, 0.0), (3821, 0.0021493252871683625), (3822, 0.0028776350820662777), (3823, 0.0), (3824, 0.0), (3825, 0.0), (3826, 0.002463864011212548), (3827, 0.0025128192914765798), (3828, 0.0032412378856582565), (3829, 0.002382326156162377), (3830, 0.059778182306807974), (3831, 0.0), (3832, 0.0031287096295402697), (3833, 0.02883645781152952), (3834, 0.0), (3835, 0.03481044399528443), (3836, 0.0), (3837, 0.0), (3838, 0.0), (3839, 0.0023638955669521974), (3840, 0.0), (3841, 0.0022983273464246695), (3842, 0.0), (3843, 0.0), (3844, 0.0), (3845, 0.0026731824251199315), (3846, 0.045051435814363223), (3847, 0.07319450806422458), (3848, 0.0032514660226379143), (3849, 0.0), (3850, 0.05837489538246878), (3851, 0.0), (3852, 0.03734782327948987), (3853, 0.0), (3854, 0.06688779848937958), (3855, 0.002174614295260834), (3856, 0.03267781157887931), (3857, 0.014492676967025202), (3858, 0.0), (3859, 0.0), (3860, 0.0), (3861, 0.0), (3862, 0.0026766333746299866), (3863, 0.002302977435418347), (3864, 0.0), (3865, 0.0), (3866, 0.002954181721339231), (3867, 0.0029114151193969156), (3868, 0.019209905644126973), (3869, 0.02922856910899336), (3870, 0.010446638372090955), (3871, 0.0), (3872, 0.01010401434265084), (3873, 0.0027404149941871875), (3874, 0.0031339536541966045), (3875, 0.0020831003949298792), (3876, 0.002352532804456607), (3877, 0.002853464465186718), (3878, 0.0033683821618054176), (3879, 0.0), (3880, 0.019671803035813847), (3881, 0.0), (3882, 0.021129796184267573), (3883, 0.0029213571267092597), (3884, 0.002981835226280117), (3885, 0.0), (3886, 0.010069886569454069), (3887, 0.0), (3888, 0.0025358125093606562), (3889, 0.02098603102285383), (3890, 0.002479458174601008), (3891, 0.0), (3892, 0.0033316214159197265), (3893, 0.0027686501801869054), (3894, 0.002247679066822114), (3895, 0.0255843862099071), (3896, 0.0), (3897, 0.0), (3898, 0.002432057687133329), (3899, 0.007785186217870905), (3900, 0.002464420225272324), (3901, 0.0030908039282831713), (3902, 0.0026665855435543014), (3903, 0.0029355384971229688), (3904, 0.0027412434886224446), (3905, 0.0), (3906, 0.03347064161002584), (3907, 0.0), (3908, 0.0), (3909, 0.0), (3910, 0.002250022381174311), (3911, 0.00306239709946372), (3912, 0.010712400335641427), (3913, 0.002366025004766514), (3914, 0.0), (3915, 0.0027836979842052506), (3916, 0.0), (3917, 0.029780030040365425), (3918, 0.0), (3919, 0.0026791097394025147), (3920, 0.0026546135073846795), (3921, 0.0), (3922, 0.003163777109721673), (3923, 0.0), (3924, 0.0028172424314775223), (3925, 0.003814741059484313), (3926, 0.0), (3927, 0.0021331889989176754), (3928, 0.0021407862645715908), (3929, 0.0), (3930, 0.0), (3931, 0.0), (3932, 0.0047276020707661326), (3933, 0.0), (3934, 0.028314090720955504), (3935, 0.003019940363774689), (3936, 0.0), (3937, 0.022996827592274817), (3938, 0.029570997893493406), (3939, 0.0034134286193013945), (3940, 0.06594939536393667), (3941, 0.01222760533244499), (3942, 0.039380376047979435), (3943, 0.0), (3944, 0.0), (3945, 0.007462770973701122), (3946, 0.0), (3947, 0.0), (3948, 0.008834999538514412), (3949, 0.0), (3950, 0.0), (3951, 0.002990409171371597), (3952, 0.0029390414755844237), (3953, 0.0023318364039456715), (3954, 0.002418769893017386), (3955, 0.0), (3956, 0.0022842666721985226), (3957, 0.0021124300906345335), (3958, 0.0), (3959, 0.002654441448612876), (3960, 0.0029054809498078246), (3961, 0.022159649798050594), (3962, 0.0028783481685439555), (3963, 0.026463727343714768), (3964, 0.0), (3965, 0.030129493737655215), (3966, 0.0), (3967, 0.0028331310481893093), (3968, 0.0), (3969, 0.0), (3970, 0.06180005822739128), (3971, 0.0), (3972, 0.0), (3973, 0.0027286574968510774), (3974, 0.002306719691110005), (3975, 0.0), (3976, 0.0), (3977, 0.0), (3978, 0.00244450413888358), (3979, 0.010609142935851449), (3980, 0.11650788918276687), (3981, 0.0), (3982, 0.0), (3983, 0.00940609434368673), (3984, 0.04358493967529661), (3985, 0.0), (3986, 0.0023059494709122817), (3987, 0.002729621037743265), (3988, 0.0), (3989, 0.0), (3990, 0.0035374775278533594), (3991, 0.0), (3992, 0.002896992339705976), (3993, 0.0), (3994, 0.0), (3995, 0.0), (3996, 0.0), (3997, 0.018645014711581292), (3998, 0.0), (3999, 0.003155683167137229), (4000, 0.002542082705147613), (4001, 0.0), (4002, 0.0029763407184027354), (4003, 0.0), (4004, 0.020360440521876477), (4005, 0.0027384881216641773), (4006, 0.0), (4007, 0.0), (4008, 0.010881902981330373), (4009, 0.0), (4010, 0.0), (4011, 0.023827601531697908), (4012, 0.0), (4013, 0.014206092761876886), (4014, 0.002593095418506314), (4015, 0.0021141089806505733), (4016, 0.0025557988116689323), (4017, 0.003477826181242294), (4018, 0.03166278777368915), (4019, 0.003322291989190794), (4020, 0.03761359244286182), (4021, 0.0), (4022, 0.03787716707934595), (4023, 0.00302659395207564), (4024, 0.030447563757196535), (4025, 0.0026588211403263846), (4026, 0.0), (4027, 0.0), (4028, 0.0), (4029, 0.0), (4030, 0.002999730218127535), (4031, 0.0), (4032, 0.002990490275340835), (4033, 0.0027037357334049566), (4034, 0.02217188808559736), (4035, 0.0), (4036, 0.012267773586367738), (4037, 0.017989319501014758), (4038, 0.013949722496380807), (4039, 0.01851137584936555), (4040, 0.0), (4041, 0.0), (4042, 0.0028306285343034946), (4043, 0.0), (4044, 0.0), (4045, 0.0), (4046, 0.0028095817413048654), (4047, 0.0), (4048, 0.0028056556808617595), (4049, 0.0026010206801999622), (4050, 0.0), (4051, 0.002859245050267038), (4052, 0.0027086304856605435), (4053, 0.002325515524718374), (4054, 0.020518413914618477), (4055, 0.009012888989927359), (4056, 0.0025490060825076135), (4057, 0.011391535683526147), (4058, 0.0), (4059, 0.0023966961960842402), (4060, 0.0025462409941546687), (4061, 0.0), (4062, 0.003104146595902344), (4063, 0.031655793945700735), (4064, 0.0), (4065, 0.0), (4066, 0.0022506765205349303), (4067, 0.0), (4068, 0.0026036733301788993), (4069, 0.014854320998788629), (4070, 0.009994402391390532), (4071, 0.03479362173855947), (4072, 0.0), (4073, 0.0), (4074, 0.011742547572639317), (4075, 0.0029904343683945923), (4076, 0.05377493907338888), (4077, 0.0), (4078, 0.0), (4079, 0.0026567679211061458), (4080, 0.0022979269783436587), (4081, 0.002577039679350458), (4082, 0.04128709590305291), (4083, 0.020202251272820472), (4084, 0.0), (4085, 0.0024392598988082544), (4086, 0.0), (4087, 0.002786010928020629), (4088, 0.0), (4089, 0.0026685018227350743), (4090, 0.0), (4091, 0.0), (4092, 0.027293520240915404), (4093, 0.0), (4094, 0.0), (4095, 0.002174984981125291), (4096, 0.029790530518229396), (4097, 0.011482638608202802), (4098, 0.002627039869243496), (4099, 0.009989923891197187), (4100, 0.04882634749085335), (4101, 0.0137035931020393), (4102, 0.0032540436044450278), (4103, 0.0), (4104, 0.0022716857885741975), (4105, 0.0), (4106, 0.0), (4107, 0.003164584559493353), (4108, 0.0), (4109, 0.01718241415478626), (4110, 0.0), (4111, 0.002743585533608602), (4112, 0.0), (4113, 0.0028465855527575784), (4114, 0.0), (4115, 0.0), (4116, 0.0027940939046297787), (4117, 0.0029255540715728686), (4118, 0.0), (4119, 0.0), (4120, 0.0), (4121, 0.01991957096305156), (4122, 0.0), (4123, 0.002706044402025703), (4124, 0.0024250308875707603), (4125, 0.017436123184902792), (4126, 0.002982243257118448), (4127, 0.0), (4128, 0.0), (4129, 0.0024806637659480295), (4130, 0.002801184091865486), (4131, 0.0), (4132, 0.002758626169565941), (4133, 0.002794508103100667), (4134, 0.0), (4135, 0.0025992062240876553), (4136, 0.04671011880181516), (4137, 0.01316806199033267), (4138, 0.0028407413196883725), (4139, 0.002474836118542729), (4140, 0.0028002180764147362), (4141, 0.0022850586127450274), (4142, 0.0032766191250057555), (4143, 0.046289634981033285), (4144, 0.0), (4145, 0.018065146310468464), (4146, 0.0), (4147, 0.0031206078728373042), (4148, 0.03563746611359915), (4149, 0.03476470221844878), (4150, 0.0), (4151, 0.00440333638901776), (4152, 0.012449128549218048), (4153, 0.015298351789877953), (4154, 0.002315828525014889), (4155, 0.0024484049124081546), (4156, 0.0022465423172175697), (4157, 0.0), (4158, 0.02839309286584338), (4159, 0.025560278108901546), (4160, 0.002873444107187788), (4161, 0.002757124968832189), (4162, 0.0), (4163, 0.002971330498393616), (4164, 0.00957580811485642), (4165, 0.0), (4166, 0.0), (4167, 0.010719296291417692), (4168, 0.0), (4169, 0.013899219005776866), (4170, 0.0), (4171, 0.02108631443680793), (4172, 0.0033881353510703156), (4173, 0.0), (4174, 0.002358900174722626), (4175, 0.0027289652219424504), (4176, 0.0023565794050960497), (4177, 0.009184534107109356), (4178, 0.0026910477626271687), (4179, 0.0), (4180, 0.0), (4181, 0.0), (4182, 0.0800338803170056), (4183, 0.0024857208722937406), (4184, 0.0), (4185, 0.0), (4186, 0.0), (4187, 0.002907975217338591), (4188, 0.009928581677856017), (4189, 0.002621513919027912), (4190, 0.0), (4191, 0.02625243382772007), (4192, 0.002481760969488469), (4193, 0.0), (4194, 0.012842697538549958), (4195, 0.0), (4196, 0.0), (4197, 0.04133063007935514), (4198, 0.0), (4199, 0.02674072157195752), (4200, 0.002118939944192488), (4201, 0.0), (4202, 0.003583602869270343), (4203, 0.0029707235786809506), (4204, 0.0), (4205, 0.0022891417446979077), (4206, 0.0024344160100148917), (4207, 0.0), (4208, 0.0), (4209, 0.0031404732405933633), (4210, 0.03249902344597174), (4211, 0.0), (4212, 0.0), (4213, 0.002436996850350699), (4214, 0.0), (4215, 0.0), (4216, 0.0), (4217, 0.0), (4218, 0.009774336640183859), (4219, 0.0), (4220, 0.0022608887702206654), (4221, 0.0034265348303870726), (4222, 0.003437155777887241), (4223, 0.0), (4224, 0.0), (4225, 0.0026903031028481725), (4226, 0.01146309274804601), (4227, 0.0), (4228, 0.01519347765138843), (4229, 0.0), (4230, 0.0032838025370455857), (4231, 0.0027338820868379682), (4232, 0.0022280443629826147), (4233, 0.0), (4234, 0.0), (4235, 0.0), (4236, 0.0), (4237, 0.008896171972681726), (4238, 0.0), (4239, 0.07106684065745877), (4240, 0.0), (4241, 0.012674926970935302), (4242, 0.003183903056391229), (4243, 0.0029176094214110907), (4244, 0.002936056982066576), (4245, 0.002753559968381943), (4246, 0.002426588615688943), (4247, 0.011468453157750897), (4248, 0.0), (4249, 0.0026443315066271345), (4250, 0.0), (4251, 0.0), (4252, 0.0), (4253, 0.0), (4254, 0.002406401030230979), (4255, 0.028581736281586268), (4256, 0.028294775739074487), (4257, 0.002414282560705642), (4258, 0.0), (4259, 0.014493643736948024), (4260, 0.0), (4261, 0.0), (4262, 0.0026607398908142315), (4263, 0.0028227529966197897), (4264, 0.0), (4265, 0.0), (4266, 0.0025860978391916757), (4267, 0.0029428504162437408), (4268, 0.056955061385585974), (4269, 0.002749005591895053), (4270, 0.009322113066593963), (4271, 0.0), (4272, 0.01215838149549338), (4273, 0.01573739753942938), (4274, 0.0), (4275, 0.0), (4276, 0.0), (4277, 0.0023474603393204407), (4278, 0.0), (4279, 0.009555684063925998), (4280, 0.0030373310565394527), (4281, 0.0), (4282, 0.025953572120403088), (4283, 0.00261243084738674), (4284, 0.002514637570031376), (4285, 0.0), (4286, 0.020458828733249536), (4287, 0.0026477484843504514), (4288, 0.02229464765966148), (4289, 0.0), (4290, 0.0), (4291, 0.07987781072008479), (4292, 0.009414787095138596), (4293, 0.002859833318655005), (4294, 0.010234336549220983), (4295, 0.0029261016877353604), (4296, 0.0022323555609135896), (4297, 0.0), (4298, 0.0031441470841862803), (4299, 0.029126274898242578), (4300, 0.0), (4301, 0.0019014376612463428), (4302, 0.0), (4303, 0.0), (4304, 0.0023001827530438382), (4305, 0.0), (4306, 0.003168512785460252), (4307, 0.0), (4308, 0.0028105333711418066), (4309, 0.0025014222053012193), (4310, 0.0), (4311, 0.0020821811671129986), (4312, 0.02315863747567139), (4313, 0.0), (4314, 0.0), (4315, 0.0), (4316, 0.0), (4317, 0.0), (4318, 0.02121471473955474), (4319, 0.03233196726358169), (4320, 0.0025563462037166977), (4321, 0.0024399501500091945), (4322, 0.0), (4323, 0.010525376945590635), (4324, 0.06547698601257515), (4325, 0.0), (4326, 0.002349679502676499), (4327, 0.018506583310308654), (4328, 0.0), (4329, 0.0), (4330, 0.03097525278638716), (4331, 0.0), (4332, 0.0), (4333, 0.002883849930440016), (4334, 0.002648845410122334), (4335, 0.0), (4336, 0.05199209112016351), (4337, 0.0), (4338, 0.010914341006352473), (4339, 0.0), (4340, 0.002650645576616792), (4341, 0.0), (4342, 0.0), (4343, 0.02133285103107186), (4344, 0.002190766689141973), (4345, 0.05105714254815975), (4346, 0.03191187944296463), (4347, 0.0), (4348, 0.00235685958521972), (4349, 0.002520084371476899), (4350, 0.0023100120238770403), (4351, 0.0), (4352, 0.0), (4353, 0.0), (4354, 0.0026810194262179006), (4355, 0.0027303037739969753), (4356, 0.012135027858203223), (4357, 0.002731900802684628), (4358, 0.0), (4359, 0.0023398098027342714), (4360, 0.04378571428326203), (4361, 0.0026663844782021267), (4362, 0.002509429525756392), (4363, 0.002684217092283465), (4364, 0.02842210203273413), (4365, 0.0), (4366, 0.0), (4367, 0.0), (4368, 0.0028843637511891482), (4369, 0.0029485107647935827), (4370, 0.0), (4371, 0.0027482857945883626), (4372, 0.0), (4373, 0.012637619684598955), (4374, 0.002432760529351222), (4375, 0.0), (4376, 0.0), (4377, 0.0), (4378, 0.021514296663073085), (4379, 0.00265536134906008), (4380, 0.0), (4381, 0.002484587526493128), (4382, 0.002478190171449205), (4383, 0.0), (4384, 0.0), (4385, 0.009126294335171732), (4386, 0.0022103516133212425), (4387, 0.0024989736276918723), (4388, 0.0), (4389, 0.0), (4390, 0.013317786503212204), (4391, 0.00259001555820494), (4392, 0.0), (4393, 0.0), (4394, 0.0025431536939560847), (4395, 0.002493259137362259), (4396, 0.0028673420904118388), (4397, 0.0028522698919428158), (4398, 0.0029614374935511825), (4399, 0.00242208260810961), (4400, 0.0032670636803298204), (4401, 0.002863397579739803), (4402, 0.002369791973566928), (4403, 0.0032665545145437623), (4404, 0.0), (4405, 0.0), (4406, 0.0), (4407, 0.0033522798000004735), (4408, 0.0), (4409, 0.0025476937540623475), (4410, 0.0), (4411, 0.0021956018629809165), (4412, 0.003002170326238147), (4413, 0.0), (4414, 0.0), (4415, 0.0), (4416, 0.003016730883288327), (4417, 0.0), (4418, 0.003365944439633629), (4419, 0.013089038072960881), (4420, 0.002702406680120877), (4421, 0.01752443220387975), (4422, 0.002648447758232166), (4423, 0.0033233175551390212), (4424, 0.0), (4425, 0.0), (4426, 0.0), (4427, 0.019328881675264725), (4428, 0.0024335630922681863), (4429, 0.0022252220493876895), (4430, 0.021020049046784384), (4431, 0.002740818198465888), (4432, 0.05123479928914447), (4433, 0.0), (4434, 0.0), (4435, 0.0025750813485056943), (4436, 0.0), (4437, 0.029745045616812075), (4438, 0.06688802879712027), (4439, 0.0235580589532717), (4440, 0.0), (4441, 0.0), (4442, 0.002485863867718928), (4443, 0.0031395536714701106), (4444, 0.0033571986947136903), (4445, 0.041798560688760734), (4446, 0.0028114103701796385), (4447, 0.0), (4448, 0.05909892040816237), (4449, 0.0), (4450, 0.0), (4451, 0.0), (4452, 0.0), (4453, 0.0), (4454, 0.011528241600745342), (4455, 0.012025060675180995), (4456, 0.0), (4457, 0.0), (4458, 0.003056602264912401), (4459, 0.0), (4460, 0.0), (4461, 0.0024672302044787186), (4462, 0.011849325044974624), (4463, 0.0607799407842509), (4464, 0.0), (4465, 0.0029372233580009437), (4466, 0.0), (4467, 0.0), (4468, 0.0), (4469, 0.0032021225226667492), (4470, 0.0026422765154168457), (4471, 0.03986207675743457), (4472, 0.0024773895120175737), (4473, 0.002232079151873348), (4474, 0.0026984797122381853), (4475, 0.0023046433248851833), (4476, 0.002193039374330232), (4477, 0.0029941472830337565), (4478, 0.045198437339938446), (4479, 0.018490820670014486), (4480, 0.07812061470198436), (4481, 0.0), (4482, 0.009910830594447556), (4483, 0.012508109002271265), (4484, 0.0034170109416251865), (4485, 0.0), (4486, 0.018153273573799294), (4487, 0.0025249539692416556), (4488, 0.027271467093445113), (4489, 0.0027181468463158397), (4490, 0.003039350332818225), (4491, 0.0), (4492, 0.0), (4493, 0.027759155397151385), (4494, 0.002895277253931786), (4495, 0.013976182015875742), (4496, 0.0), (4497, 0.002683186992992417), (4498, 0.0), (4499, 0.0), (4500, 0.0), (4501, 0.037314910892912195), (4502, 0.0023407271273109807), (4503, 0.07294778951598303), (4504, 0.002473539851376674), (4505, 0.021251032805101506), (4506, 0.0), (4507, 0.002943726241517454), (4508, 0.0), (4509, 0.009891249029637648), (4510, 0.0), (4511, 0.002549043930767776), (4512, 0.0), (4513, 0.0), (4514, 0.0), (4515, 0.0), (4516, 0.014397298602945469), (4517, 0.002578357037064388), (4518, 0.03398938365548496), (4519, 0.0), (4520, 0.0025370613995110893), (4521, 0.019195657834973973), (4522, 0.0027929347698188666), (4523, 0.0024516461695143336), (4524, 0.05115013429634514), (4525, 0.0), (4526, 0.0), (4527, 0.0), (4528, 0.01670144189737003), (4529, 0.0034362647509679073), (4530, 0.002506454159258271), (4531, 0.0028402487267970952), (4532, 0.0), (4533, 0.0026229414984259665), (4534, 0.0), (4535, 0.002868525851382711), (4536, 0.0024485334113488215), (4537, 0.0), (4538, 0.0), (4539, 0.0), (4540, 0.0027537862360690287), (4541, 0.0), (4542, 0.009879429316940143), (4543, 0.0), (4544, 0.0031971184720825684), (4545, 0.0027734092713543527), (4546, 0.0033127565117885617), (4547, 0.0), (4548, 0.0), (4549, 0.0), (4550, 0.03378134989820628), (4551, 0.0028362938317199075), (4552, 0.01035758503465851), (4553, 0.0), (4554, 0.0030464625276823225), (4555, 0.003862593858439325), (4556, 0.0), (4557, 0.0), (4558, 0.0), (4559, 0.0), (4560, 0.0), (4561, 0.0), (4562, 0.0), (4563, 0.002628021723535114), (4564, 0.05259451484776333), (4565, 0.0), (4566, 0.013235487453801764), (4567, 0.0024494237790479464), (4568, 0.034677030083137966), (4569, 0.009380218512603157), (4570, 0.0), (4571, 0.004072434740116896), (4572, 0.0031453737879897853), (4573, 0.0024844724480730337), (4574, 0.0027441033869583346), (4575, 0.0027116781464728546), (4576, 0.04369072780676679), (4577, 0.015414170407917207), (4578, 0.0), (4579, 0.0027624374263339525), (4580, 0.0), (4581, 0.06521758067000978), (4582, 0.0), (4583, 0.016961681125784153), (4584, 0.003013008793954015), (4585, 0.0), (4586, 0.013345159260972182), (4587, 0.0), (4588, 0.0), (4589, 0.025226392870760388), (4590, 0.04580752526424452), (4591, 0.0023835940692636063), (4592, 0.02658074966969512), (4593, 0.0028498140854634896), (4594, 0.0030187030170967894), (4595, 0.0), (4596, 0.0), (4597, 0.020292139342222664), (4598, 0.02513475533267688), (4599, 0.020089523493479467), (4600, 0.0), (4601, 0.0028051586233870996), (4602, 0.002811870800468295), (4603, 0.0023906292425123184), (4604, 0.0025766980230331024), (4605, 0.002846773940478862), (4606, 0.03919273470230286), (4607, 0.003721552680010121), (4608, 0.002274288284109025), (4609, 0.010061253699221558), (4610, 0.010951007601077561), (4611, 0.01673530349550604), (4612, 0.00319051211517318), (4613, 0.010578239412579182), (4614, 0.0024479818684462174), (4615, 0.0), (4616, 0.002367448815998244), (4617, 0.0035051794497075006), (4618, 0.0), (4619, 0.0028276862891980833), (4620, 0.002341643134116583), (4621, 0.0), (4622, 0.0), (4623, 0.0), (4624, 0.002687448924626338), (4625, 0.0026610459387635186), (4626, 0.0020720470229815963), (4627, 0.00219909658154969), (4628, 0.01082259596462617), (4629, 0.029412597950420373), (4630, 0.0), (4631, 0.0), (4632, 0.0030214618166593144), (4633, 0.0030119184250172112), (4634, 0.0023914264956842214), (4635, 0.018229134415975803), (4636, 0.002161253506789704), (4637, 0.0030410843610553296), (4638, 0.0023378400409727104), (4639, 0.0), (4640, 0.002567594490452169), (4641, 0.02356047900544138), (4642, 0.02066845112469658), (4643, 0.002636233606738318), (4644, 0.0), (4645, 0.0), (4646, 0.0), (4647, 0.0), (4648, 0.0), (4649, 0.002353624339763742), (4650, 0.015037352185488078), (4651, 0.0), (4652, 0.0019589256198772813), (4653, 0.02141289709700764), (4654, 0.0), (4655, 0.0), (4656, 0.0), (4657, 0.002756356826348513), (4658, 0.002463883596613043), (4659, 0.0), (4660, 0.0031603122623742345), (4661, 0.0022717526083397286), (4662, 0.01776268079848799), (4663, 0.0), (4664, 0.0), (4665, 0.0), (4666, 0.0), (4667, 0.0), (4668, 0.0025252725021840537), (4669, 0.0027912920065615984), (4670, 0.002454965682735661), (4671, 0.0), (4672, 0.0), (4673, 0.0024822445816495998), (4674, 0.01554179982282761), (4675, 0.0), (4676, 0.0247573270606322), (4677, 0.0025903559974320787), (4678, 0.0), (4679, 0.002253155528486749), (4680, 0.002740190321951193), (4681, 0.0), (4682, 0.0), (4683, 0.0), (4684, 0.02804694423858398), (4685, 0.002516150628812346), (4686, 0.0025784794447713515), (4687, 0.002505951804555664), (4688, 0.0), (4689, 0.0), (4690, 0.0), (4691, 0.0), (4692, 0.003199140311446986), (4693, 0.0024894841936387775), (4694, 0.0030112802281697278), (4695, 0.0), (4696, 0.0033575502030400457), (4697, 0.0), (4698, 0.0), (4699, 0.002891622901944922), (4700, 0.0), (4701, 0.02306273211488748), (4702, 0.0), (4703, 0.020352969126258284), (4704, 0.003501173771427578), (4705, 0.0036642179154802814), (4706, 0.0028473049511923954), (4707, 0.0), (4708, 0.0), (4709, 0.023805609786552804), (4710, 0.003239508211247713), (4711, 0.0), (4712, 0.0023087182039711585), (4713, 0.0029667982669801577), (4714, 0.0), (4715, 0.002569466580687132), (4716, 0.0), (4717, 0.00302617611440212), (4718, 0.0028743239566208986), (4719, 0.004963681084992515), (4720, 0.0), (4721, 0.020893925423743857), (4722, 0.0027784058805231404), (4723, 0.003133518958396167), (4724, 0.0031592468157856067), (4725, 0.0), (4726, 0.00814982278869943), (4727, 0.0), (4728, 0.0), (4729, 0.002461757524388092), (4730, 0.0), (4731, 0.0029016916843892827), (4732, 0.0027953230683433654), (4733, 0.02352542201748034), (4734, 0.0027696555359770954), (4735, 0.003032707407185369), (4736, 0.0), (4737, 0.0), (4738, 0.016780126674484794), (4739, 0.0052261971150683265), (4740, 0.0), (4741, 0.01194843712785435), (4742, 0.011093525682775437), (4743, 0.002500628962785016), (4744, 0.0020775890527028966), (4745, 0.0), (4746, 0.0), (4747, 0.0), (4748, 0.0022196045350893145), (4749, 0.003439442407721658), (4750, 0.0), (4751, 0.0), (4752, 0.011015973000066393), (4753, 0.002922363948880779), (4754, 0.04162787758226949), (4755, 0.0), (4756, 0.013543638887686029), (4757, 0.013702615063802126), (4758, 0.0), (4759, 0.0)]\n"
          ]
        }
      ]
    },
    {
      "cell_type": "code",
      "source": [
        "len(Recommendation_Score)"
      ],
      "metadata": {
        "id": "oZfMUzneEgav",
        "colab": {
          "base_uri": "https://localhost:8080/"
        },
        "outputId": "67a6b8ca-8916-4b17-f2ed-45616180ef67"
      },
      "execution_count": null,
      "outputs": [
        {
          "output_type": "execute_result",
          "data": {
            "text/plain": [
              "4760"
            ]
          },
          "metadata": {},
          "execution_count": 45
        }
      ]
    },
    {
      "cell_type": "markdown",
      "source": [
        "# Get All Movies Sort Based on Recommendation Score wrt Favourite Movie"
      ],
      "metadata": {
        "id": "y_iB1bfpHYRU"
      }
    },
    {
      "cell_type": "code",
      "source": [
        "# sorting the movie bsed on their similarity score\n",
        "Sorted_Similar_Movies = sorted(Recommendation_Score, key = lambda x:x[1], reverse = True)\n",
        "print(Sorted_Similar_Movies)"
      ],
      "metadata": {
        "colab": {
          "base_uri": "https://localhost:8080/"
        },
        "id": "_lbGMjGEHghv",
        "outputId": "96cc9307-118f-4fc8-e276-0156d33ef9fc"
      },
      "execution_count": null,
      "outputs": [
        {
          "output_type": "stream",
          "name": "stdout",
          "text": [
            "[(480, 1.0000000000000002), (1908, 0.17746927016454045), (3126, 0.119796058200707), (492, 0.11679034919160668), (3980, 0.11650788918276687), (799, 0.11267625880381191), (1218, 0.11201884982705378), (1740, 0.10472425664534027), (3693, 0.09820441815001801), (604, 0.09441605765072442), (1714, 0.08824404235466665), (1041, 0.08572034533891106), (3101, 0.08565022854038998), (203, 0.08228515649168847), (533, 0.08135405884025713), (4182, 0.0800338803170056), (475, 0.07991761921108), (4291, 0.07987781072008479), (1762, 0.07866244812252184), (4480, 0.07812061470198436), (47, 0.077472002527489), (727, 0.07693166637834914), (374, 0.07476684327723661), (2843, 0.07432269776079972), (3433, 0.0733942333932386), (3847, 0.07319450806422458), (4503, 0.07294778951598303), (4239, 0.07106684065745877), (2793, 0.07063736853377234), (817, 0.06999585160142718), (1442, 0.06987410284022826), (2827, 0.0697329124784365), (2591, 0.0695522842506787), (3534, 0.06943473736551345), (3225, 0.06885841962582435), (1568, 0.06843823255118746), (3394, 0.06832750056487563), (3398, 0.06793627222578498), (2935, 0.06709637779886721), (4438, 0.06688802879712027), (3854, 0.06688779848937958), (1965, 0.06616115766638049), (199, 0.06595240640913604), (3940, 0.06594939536393667), (713, 0.06563400202313817), (4324, 0.06547698601257515), (4581, 0.06521758067000978), (186, 0.06516563043657105), (859, 0.0651656199780383), (998, 0.06482790948604057), (594, 0.06465058001375393), (3200, 0.0637411958236061), (353, 0.06354374803909377), (696, 0.06337709930775409), (387, 0.06285204164663011), (1160, 0.061975638756760314), (3970, 0.06180005822739128), (3385, 0.06163179256105538), (1356, 0.0612200026764872), (3150, 0.06114598188770088), (4463, 0.0607799407842509), (1649, 0.060219445681730654), (389, 0.06018160236127468), (393, 0.060087000536360964), (183, 0.05988291724417273), (3830, 0.059778182306807974), (2258, 0.05937662191542233), (4448, 0.05909892040816237), (1054, 0.05905728299955766), (3470, 0.05866872499468245), (3850, 0.05837489538246878), (1172, 0.05828186250856052), (2355, 0.057542672366311026), (2444, 0.057128457286535345), (1246, 0.05710025135015194), (4268, 0.056955061385585974), (3113, 0.05662663122698689), (644, 0.05639596649669332), (2259, 0.05494749505178587), (228, 0.054780062108490485), (108, 0.054683877714048), (3368, 0.054031542045780506), (441, 0.053957379865196595), (4076, 0.05377493907338888), (2680, 0.053653256405682886), (2430, 0.05324388061999391), (2140, 0.053221672808418816), (115, 0.053098387525309286), (1029, 0.052967432803586054), (285, 0.05266303597665568), (2760, 0.05260057255749482), (1496, 0.052597374690504614), (4564, 0.05259451484776333), (2397, 0.0522665172733812), (2866, 0.052115945635854595), (4336, 0.05199209112016351), (3213, 0.05194688940021805), (912, 0.051936780991935105), (4432, 0.05123479928914447), (4524, 0.05115013429634514), (4345, 0.05105714254815975), (865, 0.05069744653956147), (572, 0.05055991557186233), (3587, 0.050509597610655585), (1750, 0.04995866727577475), (2992, 0.049376808048256775), (3102, 0.049308648998430016), (2058, 0.04929290888642415), (883, 0.049292836383261804), (892, 0.04919856040212276), (3774, 0.04916007310162082), (1995, 0.04914964213656682), (1069, 0.04913769370064507), (1730, 0.049073285667784114), (900, 0.04901052209976254), (857, 0.049005381365614435), (4100, 0.04882634749085335), (1175, 0.048777535169719284), (215, 0.0486809429434249), (2689, 0.048394716185336514), (2037, 0.04836257798002822), (1015, 0.04797096960341612), (2104, 0.047902669064545884), (3286, 0.04774567459396139), (3195, 0.047700797858641175), (1153, 0.04757348001885282), (425, 0.04743669827020846), (1050, 0.046944561860597304), (1533, 0.046794379928341776), (4136, 0.04671011880181516), (2018, 0.04633265068128449), (4143, 0.046289634981033285), (2743, 0.046149143420467865), (4590, 0.04580752526424452), (390, 0.045799723055382734), (2371, 0.045796208236709476), (2886, 0.045693319376717965), (1338, 0.0452567942025479), (4478, 0.045198437339938446), (910, 0.04519709378522348), (2746, 0.04510496368188597), (3846, 0.045051435814363223), (361, 0.044876638304331695), (2439, 0.04484636571829727), (2208, 0.0448234767062476), (2708, 0.04476602080386681), (2483, 0.04474122558282846), (897, 0.04471511789180483), (911, 0.04470188188752649), (1964, 0.044569326992218744), (1220, 0.04456354556230202), (1330, 0.04449912609069958), (1143, 0.04422319327346885), (1981, 0.04407428955258316), (3484, 0.0440398889245345), (940, 0.04403403769677198), (184, 0.043809106184498285), (4360, 0.04378571428326203), (4576, 0.04369072780676679), (3698, 0.043661952123213624), (1418, 0.04360962027859637), (213, 0.04358989949336799), (3984, 0.04358493967529661), (3641, 0.043304397119693694), (85, 0.04327378288753552), (631, 0.0432272854121009), (1764, 0.043123959883427876), (3753, 0.04312354991504225), (988, 0.04308556318286914), (1591, 0.04296733860705043), (2864, 0.04259938980328701), (1202, 0.04236677357255133), (302, 0.04235676644574286), (493, 0.04228765535780064), (1689, 0.04228151668619179), (4445, 0.041798560688760734), (3018, 0.04173191664417701), (4754, 0.04162787758226949), (564, 0.04155277999123972), (3072, 0.04141249298889032), (4197, 0.04133063007935514), (4082, 0.04128709590305291), (929, 0.04125197520298835), (1131, 0.041147703082221765), (1179, 0.04100515125908233), (3196, 0.040916645491927306), (979, 0.040908364849811536), (3686, 0.040879190877029056), (1390, 0.04084982209077929), (1332, 0.04084089181798702), (3695, 0.04076117031844054), (3142, 0.0407521834898527), (885, 0.04074511175130964), (3700, 0.04071388035937174), (755, 0.04057189815380638), (282, 0.04043819810080651), (107, 0.04041114387086964), (1529, 0.04009768742265904), (154, 0.03991502885832285), (4471, 0.03986207675743457), (3473, 0.03978433307009928), (3500, 0.03976632291173637), (350, 0.03972380736450152), (468, 0.03969484457686147), (1052, 0.03968139431904443), (3463, 0.039599252504614296), (3783, 0.03942261828141501), (726, 0.03941744377622759), (3942, 0.039380376047979435), (2590, 0.03935475669974388), (3130, 0.03932890042358616), (1675, 0.03927108819195133), (4606, 0.03919273470230286), (887, 0.038988355955004196), (2250, 0.03898199864768925), (909, 0.03879868968979557), (1241, 0.03878936692436701), (434, 0.03874128458019493), (1263, 0.038527290473438364), (2558, 0.03834536666748613), (3300, 0.03809001049574759), (4022, 0.03787716707934595), (613, 0.03783779811435574), (2482, 0.03780183045222207), (355, 0.037760305099251205), (2469, 0.037750103657968326), (2057, 0.037705998067082865), (715, 0.03764083368463133), (4020, 0.03761359244286182), (96, 0.037513537920941885), (934, 0.03737642594381506), (3852, 0.03734782327948987), (4501, 0.037314910892912195), (1528, 0.03728269528861158), (401, 0.03726983873496781), (2957, 0.03675911280340882), (3092, 0.03665082489657652), (548, 0.03663672721805038), (1902, 0.0366270360282763), (1524, 0.03659807218270673), (595, 0.036367819308362845), (371, 0.03619468386391013), (35, 0.03604999959447062), (3706, 0.03604505510569272), (2516, 0.035946561774655765), (3129, 0.035925408780756694), (2822, 0.03577146085444101), (2039, 0.03576931175559485), (4148, 0.03563746611359915), (1661, 0.0356096041877014), (93, 0.035534017195967424), (810, 0.03547436774434922), (510, 0.035472741043446235), (725, 0.03533752691498912), (1968, 0.03531226479648638), (3806, 0.0352759472182475), (2268, 0.03524003700770235), (3604, 0.03519203185560952), (132, 0.03516394269013179), (3569, 0.03516162901594315), (1273, 0.03515084105596933), (577, 0.03509498209386428), (385, 0.03492362408794769), (3835, 0.03481044399528443), (4071, 0.03479362173855947), (800, 0.03476710192768931), (4149, 0.03476470221844878), (4568, 0.034677030083137966), (3057, 0.034662275474944146), (1157, 0.034644748705043846), (3355, 0.034593581355653144), (1616, 0.03456786920709408), (2465, 0.03448169657377867), (1301, 0.03413026255292514), (1357, 0.034036505065410075), (3174, 0.034019590952801625), (4518, 0.03398938365548496), (1990, 0.03395121868745815), (3208, 0.03393660981878832), (3754, 0.0338939114805111), (4550, 0.03378134989820628), (3242, 0.03363654730125356), (550, 0.03350067825645782), (3906, 0.03347064161002584), (3157, 0.03344362250897876), (357, 0.03337866876153129), (997, 0.03336650919838573), (312, 0.03329673343837832), (875, 0.03328832281435318), (3143, 0.03322813560977476), (2294, 0.03321521995244054), (1140, 0.03314747574844122), (1603, 0.033106997983399424), (3530, 0.03309478819893541), (1747, 0.0330928654120354), (231, 0.03308183288962443), (1748, 0.03301036337936791), (349, 0.03299429247091823), (298, 0.03295513364433068), (500, 0.03294420176193795), (442, 0.03288738929960116), (2894, 0.03287738701053396), (1618, 0.03284996828311637), (193, 0.0327315948825698), (436, 0.032699069025158435), (359, 0.03269857138841856), (3856, 0.03267781157887931), (3780, 0.03263179897106195), (2118, 0.0326062418002799), (1474, 0.03259336778750899), (2009, 0.032551572579356376), (522, 0.032543974639495), (4210, 0.03249902344597174), (1249, 0.032490678439737505), (2064, 0.03245355055562644), (190, 0.03238028121179328), (1525, 0.03234598959579026), (4319, 0.03233196726358169), (1656, 0.03232512361723976), (1869, 0.032260102611747096), (3583, 0.03210860982523348), (3404, 0.03209749201788693), (1495, 0.032096119679614954), (4346, 0.03191187944296463), (2184, 0.03186879654590052), (2753, 0.03183653076177553), (3392, 0.031823016083265425), (419, 0.03175481553180402), (3178, 0.031742188207260644), (2028, 0.0317334041467677), (4018, 0.03166278777368915), (4063, 0.031655793945700735), (299, 0.03154271194892205), (2134, 0.03153709051766935), (1664, 0.0315325184483739), (399, 0.03152232280664623), (1736, 0.03145471786132455), (619, 0.03131052579390849), (1658, 0.031215494857388257), (750, 0.031135860569355644), (3562, 0.031095912698780846), (3678, 0.031092003637671263), (3792, 0.031080097283382596), (4330, 0.03097525278638716), (969, 0.030668188329948706), (1780, 0.030552310298024216), (2511, 0.030551818505459936), (2798, 0.03051154050310424), (4024, 0.030447563757196535), (2069, 0.030416744237603013), (2892, 0.03041182870138311), (3697, 0.03030282334832296), (578, 0.030237317566527432), (3001, 0.030223468785514726), (310, 0.030222650024639836), (97, 0.030160761695643586), (1290, 0.030138613340206784), (3965, 0.030129493737655215), (1579, 0.030117240593399132), (1820, 0.030022107391824968), (381, 0.029938868409426098), (1896, 0.029910642326402972), (1991, 0.02990097787165437), (659, 0.02984313769858027), (4096, 0.029790530518229396), (3917, 0.029780030040365425), (4437, 0.029745045616812075), (165, 0.029710300088257695), (783, 0.02970094233722571), (178, 0.029659890213580217), (1570, 0.029651740213216718), (2061, 0.02960173043316769), (3387, 0.02957308321668902), (3938, 0.029570997893493406), (2083, 0.02950632270403744), (1224, 0.029431717375542538), (4629, 0.029412597950420373), (180, 0.02939331933124879), (3743, 0.029380521458266615), (3869, 0.02922856910899336), (358, 0.02922257981833248), (11, 0.029196887062632976), (280, 0.029149755427058246), (4299, 0.029126274898242578), (3161, 0.029077737664219887), (1085, 0.028947561567995207), (1970, 0.028930854295602205), (676, 0.028925343156275082), (1719, 0.028914138612255152), (1800, 0.028887631437630654), (3580, 0.02887804909620404), (2977, 0.02886887007179068), (1299, 0.028851077061658497), (3833, 0.02883645781152952), (1416, 0.028713066527712213), (3310, 0.0286949143878224), (1300, 0.028686802349556353), (3008, 0.02865515773225839), (77, 0.028624019029306027), (2764, 0.028602957187907584), (4255, 0.028581736281586268), (3091, 0.028551112071511724), (2347, 0.028458712696694498), (1929, 0.02844336728019075), (4364, 0.02842210203273413), (2762, 0.028413459784398694), (1261, 0.0284100335404419), (343, 0.02840865852519025), (4158, 0.02839309286584338), (3236, 0.028358431252411425), (2701, 0.02834516984321591), (2616, 0.02833750273854923), (2332, 0.028322438207639248), (3934, 0.028314090720955504), (3491, 0.028305533660220324), (4256, 0.028294775739074487), (1296, 0.028249764451204067), (1372, 0.028185675596665412), (3696, 0.028185037939171598), (2975, 0.0281466373522125), (4684, 0.02804694423858398), (607, 0.028009792168885595), (1998, 0.02783821163495494), (1128, 0.027823412013573943), (1569, 0.027801069172982626), (1257, 0.027783445247264248), (4493, 0.027759155397151385), (324, 0.027693590637825415), (614, 0.027671993622605584), (2226, 0.027569591318425648), (1374, 0.027526199330349457), (1601, 0.02748402205505984), (573, 0.027450318796449373), (3314, 0.027431010273735467), (705, 0.02740712757345134), (1044, 0.027312943933191062), (846, 0.027302069976030297), (4092, 0.027293520240915404), (240, 0.027282263124659582), (4488, 0.027271467093445113), (81, 0.027230949855620256), (384, 0.02719973164964016), (1913, 0.027144425640019322), (2298, 0.02712101031776107), (3304, 0.027016149326334532), (852, 0.02697050000751333), (1668, 0.026958296331665094), (707, 0.02694722035113493), (1769, 0.026944287520800383), (41, 0.02683670115908507), (4199, 0.02674072157195752), (386, 0.026690108063033326), (914, 0.02668888273465764), (1196, 0.02660549998370744), (411, 0.02660190542199347), (3097, 0.02659444453006907), (1362, 0.02658705306192835), (4592, 0.02658074966969512), (3106, 0.02657888548222426), (259, 0.02651064573964339), (1647, 0.026467062568874804), (375, 0.02646642111388766), (3963, 0.026463727343714768), (585, 0.02643918649034467), (428, 0.026386397147963227), (4191, 0.02625243382772007), (3694, 0.02610132274650022), (1514, 0.0260934194704078), (3554, 0.02609312860544249), (1760, 0.02606795357738375), (3445, 0.025983580603582496), (4282, 0.025953572120403088), (2257, 0.025848280906335137), (1797, 0.025840731993664448), (416, 0.025836996875518638), (3284, 0.02582269481864445), (3742, 0.025753798332159114), (2460, 0.02568720760519722), (2830, 0.025643066313373097), (2011, 0.025637631920264255), (36, 0.025586721002232755), (3895, 0.0255843862099071), (4159, 0.025560278108901546), (1943, 0.02554044786339507), (956, 0.02552957037528538), (1552, 0.025492799340875866), (804, 0.025359062161546573), (1518, 0.02534586142953768), (153, 0.02533423165242474), (303, 0.025285284433200682), (2157, 0.025265167022044715), (4589, 0.025226392870760388), (815, 0.025189116331555076), (2203, 0.0251488965544889), (4598, 0.02513475533267688), (2546, 0.0251073222304749), (1009, 0.025012386375704205), (3689, 0.024946471756174426), (2132, 0.02492598494204095), (1974, 0.02492437743716122), (4676, 0.0247573270606322), (1186, 0.024756786727390033), (2136, 0.02471961454496839), (745, 0.024652336371898398), (2940, 0.024626991958807763), (2797, 0.024573550429087508), (2488, 0.02453582292840718), (2227, 0.024492337088216125), (2520, 0.02444160019085707), (1772, 0.024296686736476985), (2783, 0.02427175821680196), (286, 0.02419452928926949), (269, 0.024193082886726735), (1283, 0.024189445445044776), (2382, 0.024152341562062318), (1215, 0.024133754205535422), (1817, 0.02392827799271447), (1871, 0.023914678002552384), (403, 0.023897684911147105), (198, 0.02387775817314777), (1460, 0.02386279377004814), (4011, 0.023827601531697908), (2365, 0.02381004667611098), (4709, 0.023805609786552804), (2691, 0.023729641560359952), (993, 0.02370681284365564), (706, 0.02369774168489394), (1317, 0.023679804993209885), (3763, 0.023660855435514026), (697, 0.023632109812570478), (3063, 0.02357932569803066), (4641, 0.02356047900544138), (4439, 0.0235580589532717), (4733, 0.02352542201748034), (1865, 0.023463895434258357), (3202, 0.023436113649328037), (3279, 0.023370044266554903), (2608, 0.023353435629867855), (936, 0.023271880093286294), (3419, 0.02316904321835708), (4312, 0.02315863747567139), (18, 0.023126549114252777), (1278, 0.023081568835600898), (1559, 0.023076027331592936), (4701, 0.02306273211488748), (3937, 0.022996827592274817), (1399, 0.022991163417664627), (2534, 0.022988317537824272), (1123, 0.02292160833252418), (927, 0.022856240276585036), (3524, 0.022767047743082695), (538, 0.0226897990528762), (1963, 0.022653464067107394), (407, 0.022622598749062372), (1604, 0.022614111830459083), (1592, 0.022598928161003784), (653, 0.022503312304498507), (1886, 0.022409872592261577), (1919, 0.022392631847820196), (2766, 0.022372016179377015), (453, 0.02234829513539107), (1165, 0.022328024189251026), (824, 0.02231022289583831), (2123, 0.022308294530214594), (4288, 0.02229464765966148), (2010, 0.022265875737248364), (590, 0.0222287701128203), (1961, 0.02220584761389485), (730, 0.022194841148858533), (4034, 0.02217188808559736), (2348, 0.02216685088441091), (3961, 0.022159649798050594), (1901, 0.022091130181141682), (739, 0.022080784977319357), (307, 0.022074518907637675), (886, 0.022063020478666817), (6, 0.022032810642776825), (2582, 0.021990198518106952), (3611, 0.02198662588924136), (253, 0.02195019023746211), (3234, 0.02194485814532902), (2551, 0.021901605025503874), (3516, 0.021834712146517114), (3539, 0.02181691601398635), (714, 0.021810212902900555), (1522, 0.021766690998232086), (668, 0.021743562891832508), (571, 0.021738663252775344), (2180, 0.02170705744445215), (3316, 0.021688333102958708), (2153, 0.021673056416818853), (669, 0.02165368245800668), (1948, 0.021554462104673818), (370, 0.021517661208729683), (4378, 0.021514296663073085), (906, 0.021465184468865323), (1011, 0.021445967643000892), (2393, 0.02142529021871816), (3797, 0.02141327803469561), (4653, 0.02141289709700764), (283, 0.021387777157632626), (2040, 0.021377851233587118), (1198, 0.021336811743047752), (2182, 0.021333044614227886), (4343, 0.02133285103107186), (586, 0.02133139464189892), (1613, 0.021300317917271376), (3790, 0.021284213393262162), (449, 0.021284173969935743), (1550, 0.021252267770733756), (4505, 0.021251032805101506), (452, 0.021235466885572752), (4318, 0.02121471473955474), (3285, 0.021196173222906324), (1080, 0.02118583236950379), (2624, 0.02117373716097938), (2819, 0.02117105938237184), (3882, 0.021129796184267573), (4171, 0.02108631443680793), (2300, 0.02105817748281347), (1402, 0.021052545281945785), (4430, 0.021020049046784384), (3889, 0.02098603102285383), (580, 0.020979245264292866), (2265, 0.02091695873815483), (4721, 0.020893925423743857), (3738, 0.02086228211642338), (588, 0.020862140590988787), (1364, 0.02084669333895231), (28, 0.020791484358950937), (808, 0.020746917485089274), (1864, 0.020729678096869937), (3356, 0.02072923823624387), (4642, 0.02066845112469658), (1119, 0.02065998664687208), (2978, 0.020648415245833992), (1707, 0.020603820974740193), (1779, 0.020601913857676207), (633, 0.020544397274741583), (4054, 0.020518413914618477), (221, 0.020491848957701415), (3066, 0.020488915703742915), (1484, 0.020469056653701946), (703, 0.020466654159030453), (2196, 0.0204631916061917), (4286, 0.020458828733249536), (1217, 0.0204311089862895), (2451, 0.020395257162046994), (4004, 0.020360440521876477), (4703, 0.020352969126258284), (3175, 0.02034879055341536), (188, 0.020344323894036405), (2019, 0.02033754427796744), (4597, 0.020292139342222664), (694, 0.020267439067065168), (4083, 0.020202251272820472), (1379, 0.020196625065438595), (3243, 0.020186048692438247), (2447, 0.020184270450457023), (117, 0.02016765440722717), (2681, 0.020161329439226737), (3666, 0.0200919669849003), (4599, 0.020089523493479467), (2297, 0.020072372968591094), (3759, 0.02005155454659858), (806, 0.01996935723912466), (2711, 0.019954172703652878), (2317, 0.01994193344116567), (4121, 0.01991957096305156), (2413, 0.019919148743334208), (3634, 0.019897647139867185), (1500, 0.019836717553885642), (1728, 0.019800357526165727), (2518, 0.019771324772640163), (1931, 0.01977084275372286), (989, 0.019746854112416123), (336, 0.019727175344550176), (2125, 0.019714137949354203), (1782, 0.019712223839195474), (3880, 0.019671803035813847), (2909, 0.019580369855560043), (1653, 0.019578090444020077), (1138, 0.019574483927464595), (3739, 0.019563338452678096), (2353, 0.019551510831602923), (2958, 0.019536981511708764), (46, 0.01949131016174083), (1190, 0.01946917019490262), (3541, 0.019465051267185656), (3808, 0.01944545611053024), (1671, 0.019437568391571743), (3371, 0.019400937962761964), (3336, 0.01939900781470934), (2340, 0.019398536860195954), (2571, 0.01939693373970155), (2527, 0.01939298220031944), (2695, 0.019374470456564177), (1304, 0.0193570297746946), (2642, 0.019342946964041742), (3589, 0.019338558023053343), (4427, 0.019328881675264725), (469, 0.0192566194971627), (3807, 0.019249139792924544), (3117, 0.019245324334466907), (2100, 0.0192173733787201), (3868, 0.019209905644126973), (4521, 0.019195657834973973), (3005, 0.019193277095960824), (354, 0.019191071984082844), (2811, 0.019179184730473524), (3435, 0.019162520462817623), (1423, 0.019127718427321593), (2216, 0.018964626856396175), (1090, 0.018910576758651428), (2014, 0.018887115635032762), (3716, 0.0188479828991438), (959, 0.018795314188407384), (3370, 0.018783019164526245), (1481, 0.018728728558918103), (1260, 0.018726608354586224), (1272, 0.018710540831325007), (2498, 0.01870516667380701), (733, 0.018647870654189543), (3997, 0.018645014711581292), (1183, 0.018635092981482974), (2763, 0.0185453374376931), (568, 0.018535612837801897), (4039, 0.01851137584936555), (4327, 0.018506583310308654), (638, 0.018503836153535173), (52, 0.01850197447143161), (1114, 0.018491819704674943), (4479, 0.018490820670014486), (1167, 0.0183919889906378), (3787, 0.018379020880627636), (787, 0.01837872057397743), (773, 0.01837023701518717), (320, 0.018360621509011493), (2693, 0.018357170020427926), (3513, 0.01834961629287547), (3405, 0.018320582574543078), (949, 0.018292535966730823), (4635, 0.018229134415975803), (2236, 0.018218105241247687), (376, 0.018216699538152595), (2241, 0.01821208830717383), (742, 0.01818951656310801), (3614, 0.018172118935642828), (1595, 0.018168730981908816), (1825, 0.018165027197471626), (4486, 0.018153273573799294), (1470, 0.018128085224153313), (515, 0.018096800950595307), (1103, 0.018090148677304855), (1792, 0.018072823677104857), (2962, 0.018070682160173098), (4145, 0.018065146310468464), (3265, 0.018048702788567485), (3147, 0.01801437710246446), (1555, 0.018013992807804018), (1367, 0.01799836671759782), (814, 0.017990845993324338), (4037, 0.017989319501014758), (1684, 0.01793782143267271), (3077, 0.017933212114203), (42, 0.017914197386591522), (1547, 0.017911612649185924), (3051, 0.017909506959231124), (1920, 0.017891824977996962), (1120, 0.017879070550532446), (1781, 0.017843368861578467), (1398, 0.0178028181925385), (919, 0.017798036634408695), (3389, 0.01779689776497844), (1394, 0.01778744360490649), (4662, 0.01776268079848799), (565, 0.017736528906291467), (823, 0.01772645227797117), (2403, 0.017724982574361024), (3329, 0.017690436544202638), (2478, 0.017654464711351354), (2240, 0.017618225499523812), (2675, 0.01759847499450892), (1326, 0.017596250006163095), (264, 0.017537858265036108), (4421, 0.01752443220387975), (2026, 0.01749983093485037), (3318, 0.017440049775912785), (4125, 0.017436123184902792), (2623, 0.01740999756710554), (1949, 0.01740419950869163), (3270, 0.01739987513060957), (3432, 0.01738545928499644), (1469, 0.017379385003655472), (2673, 0.017357778072334525), (1349, 0.017328032750330867), (2646, 0.017319684148474866), (1867, 0.01729644456241405), (511, 0.017294656950249496), (278, 0.01729124885326796), (137, 0.017283893896557465), (2749, 0.017282520841959165), (732, 0.01727427792605189), (684, 0.01726872593812512), (1200, 0.017260465306076403), (1268, 0.017256437085157415), (2114, 0.017240030925886985), (1622, 0.017216032558594444), (4109, 0.01718241415478626), (1097, 0.017175881989187226), (1589, 0.017155821021728794), (3640, 0.017150979349265398), (1134, 0.01711719484430947), (33, 0.017100995179831557), (2047, 0.017099444086845227), (2505, 0.01707927423284534), (3219, 0.01705213995903619), (1105, 0.017037012979611903), (1019, 0.017025509338140413), (3026, 0.016991112810205114), (72, 0.01698537622807733), (790, 0.01697489264063044), (4583, 0.016961681125784153), (1267, 0.016930537051522365), (398, 0.016904483427183453), (3082, 0.016889522734415414), (196, 0.016863159473084508), (552, 0.016856865472263234), (915, 0.016852705510770682), (1505, 0.01683633959153133), (3053, 0.016806933174176496), (4738, 0.016780126674484794), (3188, 0.01676861111732088), (3749, 0.016768058547239586), (3044, 0.016763638111995847), (4611, 0.01673530349550604), (3594, 0.016721422954001933), (4528, 0.01670144189737003), (2838, 0.01667542100163368), (2888, 0.016658909968128986), (2408, 0.016623581137137657), (263, 0.016573715978330506), (812, 0.016559885240158972), (634, 0.016491636950686197), (1082, 0.016487654026580114), (12, 0.016422784406920778), (1619, 0.016389029161056706), (792, 0.01635890697282451), (246, 0.016355010786403827), (2327, 0.016328848930045697), (1457, 0.016310129094930896), (3372, 0.016151433123662743), (1467, 0.016109887948534962), (723, 0.016075688651850963), (3004, 0.016071495767113107), (2286, 0.016045303112615632), (3241, 0.016044115485287665), (1475, 0.01603217283031973), (1654, 0.016024501373411274), (3154, 0.015970389559766464), (987, 0.015951160755274255), (3533, 0.015947665431005974), (1532, 0.015935370530902618), (584, 0.015912834316294068), (3527, 0.015897011456253912), (2919, 0.015887158306876436), (3023, 0.01588321048832489), (2048, 0.015828759417539466), (645, 0.01580444220649599), (2230, 0.015793852648857777), (4273, 0.01573739753942938), (942, 0.015731389946908137), (2386, 0.0157230672752037), (2205, 0.015714059341554194), (932, 0.015656008207894784), (2376, 0.015599197512513567), (2374, 0.01558589276518524), (2647, 0.015576134913374163), (4674, 0.01554179982282761), (3577, 0.015516419135622324), (3613, 0.015486275513125834), (3308, 0.015447669394801057), (4577, 0.015414170407917207), (435, 0.015398232660180032), (2207, 0.015369339125167223), (1774, 0.015329346878897837), (2848, 0.015325480674593302), (1281, 0.01532259918019523), (4153, 0.015298351789877953), (3302, 0.01529761867746241), (348, 0.015223759981635313), (2567, 0.015208340993216178), (4228, 0.01519347765138843), (1795, 0.015179607078864218), (2842, 0.015142153258860739), (2946, 0.015134765962370891), (2802, 0.01503778957729552), (4650, 0.015037352185488078), (266, 0.014888976765617831), (488, 0.014875214030484817), (4069, 0.014854320998788629), (651, 0.014847530288404331), (2027, 0.01483456714879939), (646, 0.014789109168882894), (2779, 0.014680903612510413), (2540, 0.0146572327849987), (3036, 0.014621319359732349), (3799, 0.014577923004557557), (2269, 0.014571995436677775), (762, 0.014551264538726159), (828, 0.014527590723036093), (878, 0.014525521362007052), (3408, 0.01451939286262215), (3014, 0.014518063515630569), (4259, 0.014493643736948024), (3857, 0.014492676967025202), (688, 0.014454510685400847), (734, 0.014402741900394915), (4516, 0.014397298602945469), (2634, 0.014369738027404069), (2996, 0.014359588844380204), (1454, 0.014331848075551096), (372, 0.014329156254151687), (450, 0.014317740170513682), (2006, 0.014316913275360554), (868, 0.014278663261920128), (2437, 0.014251008533801988), (2411, 0.014216968960953539), (4013, 0.014206092761876886), (481, 0.014190116435863931), (3460, 0.01414165430945551), (1959, 0.01411458934159935), (3449, 0.01409992830000563), (3086, 0.01409564341387754), (591, 0.014074443325451862), (2920, 0.014071069807012842), (2190, 0.014064846650777917), (1359, 0.0140210585427505), (2803, 0.013995385206864712), (4495, 0.013976182015875742), (2898, 0.013966221061343518), (4038, 0.013949722496380807), (2500, 0.013941803867023959), (3515, 0.013933819817619545), (4169, 0.013899219005776866), (1572, 0.013883963674208914), (1161, 0.013882360019377921), (1339, 0.013869274353713032), (2821, 0.013852169820575539), (1234, 0.013817257731666144), (1952, 0.013800632060813885), (1219, 0.013796431806999056), (470, 0.013761826435411025), (2385, 0.013743131567885723), (3782, 0.013727834365790122), (856, 0.013727399725086542), (1043, 0.013720478262566583), (2670, 0.013717934823600699), (2213, 0.013714261259884241), (4101, 0.0137035931020393), (4757, 0.013702615063802126), (1188, 0.013695513377755496), (1821, 0.013692452560784992), (366, 0.01369050615143254), (502, 0.013660110673460905), (926, 0.01365991996289678), (2640, 0.013652567919524534), (570, 0.013648429614353579), (660, 0.013629985371036794), (3514, 0.013621975529590147), (3351, 0.013618268890937979), (913, 0.013594329961920448), (2650, 0.013556819432605165), (4756, 0.013543638887686029), (92, 0.013533985800235683), (1502, 0.013533867399438779), (430, 0.013513741256741355), (2237, 0.013494697044189114), (2959, 0.013491704755774174), (3184, 0.013485406483496111), (991, 0.013477319066275245), (395, 0.013470689670240468), (1382, 0.013468244628346202), (3637, 0.013449079974020419), (1683, 0.013435437778019001), (1718, 0.0134335442212075), (3728, 0.013425982910003818), (1768, 0.013415478957942737), (1946, 0.013408296354124539), (2609, 0.013391881365627824), (3701, 0.013376930155748827), (1775, 0.013372855896255923), (4586, 0.013345159260972182), (1936, 0.01333591573649368), (206, 0.01331857150343492), (4390, 0.013317786503212204), (456, 0.013302291787766369), (3283, 0.013290652018583085), (2714, 0.013287846361096107), (483, 0.01325643526363405), (1204, 0.013238783060326517), (4566, 0.013235487453801764), (1400, 0.013234801209039276), (4137, 0.01316806199033267), (2715, 0.013154884579709047), (902, 0.013146686192369446), (496, 0.013129688687559548), (3409, 0.01312063545678054), (204, 0.01311697800772952), (3690, 0.013097312750465037), (4419, 0.013089038072960881), (3353, 0.013053051665429492), (267, 0.013032689324987148), (1298, 0.012976004275546054), (2512, 0.012954662892752187), (1811, 0.012943362133417608), (1411, 0.01289390400298704), (71, 0.012862606417578056), (1042, 0.012844167776534585), (4194, 0.012842697538549958), (2687, 0.012837457766603775), (1176, 0.012816173216475681), (238, 0.01280563960886885), (3260, 0.012802139379509216), (2073, 0.012796061066004165), (796, 0.012767851307063685), (1638, 0.012766287692635778), (3386, 0.012721704973611622), (1408, 0.012708116725195848), (149, 0.012699642282647975), (1012, 0.012695960528386013), (2652, 0.012693084194267661), (1510, 0.012675151613174954), (4241, 0.012674926970935302), (2034, 0.012670220088702831), (3472, 0.012659567242340913), (2461, 0.012651429401405546), (843, 0.012647091097259505), (4373, 0.012637619684598955), (467, 0.01263344786200284), (1314, 0.01260731609979866), (1223, 0.012603980415253999), (2612, 0.012601890356912098), (923, 0.01256579712047982), (1950, 0.01256169860531976), (3352, 0.012547978526642273), (1378, 0.012544754638435168), (3492, 0.012539968669191366), (1248, 0.012536642366256087), (1117, 0.012534906198504038), (1037, 0.0125101332584409), (4483, 0.012508109002271265), (1034, 0.012495772741227845), (731, 0.01248164155052765), (1027, 0.01247719970874962), (1854, 0.01245807214763335), (4152, 0.012449128549218048), (328, 0.012447076442705563), (3592, 0.012423604411203437), (247, 0.01241416985267552), (1375, 0.012401688638325676), (1132, 0.01240063919720644), (1255, 0.012397873144104047), (61, 0.012395734177108935), (2965, 0.012394926636523132), (1878, 0.012389240931666075), (561, 0.01237934873870703), (880, 0.012375124974299743), (3093, 0.012356291161441383), (719, 0.012355039487515599), (2598, 0.012345109498269351), (2133, 0.012341791844250629), (388, 0.012317842366819771), (939, 0.012307322751162966), (3811, 0.012300795143866554), (1669, 0.01229504701696845), (1177, 0.012291529896468856), (2102, 0.012274303243199992), (31, 0.012271542747085815), (3377, 0.012269761098755317), (4036, 0.012267773586367738), (1526, 0.012247057484431874), (3941, 0.01222760533244499), (2158, 0.012225525171326149), (1051, 0.01222082779819815), (1915, 0.012188133085725233), (527, 0.012174894488565437), (1245, 0.012170413022518853), (4272, 0.01215838149549338), (3089, 0.012140889581300891), (4356, 0.012135027858203223), (2927, 0.01210915497295161), (2129, 0.012090629659496699), (1258, 0.01208834313202018), (2012, 0.012058480257691653), (751, 0.012058145427658184), (2837, 0.01203824902174044), (3656, 0.01202525655948664), (4455, 0.012025060675180995), (2767, 0.011998157238843989), (1462, 0.011968165505851327), (4741, 0.01194843712785435), (553, 0.011938653015352883), (624, 0.011934932081596362), (2242, 0.011933887153094059), (863, 0.011927225103329619), (1135, 0.011892853672814728), (3563, 0.011892337850195583), (853, 0.01189057291523869), (1437, 0.01188142526998992), (116, 0.0118498529237097), (4462, 0.011849325044974624), (1615, 0.011833346725638816), (608, 0.011827911607873432), (1354, 0.011822633372827731), (2323, 0.011775088641702377), (563, 0.011765920193518043), (1005, 0.011754783224210549), (3158, 0.011752138855512649), (4074, 0.011742547572639317), (3244, 0.011740168567256074), (1259, 0.01171384032728194), (491, 0.011681942986070266), (1466, 0.011648988365776766), (128, 0.011632231652054983), (1977, 0.01161756956440467), (2043, 0.01160554958025073), (3735, 0.011602908784716504), (136, 0.011594385150359173), (3380, 0.011582934817271694), (982, 0.01153441548770118), (4454, 0.011528241600745342), (166, 0.011523666616545726), (1308, 0.01151910122769122), (2550, 0.011499989411947745), (4097, 0.011482638608202802), (3, 0.011470864026860761), (4247, 0.011468453157750897), (3456, 0.011465512664414968), (957, 0.011464586202649753), (4226, 0.01146309274804601), (218, 0.011462516151950018), (3730, 0.011462230178264922), (3070, 0.011448220541627271), (125, 0.011439599985799562), (3403, 0.011431768071764834), (1471, 0.011404352830407027), (4057, 0.011391535683526147), (3655, 0.011355577147841717), (2621, 0.01135221410433609), (3096, 0.011342489283387127), (2532, 0.011280957007969656), (2637, 0.011257634904964115), (1057, 0.011250941871204635), (861, 0.011236213898661206), (2588, 0.011231176591859151), (3238, 0.011229135583901456), (1414, 0.011200980590971531), (2672, 0.011200069871880247), (1539, 0.011195516213263907), (2611, 0.01119426423375633), (2956, 0.011184519908364578), (1392, 0.011163014119013607), (3525, 0.011141916791325616), (2147, 0.011129599817971847), (495, 0.011104791904495518), (205, 0.011102957011998378), (2733, 0.011100069972784172), (365, 0.011096636614053532), (1836, 0.011094818504053066), (4742, 0.011093525682775437), (712, 0.011092628756115021), (1340, 0.011081176394232914), (1013, 0.011079275602157537), (1240, 0.011074503478998963), (2771, 0.011071860063288128), (3259, 0.011058134316835755), (362, 0.011032642793011116), (3334, 0.011032138170229881), (4752, 0.011015973000066393), (1271, 0.011001333198641248), (851, 0.010999001320359414), (990, 0.010977016773629389), (3776, 0.010976125432896767), (141, 0.01097567960427876), (162, 0.010975205437779809), (700, 0.0109632604425997), (4610, 0.010951007601077561), (1047, 0.010924620700255344), (363, 0.010919116974565312), (4338, 0.010914341006352473), (635, 0.01090965914387368), (977, 0.01089971376674823), (4008, 0.010881902981330373), (1511, 0.01085075650648009), (1370, 0.010825865661820108), (4628, 0.01082259596462617), (2648, 0.010811988047345122), (25, 0.010793534939592411), (1600, 0.010782519604751174), (1150, 0.010777857738432206), (1557, 0.010774418754734203), (2856, 0.01076987767053197), (3446, 0.010768468120087978), (3179, 0.010766804880819148), (232, 0.010758745441819371), (1222, 0.010743707250916442), (60, 0.01074024608018007), (340, 0.010736374635175709), (1627, 0.01073247018733114), (1565, 0.01073189914940714), (4167, 0.010719296291417692), (3912, 0.010712400335641427), (1108, 0.010698693254870198), (3603, 0.010685553506178632), (1732, 0.010679960652819542), (2758, 0.01066320911466724), (2729, 0.010660664327156281), (412, 0.010660116213022734), (3461, 0.010651420623748062), (1361, 0.010651057726978271), (2283, 0.01064882525124224), (2086, 0.010642636540157537), (1926, 0.01061804872674741), (1599, 0.010616282562060535), (17, 0.010614732635948811), (3979, 0.010609142935851449), (951, 0.010599133234296142), (3657, 0.010595328916984996), (3464, 0.010590347536455462), (4613, 0.010578239412579182), (297, 0.01057163613412301), (301, 0.010570241317954261), (758, 0.010566775331717045), (2441, 0.010566183862767501), (2330, 0.010565113865972416), (258, 0.010556981794137412), (415, 0.010554471001692038), (3575, 0.010541430822686272), (4323, 0.010525376945590635), (1578, 0.010524412025737838), (781, 0.010523482074390075), (2211, 0.010520366736464233), (1955, 0.010496189606513426), (1142, 0.010468421216832866), (1345, 0.010462194150938766), (241, 0.01045967954817728), (76, 0.010457158855690636), (752, 0.010456798638935224), (3870, 0.010446638372090955), (55, 0.010441167048580344), (3570, 0.01041983642448021), (3162, 0.010419834816910235), (22, 0.010411203475332316), (1841, 0.010393026829076224), (2280, 0.010386879645518642), (440, 0.010382978697934754), (1295, 0.010382654201759597), (1932, 0.010376070284526239), (3798, 0.010365009014973397), (2589, 0.01036493328116371), (1155, 0.010363874754070471), (1195, 0.01035802765794963), (4552, 0.01035758503465851), (609, 0.010352970942425484), (615, 0.010351130871762048), (961, 0.010338670779082232), (3362, 0.010332349885147214), (3746, 0.010321920989185917), (2456, 0.010313473714606645), (1292, 0.01031110466223057), (3191, 0.010287341098515422), (1697, 0.010285674195435138), (1130, 0.01027460611731537), (84, 0.010266513359286435), (244, 0.010257572695208437), (1726, 0.010254016907768452), (1045, 0.010246395289096053), (4294, 0.010234336549220983), (3522, 0.010226968012915593), (3632, 0.010213782053188512), (1111, 0.010211251654947932), (2955, 0.010204169645361283), (2178, 0.010198960988899823), (1250, 0.01018470358868561), (152, 0.010182634323786167), (528, 0.010174656941029363), (56, 0.010173841217714991), (3812, 0.01017066309239042), (3272, 0.010170177555079278), (49, 0.010163427048510405), (1386, 0.010159026481993816), (592, 0.010149134032536453), (54, 0.010147911794989249), (953, 0.010109067381022244), (1493, 0.010108910800119778), (3328, 0.010108305704795623), (3872, 0.01010401434265084), (2335, 0.010080854245693941), (1767, 0.010072566219215654), (168, 0.010072454587344425), (3886, 0.010069886569454069), (4609, 0.010061253699221558), (736, 0.010059564622378312), (1515, 0.010057673596654904), (1512, 0.010057652775897487), (1346, 0.01004964988685976), (451, 0.010035726281702068), (822, 0.010034843109562428), (1804, 0.010022892335750008), (2813, 0.010013873324537008), (3105, 0.010012495232901958), (2198, 0.01001160145182088), (1129, 0.009996335797521287), (4070, 0.009994402391390532), (4099, 0.009989923891197187), (2618, 0.009986305451791258), (849, 0.009985971956071751), (3416, 0.009983211662601977), (3805, 0.009963502472334969), (1376, 0.00995650289086532), (1738, 0.009954103481842135), (1420, 0.00995188823681709), (610, 0.009935145997774352), (4188, 0.009928581677856017), (181, 0.00992604709837658), (724, 0.009923657619333117), (4482, 0.009910830594447556), (1106, 0.009905640208145123), (674, 0.009905397751543863), (3058, 0.00990304142317693), (4509, 0.009891249029637648), (4542, 0.009879429316940143), (2847, 0.009865806764791265), (2311, 0.009863475550384289), (1253, 0.009853111980265002), (2807, 0.009803063702220517), (3121, 0.009792338302651882), (3454, 0.009774658958046011), (4218, 0.009774336640183859), (2120, 0.009770674488849707), (1480, 0.00974600213944556), (1771, 0.009742116738234087), (710, 0.009740994486721968), (2615, 0.009740250889702061), (3709, 0.009739508574122053), (2322, 0.009733763821629297), (230, 0.009731248602556794), (2183, 0.0097233226371445), (404, 0.00969728940176012), (662, 0.00968845314840307), (1373, 0.009680779839668316), (2062, 0.00967567376811376), (339, 0.00966992791067642), (2584, 0.009668201450402127), (2315, 0.009664658310590405), (409, 0.009653546727612618), (546, 0.009641246592547118), (1368, 0.009641220163453174), (1197, 0.00964074707029698), (3141, 0.009627151411823067), (2791, 0.00961624521897875), (720, 0.009610565021489267), (179, 0.009604868213232374), (3786, 0.009587782442666592), (4164, 0.00957580811485642), (2641, 0.00957542930946708), (291, 0.009557561496326323), (4279, 0.009555684063925998), (1633, 0.009548075463240997), (2036, 0.009544972245601734), (1993, 0.00954065863791016), (1067, 0.009530532089584808), (2596, 0.009527953984156646), (498, 0.009526373265330675), (300, 0.009519940257838934), (2517, 0.009499148206418421), (1363, 0.009483362487489516), (819, 0.009471151710648006), (53, 0.009468855100200619), (2094, 0.009455944096424761), (334, 0.009435043131174064), (1256, 0.009434816754347743), (3723, 0.00943035692497429), (4292, 0.009414787095138596), (3983, 0.00940609434368673), (3609, 0.009395909832304586), (3566, 0.009386348910545798), (4569, 0.009380218512603157), (2938, 0.009354585048127455), (1903, 0.00934753987900523), (1855, 0.009346455031816737), (2170, 0.009344726345992552), (497, 0.009330879979100246), (3495, 0.009323801492573688), (2682, 0.009322954952359346), (4270, 0.009322113066593963), (3732, 0.009309681334884964), (2513, 0.009267662648461749), (2360, 0.009266770393261556), (1610, 0.009251684920517401), (9, 0.009247162243547888), (770, 0.009229506428745475), (2497, 0.009228859443858537), (122, 0.009204952502193053), (382, 0.00919082562787548), (4177, 0.009184534107109356), (3803, 0.00917399602557854), (3232, 0.009167623580670093), (520, 0.009161648807568557), (569, 0.009155867813863516), (1925, 0.009153386021833177), (1982, 0.009152651985525692), (4385, 0.009126294335171732), (1055, 0.009124254413326571), (338, 0.009116714572299), (129, 0.00911161894851318), (2654, 0.009106769952178928), (2033, 0.00908932756195367), (3459, 0.0090798370921927), (1784, 0.00907371653926619), (130, 0.009071631317637604), (1171, 0.009051617209633654), (1850, 0.009043988483340475), (1310, 0.009018795237988516), (4055, 0.009012888989927359), (699, 0.008986164751068292), (1008, 0.008984842165430225), (954, 0.008930769812123481), (2152, 0.008916527718482434), (191, 0.008915605448661768), (2389, 0.008913347138349487), (4237, 0.008896171972681726), (1652, 0.008863436321839818), (882, 0.008857756512099708), (1468, 0.008857287010888512), (3948, 0.008834999538514412), (3785, 0.008831782830843531), (2074, 0.008821576447938215), (836, 0.00880920670436351), (1405, 0.008784952607102875), (277, 0.008783640637426244), (1938, 0.008742234822490145), (257, 0.008724414852444583), (1221, 0.00871734364611159), (3045, 0.008658956667031441), (1212, 0.0086204763045062), (2688, 0.008572927506188958), (438, 0.008571927979831575), (779, 0.008541728090976659), (177, 0.008518481439065962), (237, 0.008506610686635795), (506, 0.008497180907276788), (3752, 0.008489171718684286), (1046, 0.008487308064216293), (639, 0.008437900500542304), (2774, 0.008378708477387017), (58, 0.008378640548757092), (3559, 0.008375584367461244), (640, 0.008365318756027371), (2443, 0.00824569131877025), (57, 0.0082411581064287), (1341, 0.008201343265817557), (3480, 0.008193401958106035), (4726, 0.00814982278869943), (807, 0.007933814253048297), (2562, 0.007894768145505993), (1320, 0.007844178653796541), (2867, 0.0077928062986501725), (3899, 0.007785186217870905), (1581, 0.007556468484239762), (414, 0.00750389226392119), (332, 0.007482098565191511), (3945, 0.007462770973701122), (2324, 0.006613351605458625), (2544, 0.006391791653298902), (2388, 0.006292887734061784), (2555, 0.005828768287872698), (3391, 0.005713706415907758), (2614, 0.005565584223394469), (844, 0.005524765115220577), (2809, 0.005395241674786691), (4739, 0.0052261971150683265), (2440, 0.0052054975973626445), (4719, 0.004963681084992515), (3240, 0.004953174810729614), (3137, 0.004757354357558125), (3932, 0.0047276020707661326), (3226, 0.004714275216278532), (788, 0.004706240620587008), (3325, 0.004578933318520002), (4151, 0.00440333638901776), (2678, 0.0041738859641835095), (3552, 0.004168220562748349), (611, 0.004117596026820469), (2299, 0.00409828154269247), (4571, 0.004072434740116896), (3512, 0.0039299146422732), (2757, 0.003922640722492113), (3667, 0.0039188165633411605), (3276, 0.0038687320423115), (4555, 0.003862593858439325), (2998, 0.0038475129276153808), (3925, 0.003814741059484313), (4607, 0.003721552680010121), (2529, 0.0037202663825506256), (2379, 0.003698681454290964), (2490, 0.003693878715328216), (2937, 0.0036801533367975966), (3523, 0.003673912227129833), (4705, 0.0036642179154802814), (2768, 0.003643077377528808), (3672, 0.0036417615639533453), (2858, 0.0036326003362677044), (2137, 0.003632397557063555), (3139, 0.0036285198004276454), (2649, 0.003620134677007285), (2722, 0.0035978093546533757), (2189, 0.003597569899988613), (4202, 0.003583602869270343), (3040, 0.0035790739958662427), (2989, 0.00357111538904678), (2251, 0.00356587820484447), (3166, 0.0035549832816942077), (2349, 0.0035485015691011554), (1145, 0.003543938868101719), (2407, 0.0035426569225143036), (3990, 0.0035374775278533594), (2889, 0.0035280343553653697), (2537, 0.0035157366241590775), (3119, 0.0035135297926962255), (4617, 0.0035051794497075006), (4704, 0.003501173771427578), (3052, 0.0035005931542987766), (735, 0.0034995823249716097), (3055, 0.0034873925162262134), (2404, 0.0034858447533540073), (2775, 0.0034792334744353274), (4017, 0.003477826181242294), (2870, 0.003474260420795338), (3561, 0.003474211003570433), (3042, 0.0034725069980820543), (3030, 0.003471897264765123), (627, 0.003470318099177722), (2883, 0.0034681585991930206), (3635, 0.0034650005475115424), (947, 0.003457112965634282), (2923, 0.0034531059242536464), (3291, 0.0034440332041071773), (2731, 0.0034401431263060716), (4749, 0.003439442407721658), (4222, 0.003437155777887241), (4529, 0.0034362647509679073), (2484, 0.003426711967800671), (2310, 0.0034266038931953227), (4221, 0.0034265348303870726), (3479, 0.0034226290248161088), (4484, 0.0034170109416251865), (2694, 0.0034138645115174785), (3939, 0.0034134286193013945), (2861, 0.0033970097285432126), (2655, 0.0033963558537619325), (2932, 0.0033885064882309473), (4172, 0.0033881353510703156), (2559, 0.0033690457464779), (3878, 0.0033683821618054176), (4418, 0.003365944439633629), (2832, 0.0033633633322012312), (2075, 0.003358108620997105), (4696, 0.0033575502030400457), (4444, 0.0033571986947136903), (2628, 0.00335499286721352), (3076, 0.0033540615504550906), (4407, 0.0033522798000004735), (2448, 0.0033470154449369103), (2392, 0.0033462692662332275), (3292, 0.003345597159587205), (3762, 0.003338867590865727), (2199, 0.003336117526941584), (3892, 0.0033316214159197265), (3282, 0.003323653068152418), (4423, 0.0033233175551390212), (4019, 0.003322291989190794), (2425, 0.0033215528995588234), (2643, 0.003314549831213057), (4546, 0.0033127565117885617), (2255, 0.003306513491609523), (3322, 0.0032984263008447585), (889, 0.0032983100450244274), (2645, 0.0032982722045309465), (3262, 0.003297645582541812), (2350, 0.0032932557713906334), (2901, 0.0032904738604644965), (4230, 0.0032838025370455857), (2154, 0.003282749468763768), (4142, 0.0032766191250057555), (1208, 0.0032674088346071233), (4400, 0.0032670636803298204), (4403, 0.0032665545145437623), (2530, 0.003257367469428744), (4102, 0.0032540436044450278), (3848, 0.0032514660226379143), (3015, 0.003247629285615119), (2306, 0.0032425067750329016), (3828, 0.0032412378856582565), (4710, 0.003239508211247713), (2795, 0.0032365520008018583), (3239, 0.003231165812547399), (3128, 0.0032306314756544376), (2423, 0.0032298313342318504), (3354, 0.0032266664449338484), (3140, 0.003225343595339052), (526, 0.0032227474303910915), (1711, 0.003213877876956625), (1121, 0.0032108547440326323), (3249, 0.003205394862745135), (4469, 0.0032021225226667492), (3687, 0.0032010315022160396), (4692, 0.003199140311446986), (4544, 0.0031971184720825684), (3363, 0.003196288402879232), (3638, 0.0031952980355825365), (4612, 0.00319051211517318), (3616, 0.003187012872238916), (3357, 0.0031856536734942145), (4242, 0.003183903056391229), (2834, 0.0031795564188978167), (3537, 0.0031788307817210127), (2557, 0.0031785243137121438), (2438, 0.0031744740020963557), (3159, 0.0031719178500390684), (4306, 0.003168512785460252), (4107, 0.003164584559493353), (3922, 0.003163777109721673), (2857, 0.003163554770831066), (4660, 0.0031603122623742345), (4724, 0.0031592468157856067), (670, 0.0031584276342042634), (3521, 0.003157315741711818), (2266, 0.0031556928305965827), (3999, 0.003155683167137229), (4572, 0.0031453737879897853), (3074, 0.0031443453843196393), (4298, 0.0031441470841862803), (4209, 0.0031404732405933633), (4443, 0.0031395536714701106), (326, 0.003138604507471795), (2568, 0.003134457164195878), (3874, 0.0031339536541966045), (4723, 0.003133518958396167), (3031, 0.0031306634251201215), (3832, 0.0031287096295402697), (2188, 0.0031277573882086324), (3123, 0.00312605361415214), (402, 0.0031242748102344514), (2879, 0.003121159045194939), (3620, 0.0031207694120105236), (4147, 0.0031206078728373042), (3544, 0.0031196509507956274), (2459, 0.0031194127969055934), (1655, 0.003117505897528822), (2966, 0.0031155358472839518), (3358, 0.0031114027610420246), (3020, 0.003111280564118532), (3228, 0.0031102129872008105), (2415, 0.003109844619073016), (1593, 0.0031058611466285198), (1064, 0.0031049857463140897), (4062, 0.003104146595902344), (3206, 0.0031007935518579588), (2778, 0.0030989385841154174), (3779, 0.0030947327426492227), (2454, 0.003094722095359224), (2993, 0.0030912087456576587), (3901, 0.0030908039282831713), (3257, 0.0030881126023490266), (1264, 0.0030871506955983236), (2619, 0.0030863165740388668), (1429, 0.0030810024982959477), (777, 0.003080265089855487), (3413, 0.00307829498621708), (1168, 0.0030775504623084633), (2895, 0.0030676617780302493), (489, 0.0030658158179378745), (2434, 0.0030638455412042515), (3911, 0.00306239709946372), (4458, 0.003056602264912401), (3766, 0.003056285189105787), (3675, 0.0030550333939430756), (4554, 0.0030464625276823225), (4637, 0.0030410843610553296), (4490, 0.003039350332818225), (1049, 0.003038957235921447), (4280, 0.0030373310565394527), (2772, 0.003035895382098617), (4735, 0.003032707407185369), (2986, 0.0030314581780273887), (4023, 0.00302659395207564), (4717, 0.00302617611440212), (2769, 0.0030250085784642154), (2738, 0.003024438644097154), (431, 0.003022437596708767), (4632, 0.0030214618166593144), (3935, 0.003019940363774689), (2613, 0.0030192572147024464), (4594, 0.0030187030170967894), (4416, 0.003016730883288327), (2570, 0.003016400393008448), (3081, 0.003016130149664403), (2378, 0.0030160931347861116), (3621, 0.003015732038351701), (3745, 0.003014793678511611), (1053, 0.003014415424399614), (4584, 0.003013008793954015), (4633, 0.0030119184250172112), (2089, 0.0030114678432211265), (4694, 0.0030112802281697278), (1187, 0.003011109491396492), (2406, 0.0030103845407940238), (2707, 0.0030079150345308442), (518, 0.0030045103606865017), (2720, 0.0030037257596774634), (1885, 0.003002894836704827), (4412, 0.003002170326238147), (2417, 0.003000722838711196), (4030, 0.002999730218127535), (1169, 0.002999466093522523), (2846, 0.0029988053864481276), (3094, 0.0029987512934768496), (3275, 0.002995456644599094), (937, 0.0029942490040786446), (4477, 0.0029941472830337565), (4032, 0.002990490275340835), (4075, 0.0029904343683945923), (3951, 0.002990409171371597), (3540, 0.0029891655269356477), (2142, 0.0029890207227760784), (3019, 0.002983483965835111), (3359, 0.0029825740301839634), (4126, 0.002982243257118448), (3884, 0.002981835226280117), (2320, 0.002979376852975799), (2696, 0.002979218854957607), (3307, 0.002977009344476199), (2427, 0.0029769348863650197), (3450, 0.0029764945080101874), (4002, 0.0029763407184027354), (1947, 0.0029751327090980924), (2924, 0.0029722482705790134), (4163, 0.002971330498393616), (4203, 0.0029707235786809506), (3729, 0.0029701201260548867), (3425, 0.0029695665811663614), (860, 0.002969423913235333), (4713, 0.0029667982669801577), (443, 0.0029642873610810794), (4398, 0.0029614374935511825), (3230, 0.0029587861367719992), (2987, 0.0029587159884385083), (3364, 0.0029585855229996238), (2884, 0.002958515311615161), (448, 0.0029581669048731815), (1275, 0.002957157727774656), (3337, 0.0029571379336562576), (3396, 0.0029561206880252015), (3506, 0.0029558544940387808), (3866, 0.002954181721339231), (2872, 0.0029500888916782473), (4369, 0.0029485107647935827), (925, 0.0029468534276499226), (508, 0.002946845340972786), (2625, 0.00294448650972084), (4507, 0.002943726241517454), (3165, 0.002943634756978673), (4267, 0.0029428504162437408), (274, 0.002942674477773853), (2560, 0.002941428130731399), (2187, 0.0029413641562293065), (3952, 0.0029390414755844237), (847, 0.002938908918809067), (4465, 0.0029372233580009437), (721, 0.0029364875302174617), (4244, 0.002936056982066576), (3903, 0.0029355384971229688), (3639, 0.0029331113631376957), (2796, 0.0029329472847062304), (3423, 0.00293248075355444), (3651, 0.002931804083452345), (985, 0.0029317159331803248), (2702, 0.002929161143694842), (1924, 0.002927914222928813), (4295, 0.0029261016877353604), (4117, 0.0029255540715728686), (876, 0.002925277133527645), (1497, 0.0029249073975502757), (1184, 0.002923780852149007), (3661, 0.0029229244836337653), (4753, 0.002922363948880779), (3883, 0.0029213571267092597), (4243, 0.0029176094214110907), (3772, 0.002916520854937575), (3296, 0.002914906271314511), (2223, 0.0029139857015417123), (2346, 0.002913942727809003), (2638, 0.002911923377079701), (2051, 0.0029118152834087248), (3867, 0.0029114151193969156), (2302, 0.002910952479079966), (2629, 0.002909261583610869), (1909, 0.0029089330291110775), (4187, 0.002907975217338591), (1843, 0.002906817394259164), (2893, 0.0029063311271595345), (3186, 0.0029059307266926225), (3960, 0.0029054809498078246), (1887, 0.0029043235067776683), (999, 0.002902956719629567), (2881, 0.0029025988674420025), (3148, 0.002901702417347276), (4731, 0.0029016916843892827), (3043, 0.002901256244290883), (2936, 0.0029011719343969475), (478, 0.0029004966260620527), (2400, 0.0028987246305795158), (2914, 0.002898418292617236), (3680, 0.0028980881456260646), (3992, 0.002896992339705976), (4494, 0.002895277253931786), (1148, 0.0028936325902684345), (683, 0.0028932747840656626), (281, 0.0028932022661805053), (1383, 0.0028930235224726886), (235, 0.002892710298944886), (4699, 0.002891622901944922), (3013, 0.0028911064137671343), (737, 0.0028906275020923904), (576, 0.0028890677410724846), (3274, 0.002887628953985514), (2740, 0.002885609106679476), (3373, 0.0028845464096288595), (4368, 0.0028843637511891482), (4333, 0.002883849930440016), (1023, 0.002880824773427336), (1489, 0.0028797888056629243), (3560, 0.002879604582600732), (813, 0.0028784504624498218), (3962, 0.0028783481685439555), (3822, 0.0028776350820662777), (2974, 0.0028773959728512727), (922, 0.002875357842032496), (4718, 0.0028743239566208986), (1716, 0.0028742210692673676), (2903, 0.002874067361655941), (4160, 0.002873444107187788), (3012, 0.0028733472157293984), (2579, 0.0028727024312224375), (596, 0.0028715538460607924), (2916, 0.0028706821032756812), (1862, 0.0028702927502759056), (1594, 0.002869432347198064), (1499, 0.0028689247800914464), (3414, 0.002868843911981705), (3032, 0.002868668824346025), (4535, 0.002868525851382711), (1858, 0.0028677116014413752), (4396, 0.0028673420904118388), (3146, 0.0028666789798221823), (308, 0.00286586658015196), (2356, 0.0028649858949389515), (2436, 0.0028644175882677116), (4401, 0.002863397579739803), (3737, 0.002861743703187011), (3593, 0.0028609169917455262), (701, 0.00286085492165203), (4293, 0.002859833318655005), (458, 0.002859648100866316), (4051, 0.002859245050267038), (3804, 0.0028588918310616307), (2840, 0.002858395283325552), (3248, 0.0028582430280548955), (729, 0.0028578719591456424), (444, 0.002855578854259156), (3877, 0.002853464465186718), (3273, 0.0028532288975742044), (2209, 0.0028532094436900758), (2585, 0.0028530122824019857), (2782, 0.00285287871816851), (4397, 0.0028522698919428158), (4593, 0.0028498140854634896), (1498, 0.0028492539011503366), (4706, 0.0028473049511923954), (3003, 0.002847004837388547), (4605, 0.002846773940478862), (4113, 0.0028465855527575784), (2854, 0.002846296855862467), (1923, 0.002846292300607094), (2108, 0.0028445737041924886), (1890, 0.0028437703025495464), (1109, 0.002841830631934722), (3062, 0.0028413375234566203), (4138, 0.0028407413196883725), (2535, 0.0028405348064774816), (888, 0.002840416262240682), (4531, 0.0028402487267970952), (1960, 0.002837570909916905), (2592, 0.002837245218574573), (4551, 0.0028362938317199075), (3967, 0.0028331310481893093), (4042, 0.0028306285343034946), (967, 0.0028295349360950763), (62, 0.002829532948612012), (2176, 0.0028291840218651167), (2112, 0.002828676404049816), (2428, 0.0028283296587300172), (1580, 0.0028280127939803853), (2890, 0.0028279936380370928), (4619, 0.0028276862891980833), (2159, 0.002826055326467042), (2049, 0.0028254067650122093), (254, 0.0028247916261914486), (48, 0.002823882048717133), (1754, 0.0028232165017806157), (4263, 0.0028227529966197897), (3417, 0.002822686405448293), (587, 0.0028185812362161427), (3924, 0.0028172424314775223), (3116, 0.0028162691447285357), (2375, 0.0028155460530263714), (476, 0.002813262619151499), (3677, 0.0028132004391292274), (2739, 0.0028125071023279366), (4602, 0.002811870800468295), (2410, 0.0028115284807535158), (4446, 0.0028114103701796385), (1479, 0.0028109070126945608), (2464, 0.0028107676359919644), (4308, 0.0028105333711418066), (1733, 0.0028100660757245464), (4046, 0.0028095817413048654), (2390, 0.0028095339394324484), (3183, 0.002806446599780369), (4048, 0.0028056556808617595), (4601, 0.0028051586233870996), (123, 0.002803959910802884), (3714, 0.0028012851028301963), (4130, 0.002801184091865486), (2229, 0.002800771613730273), (318, 0.0028007710543035283), (4140, 0.0028002180764147362), (3497, 0.002800188315610208), (896, 0.00279973163759785), (1866, 0.0027984400027518445), (673, 0.002796745149718203), (3813, 0.0027963389532762), (1243, 0.0027953669742148304), (4732, 0.0027953230683433654), (675, 0.0027948855004950117), (4133, 0.002794508103100667), (1905, 0.002794102994098117), (4116, 0.0027940939046297787), (2293, 0.00279356582464992), (4522, 0.0027929347698188666), (1805, 0.0027922774380492025), (342, 0.0027918726039947374), (4669, 0.0027912920065615984), (499, 0.0027890708737848763), (2097, 0.002788896019672517), (3064, 0.002788693937589948), (2915, 0.0027870314574169244), (2748, 0.0027868895986899863), (3258, 0.0027868314063751514), (2214, 0.0027865340067793286), (4087, 0.002786010928020629), (2882, 0.0027849570730799442), (1997, 0.002784453948376076), (2507, 0.0027840262368668137), (3915, 0.0027836979842052506), (8, 0.0027833013825401135), (2595, 0.0027797482867201184), (3642, 0.0027791328090679616), (1897, 0.0027787598552753367), (4722, 0.0027784058805231404), (1325, 0.0027778305566359103), (3771, 0.002775891994727595), (2705, 0.0027750095572489633), (4545, 0.0027734092713543527), (3269, 0.0027722661516488547), (192, 0.0027719051833188443), (952, 0.0027704161026787548), (1874, 0.0027697077482821118), (794, 0.0027696728660456466), (4734, 0.0027696555359770954), (3704, 0.0027695571654633468), (3271, 0.002769162277490052), (2477, 0.0027689683369641264), (3893, 0.0027686501801869054), (2116, 0.0027660448630389316), (3757, 0.0027645851075667406), (728, 0.0027642070402247518), (2494, 0.0027631157467846307), (4579, 0.0027624374263339525), (210, 0.0027621137734187102), (2776, 0.002760253664018412), (3692, 0.0027594403744599003), (1848, 0.0027588889001037794), (1907, 0.002758656739655051), (4132, 0.002758626169565941), (4161, 0.002757124968832189), (4657, 0.002756356826348513), (2475, 0.002756123650886753), (3112, 0.00275586552490179), (4540, 0.0027537862360690287), (4245, 0.002753559968381943), (791, 0.002753203669564813), (1708, 0.0027526333421437686), (2162, 0.002752194800896347), (3095, 0.0027514720162068224), (1798, 0.002751317084484182), (2661, 0.0027512308356119684), (3496, 0.0027509795439596306), (2254, 0.0027501884428897043), (1637, 0.0027490752767644687), (4269, 0.002749005591895053), (2723, 0.0027486044874071225), (4371, 0.0027482857945883626), (485, 0.002746485095854563), (3781, 0.0027459814456448454), (2786, 0.0027445310105133846), (4574, 0.0027441033869583346), (1537, 0.0027438715189663956), (872, 0.0027436834567623417), (4111, 0.002743585533608602), (1409, 0.002741800061478449), (2260, 0.0027415959500536042), (3904, 0.0027412434886224446), (2725, 0.0027408854371514233), (4431, 0.002740818198465888), (21, 0.002740680125769926), (3873, 0.0027404149941871875), (4680, 0.002740190321951193), (1712, 0.00273943274812684), (227, 0.0027389604838910274), (1141, 0.0027388514478824478), (2964, 0.002738659173727244), (4005, 0.0027384881216641773), (2949, 0.0027383522177431368), (2712, 0.002738282010026724), (3007, 0.002737923328710557), (2391, 0.00273726623069589), (1071, 0.002734960706298608), (4231, 0.0027338820868379682), (1324, 0.002733810988030297), (826, 0.0027332621895490667), (3601, 0.002733243774303116), (2151, 0.0027324832676877695), (3218, 0.002732264216039805), (2664, 0.0027322635910490382), (3235, 0.0027321000593216295), (4357, 0.002731900802684628), (2970, 0.002731726004317459), (2096, 0.0027316702905748527), (2522, 0.002731420191652876), (4355, 0.0027303037739969753), (3987, 0.002729621037743265), (2105, 0.002729061544727855), (4175, 0.0027289652219424504), (3973, 0.0027286574968510774), (3434, 0.0027265356325227048), (74, 0.002725689448856021), (680, 0.002725552212261638), (622, 0.002723251071943429), (3297, 0.0027232193397635817), (3590, 0.0027223923322970602), (623, 0.0027219550653751735), (612, 0.0027210504652597006), (208, 0.002720888011647901), (930, 0.0027202452676561564), (1951, 0.0027191283515912), (2565, 0.0027186944149628508), (2361, 0.0027184208151706654), (3084, 0.002718190318198955), (4489, 0.0027181468463158397), (68, 0.0027180390721298097), (1687, 0.0027173115223125288), (2418, 0.002716609115315573), (3618, 0.0027165922690366735), (2792, 0.0027152062973720605), (3326, 0.002714402651567669), (3483, 0.0027135191524511725), (1853, 0.0027127471560322524), (2953, 0.002712724176884475), (4575, 0.0027116781464728546), (1685, 0.0027115398596622028), (2288, 0.002710830435529293), (2755, 0.0027099949853735088), (2849, 0.0027094282235273874), (4052, 0.0027086304856605435), (2610, 0.0027084745008643576), (3777, 0.00270782819412351), (1918, 0.002707090834361121), (3264, 0.0027061322335107025), (4123, 0.002706044402025703), (1822, 0.0027054039887479614), (3037, 0.0027052363187764954), (3406, 0.0027047200309312115), (4, 0.002704110228569881), (4033, 0.0027037357334049566), (1225, 0.0027036651263538983), (1893, 0.0027031135541307765), (4420, 0.002702406680120877), (2878, 0.0027015896723398165), (1916, 0.002700723550419806), (2394, 0.002700488239165214), (3388, 0.0027002497623515253), (1075, 0.0026997873066963015), (4474, 0.0026984797122381853), (1007, 0.0026980485785896052), (3511, 0.002697754859046693), (1670, 0.002697430257654016), (3187, 0.0026969668463582798), (51, 0.002696424078436588), (3654, 0.0026953500739908386), (830, 0.0026940569365174814), (2419, 0.0026925409511812572), (262, 0.0026923572697170797), (4178, 0.0026910477626271687), (1643, 0.002690630567686338), (2633, 0.0026905789026150703), (4225, 0.0026903031028481725), (716, 0.0026875039811460858), (4624, 0.002687448924626338), (173, 0.0026860039815226624), (429, 0.0026859407960243093), (1192, 0.0026851700555937997), (2088, 0.0026851197711348124), (4363, 0.002684217092283465), (255, 0.002683734150512711), (1439, 0.0026834105482711956), (4497, 0.002683186992992417), (845, 0.002683071970467618), (3437, 0.0026829714507970188), (3493, 0.002682432502292686), (4354, 0.0026810194262179006), (20, 0.002680656630612257), (270, 0.0026803329676572895), (2926, 0.0026802717050799134), (3770, 0.0026800239971720903), (3919, 0.0026791097394025147), (211, 0.0026788240911186016), (1660, 0.0026777515033637104), (1006, 0.0026775289085111645), (3862, 0.0026766333746299866), (3599, 0.0026759359004708046), (1229, 0.0026756071855558766), (482, 0.0026750329895247438), (3382, 0.0026742486438016697), (879, 0.0026737856360672606), (2561, 0.0026737677929667848), (3845, 0.0026731824251199315), (890, 0.002672889688361574), (2601, 0.002672795227110959), (717, 0.002672629610287911), (2531, 0.002670955458865706), (23, 0.002670713268908979), (2545, 0.0026700974005723706), (2370, 0.002670054932403148), (1513, 0.00266973287923422), (543, 0.002669247345669777), (1983, 0.002669168984206446), (4089, 0.0026685018227350743), (3224, 0.0026682478060658307), (1851, 0.0026681487200648896), (2911, 0.002667286633606732), (34, 0.002666827121899561), (3902, 0.0026665855435543014), (1083, 0.002666543750889183), (884, 0.0026664107632579075), (4361, 0.0026663844782021267), (2904, 0.0026656485154456897), (2405, 0.002665528084806059), (1727, 0.0026646678652114514), (1048, 0.0026632273840270313), (2319, 0.002662405629676467), (3778, 0.002662088555139862), (551, 0.002661635759230004), (447, 0.002661193447171482), (4625, 0.0026610459387635186), (4262, 0.0026607398908142315), (2016, 0.00266056495249043), (3536, 0.0026591975162051497), (3349, 0.0026589131313932684), (4025, 0.0026588211403263846), (1124, 0.0026570326638383755), (216, 0.002657004482760955), (4079, 0.0026567679211061458), (2148, 0.00265638363122635), (2744, 0.002656125934103795), (2072, 0.0026556548540206983), (774, 0.002655493117931697), (4379, 0.00265536134906008), (3920, 0.0026546135073846795), (3959, 0.002654441448612876), (637, 0.002653948518210207), (3517, 0.002653599512655781), (1703, 0.002651678583206317), (1765, 0.0026506675404630044), (4340, 0.002650645576616792), (4334, 0.002648845410122334), (980, 0.0026487767996245548), (4422, 0.002648447758232166), (4287, 0.0026477484843504514), (3198, 0.002647529286745271), (606, 0.002646464025275235), (2053, 0.002645942454833094), (1629, 0.0026454993651534296), (4249, 0.0026443315066271345), (3623, 0.0026438005609213575), (2988, 0.0026432913199734356), (120, 0.0026431418425358006), (2126, 0.0026430391688260267), (2863, 0.0026425001953183248), (4470, 0.0026422765154168457), (3636, 0.0026411262450669443), (377, 0.002640617052269731), (1494, 0.0026402294525288083), (1717, 0.002639457787150371), (1516, 0.0026393869255291456), (3153, 0.002639070455558369), (472, 0.0026384666515394026), (2334, 0.0026378758344649178), (3290, 0.0026374528903234736), (2668, 0.0026369876656609312), (3233, 0.0026365604141904836), (4643, 0.002636233606738318), (1860, 0.0026356770241235125), (743, 0.002633567634816622), (176, 0.002633439440040602), (871, 0.0026332856214712802), (2321, 0.0026330907491589426), (2466, 0.002632014275612266), (3016, 0.002631005732435096), (1294, 0.0026309503162168526), (1334, 0.002630907839581409), (509, 0.002628258250766518), (4563, 0.002628021723535114), (4098, 0.002627039869243496), (1254, 0.002626630519463525), (3289, 0.0026264821898864792), (3809, 0.0026258222263989116), (1355, 0.002624494144346975), (3000, 0.002624026143450399), (4533, 0.0026229414984259665), (3526, 0.00262280086232452), (3542, 0.002622182780809038), (4189, 0.002621513919027912), (652, 0.002621407026575291), (3571, 0.0026206691256556885), (1174, 0.002620007486136666), (2784, 0.0026195316203931314), (1077, 0.0026182461723992293), (3699, 0.0026176882233123386), (933, 0.002617383426787887), (1337, 0.0026154088376145086), (1182, 0.0026148065461150376), (406, 0.0026147943761330714), (593, 0.002614030290373155), (1688, 0.002613370713542724), (3606, 0.002613092196890053), (3653, 0.0026124881412646194), (4283, 0.00261243084738674), (2489, 0.0026117996571064627), (3182, 0.0026107297622414306), (2292, 0.0026102492637838856), (1122, 0.0026092167526792385), (850, 0.002609078316306447), (3707, 0.002608403751747701), (3303, 0.002608057812535992), (2155, 0.002607655580340784), (1942, 0.0026074347268317095), (832, 0.0026058685184123585), (2210, 0.0026057284113038745), (1087, 0.0026055316509911324), (3501, 0.0026051216548590205), (2045, 0.0026045754187450205), (994, 0.0026044790781627404), (4068, 0.0026036733301788993), (2295, 0.0026036015065925215), (3643, 0.002603596193925012), (1440, 0.002602419296054484), (2313, 0.0026019922748617137), (4049, 0.0026010206801999622), (1413, 0.002600988536597848), (544, 0.0026007618191461425), (4135, 0.0025992062240876553), (2091, 0.0025985260275986524), (579, 0.0025979663507058187), (2277, 0.0025979339768232024), (2887, 0.0025968411563570505), (1476, 0.002596516460365065), (4014, 0.002593095418506314), (1472, 0.0025926509842786375), (1872, 0.0025921236010700162), (4677, 0.0025903559974320787), (1410, 0.002590243909503065), (4391, 0.00259001555820494), (1985, 0.0025896914536202133), (864, 0.0025896805919154737), (3335, 0.0025894491225602998), (1335, 0.0025883734900127527), (636, 0.002588279395905128), (1722, 0.002588030576162514), (2122, 0.002587266478113952), (1922, 0.00258713804078533), (2745, 0.0025868447711292664), (3551, 0.0025866466704334355), (1574, 0.0025862606073290407), (1706, 0.002586196689683641), (2193, 0.002586168144520576), (2396, 0.0025861476467037045), (4266, 0.0025860978391916757), (209, 0.002586070887073845), (2554, 0.0025854279620713466), (2144, 0.0025851272491364046), (3210, 0.0025851228659095316), (3670, 0.0025847649062108414), (848, 0.002584644699765702), (3227, 0.0025840934711126255), (628, 0.002583927704135218), (2109, 0.0025834287858514282), (182, 0.002583290995124004), (1232, 0.0025826247057352475), (2934, 0.002581527028660731), (2192, 0.0025809331506391996), (2606, 0.0025805547659701316), (3155, 0.0025803862727450306), (2169, 0.002579421189322109), (3436, 0.0025793325150085824), (104, 0.002579034250977643), (2492, 0.0025788948730747353), (4686, 0.0025784794447713515), (4517, 0.002578357037064388), (504, 0.002578343101314831), (2067, 0.002578263370626575), (2533, 0.002577652005599187), (1876, 0.0025775775592595533), (4081, 0.002577039679350458), (4604, 0.0025766980230331024), (2284, 0.0025766825739097776), (2826, 0.0025765396320952738), (3125, 0.002575513721466272), (4435, 0.0025750813485056943), (378, 0.002573830967967696), (1191, 0.0025729623019586454), (3564, 0.002572798050607268), (172, 0.002570981227643323), (5, 0.002570480247003558), (3341, 0.0025700316530684088), (4715, 0.002569466580687132), (1488, 0.0025692984409137376), (2344, 0.0025681818609324075), (4640, 0.002567594490452169), (1385, 0.002566077974665028), (2831, 0.002565799256248994), (1170, 0.0025657342543201696), (2354, 0.0025654099114648427), (114, 0.002565292289396709), (749, 0.0025643954112538605), (3612, 0.0025638346940306265), (761, 0.0025632353918260712), (3478, 0.00256286074016841), (2495, 0.002562628207171702), (226, 0.00256250342569936), (986, 0.0025608984399674013), (479, 0.0025598285490455834), (1163, 0.0025583377360204355), (66, 0.0025578555940586104), (2212, 0.002557298891083573), (2387, 0.002557281579662844), (3665, 0.002556755691129012), (4320, 0.0025563462037166977), (2195, 0.002556097169665615), (3346, 0.0025560419735534586), (4016, 0.0025557988116689323), (109, 0.0025550898210769525), (79, 0.0025548633765764225), (2900, 0.002554704901153382), (3330, 0.002554126808941036), (2943, 0.002553643812416328), (1021, 0.0025528168845278783), (1112, 0.002552607351308212), (3673, 0.0025524753510008727), (1612, 0.002552068276546266), (3216, 0.002550353541073387), (2853, 0.0025500141298602694), (4511, 0.002549043930767776), (4056, 0.0025490060825076135), (689, 0.0025487981317631253), (2999, 0.0025483221951920153), (1678, 0.0025482123669904318), (4409, 0.0025476937540623475), (3299, 0.002546659115633146), (346, 0.0025466192163023775), (4060, 0.0025462409941546687), (2289, 0.0025451075510285206), (1102, 0.0025435821964572636), (3374, 0.002543431625194167), (4394, 0.0025431536939560847), (1483, 0.0025429764134994085), (4000, 0.002542082705147613), (3441, 0.0025418049999335296), (105, 0.0025417519978169563), (3477, 0.002541317947771064), (3727, 0.002541047578642023), (1891, 0.0025406176881438924), (2174, 0.0025403419745439228), (1634, 0.0025400990920592813), (3553, 0.0025400231000680474), (400, 0.00253932405114485), (1252, 0.0025391818729376845), (3624, 0.0025391062160647735), (894, 0.0025387795494947263), (1072, 0.0025383879572681324), (1438, 0.002538099456896106), (490, 0.0025378175092046814), (4520, 0.0025370613995110893), (1059, 0.0025369055692151714), (2060, 0.002536831031791838), (3565, 0.002536386672519266), (3596, 0.0025363743628773264), (3888, 0.0025358125093606562), (1831, 0.002534022931294544), (466, 0.002533755622865403), (464, 0.0025332564637610727), (2569, 0.002532406763046687), (3381, 0.0025322523440525543), (3067, 0.0025318226474793423), (174, 0.0025314589243477996), (3237, 0.0025313511561953655), (534, 0.0025312376527787906), (1598, 0.002529908606889017), (769, 0.0025293043987793334), (1666, 0.00252733591022318), (1621, 0.002526518769687912), (2416, 0.002525887612106616), (867, 0.0025258091868951417), (1313, 0.0025254544017107704), (4668, 0.0025252725021840537), (973, 0.002524962086078219), (4487, 0.0025249539692416556), (3173, 0.0025239369788135823), (2173, 0.002523678480636379), (2961, 0.0025226660486608226), (3647, 0.002521519536161528), (1100, 0.002520439480603565), (4349, 0.002520084371476899), (2463, 0.0025191775082917174), (1110, 0.002519121884082024), (169, 0.002517990301187037), (3499, 0.002517716675157982), (4685, 0.002516150628812346), (1026, 0.0025148634401451135), (4284, 0.002514637570031376), (1319, 0.0025144154386518972), (119, 0.0025143928452040845), (1807, 0.0025138471002002145), (3046, 0.002513640206695781), (2980, 0.0025135076699074723), (3557, 0.0025132034384900766), (3827, 0.0025128192914765798), (3379, 0.0025126441519907066), (1286, 0.0025124937729118536), (1084, 0.002511263547575834), (1882, 0.002511050268277905), (2111, 0.002510421986592535), (98, 0.002509527857712903), (4362, 0.002509429525756392), (2945, 0.002508709423326228), (1527, 0.0025081943086648654), (26, 0.002507618553499501), (2910, 0.002507543341677449), (2087, 0.002506652347028482), (4530, 0.002506454159258271), (870, 0.0025060068102229797), (4687, 0.002505951804555664), (3220, 0.0025047680128553514), (3447, 0.002504317771553144), (3069, 0.002502756024093453), (2632, 0.002502613501604768), (2029, 0.0025021011093161517), (1617, 0.0025020159846333855), (3719, 0.0025014898101736785), (4309, 0.0025014222053012193), (4743, 0.002500628962785016), (446, 0.0025000844507777928), (3412, 0.002499514330075554), (4387, 0.0024989736276918723), (2553, 0.002498549597344477), (3402, 0.0024974486184946086), (2279, 0.0024971084422857307), (2698, 0.0024969980328156203), (1350, 0.0024964442330296746), (2103, 0.002495520619659491), (127, 0.0024954304933279907), (1422, 0.002495334078333767), (1284, 0.002494814580704066), (693, 0.0024944076183565245), (1096, 0.002493306062038065), (4395, 0.002493259137362259), (2008, 0.0024923617757794214), (1017, 0.0024910441108761524), (2401, 0.0024907524024442213), (1035, 0.0024897499185985877), (1967, 0.0024897396411930335), (3765, 0.002489514456879323), (4693, 0.0024894841936387775), (3075, 0.0024890565286447906), (1813, 0.002488139349073589), (2422, 0.00248776770060828), (292, 0.002486521287597624), (329, 0.0024861681815313403), (4442, 0.002485863867718928), (4183, 0.0024857208722937406), (4381, 0.002484587526493128), (4573, 0.0024844724480730337), (643, 0.0024834749458558076), (2808, 0.0024833589247209367), (4673, 0.0024822445816495998), (4192, 0.002481760969488469), (2912, 0.0024815929631142822), (1030, 0.002480820312080216), (4129, 0.0024806637659480295), (3348, 0.0024802271958218047), (3890, 0.002479458174601008), (541, 0.002478926237893324), (4382, 0.002478190171449205), (4472, 0.0024773895120175737), (3028, 0.002476608139318204), (2080, 0.002476178215547964), (1645, 0.0024758698074860822), (167, 0.0024758683996499104), (3298, 0.0024756550793600452), (1247, 0.002475367555451902), (4139, 0.002474836118542729), (87, 0.002474045665348016), (4504, 0.002473539851376674), (1969, 0.0024732857529992393), (2653, 0.00247312037700031), (1060, 0.0024727204792366108), (19, 0.002472706068728217), (2467, 0.002472646664270319), (3660, 0.0024714498670908715), (3010, 0.0024713613375337323), (1463, 0.0024709981853224703), (1421, 0.0024706795301649644), (1597, 0.0024687716544051956), (2716, 0.0024685937909314933), (112, 0.0024673480964730096), (4461, 0.0024672302044787186), (3900, 0.002464420225272324), (3487, 0.002464100526581496), (4658, 0.002463883596613043), (3826, 0.002463864011212548), (396, 0.0024628162747665754), (2131, 0.0024619802672131838), (4729, 0.002461757524388092), (620, 0.002461531963930997), (1582, 0.0024604473107648845), (782, 0.002459268647636695), (1020, 0.0024587745180389576), (2117, 0.0024583244917090645), (3503, 0.0024575253990972716), (3246, 0.0024569170194608317), (1033, 0.0024565621340221265), (1446, 0.0024559806908664517), (4670, 0.002454965682735661), (3504, 0.002454759778295286), (1478, 0.002454180558907497), (2024, 0.002454177482329454), (487, 0.0024533655462856433), (2367, 0.0024532343264726812), (4523, 0.0024516461695143336), (2752, 0.002451245278293474), (2143, 0.002450329163623937), (2141, 0.0024496165037292757), (4567, 0.0024494237790479464), (3498, 0.0024487018073463696), (4536, 0.0024485334113488215), (4155, 0.0024484049124081546), (3315, 0.0024482488014850447), (2309, 0.0024481785094036886), (4614, 0.0024479818684462174), (3214, 0.0024467334719982686), (3268, 0.0024460728024428176), (854, 0.0024458689751751883), (798, 0.0024457336786628007), (1877, 0.0024455834669041827), (1744, 0.002444912626202547), (3122, 0.0024448859761307313), (356, 0.002444594601805142), (3978, 0.00244450413888358), (1001, 0.002442597564037692), (1002, 0.0024418768912899784), (3390, 0.0024418586651760296), (3151, 0.002441300909853127), (3733, 0.0024408778033842417), (157, 0.002440843110124338), (2473, 0.0024407826845922074), (29, 0.0024405729582904117), (4321, 0.0024399501500091945), (2121, 0.00243987728905327), (3035, 0.0024398175708691267), (3784, 0.002439410981993802), (4085, 0.0024392598988082544), (3691, 0.002438675212345532), (164, 0.002438659415417022), (3170, 0.0024381450083610975), (3171, 0.0024378961919842017), (984, 0.002437802469177282), (4213, 0.002436996850350699), (2706, 0.002436497689588228), (2765, 0.0024360952806071613), (2068, 0.002435311659601415), (505, 0.00243466250081152), (4206, 0.0024344160100148917), (4428, 0.0024335630922681863), (4374, 0.002432760529351222), (3898, 0.002432057687133329), (2224, 0.002431911759233548), (437, 0.00243179707431301), (767, 0.0024311334601209065), (962, 0.002430140271424251), (2859, 0.0024297694107122863), (2995, 0.002428946791246619), (373, 0.0024288728222172204), (2572, 0.0024277222623604574), (1710, 0.0024276870265459035), (4246, 0.002426588615688943), (3293, 0.0024257301115062006), (2679, 0.0024251472277449773), (4124, 0.0024250308875707603), (698, 0.002424781218384285), (2651, 0.0024247633613342693), (3646, 0.002423347418320243), (1742, 0.002423257281699806), (408, 0.002423059825446607), (1404, 0.002422580030152251), (2997, 0.0024223714829248373), (4399, 0.00242208260810961), (325, 0.002421812697661905), (1759, 0.002421537498334008), (2800, 0.0024213375334123277), (818, 0.0024211455398508055), (1032, 0.0024206334369244343), (197, 0.0024198734814229986), (3819, 0.00241981764350276), (966, 0.0024197880160933805), (3194, 0.002419002359619318), (3954, 0.002418769893017386), (126, 0.0024180710464595558), (3734, 0.0024172181527053888), (1036, 0.0024171523719857336), (2303, 0.0024171162762567804), (276, 0.0024164870253460743), (2972, 0.0024157416863051684), (2812, 0.002415288387387583), (1663, 0.002414395744231531), (4257, 0.002414282560705642), (2166, 0.0024136522004006076), (2023, 0.0024134273530973557), (3615, 0.0024134149255028233), (2525, 0.0024132961639117875), (2899, 0.0024091870627034914), (2004, 0.0024087541722588248), (236, 0.0024073297581045767), (507, 0.0024064489198310376), (4254, 0.002406401030230979), (1203, 0.0024063044268595136), (1693, 0.0024063023966171214), (3407, 0.002405995684891512), (1682, 0.002405022656855456), (287, 0.0024047741841691814), (903, 0.0024023381357074075), (1793, 0.002402075072677424), (140, 0.002400700209292216), (3071, 0.0024005086906050952), (941, 0.0024003682070518765), (1665, 0.0023996233590045666), (279, 0.0023992389106278324), (975, 0.0023992249591167102), (212, 0.0023984382576629514), (2496, 0.0023967175126672576), (4059, 0.0023966961960842402), (1620, 0.002396415654768412), (2552, 0.0023961063574313387), (1206, 0.0023957927553843587), (963, 0.0023956444517526697), (2099, 0.002395446007710932), (1884, 0.002395420430807095), (2149, 0.0023945956083112497), (3399, 0.002394382406595136), (471, 0.0023933363686860255), (655, 0.002393266309359578), (4634, 0.0023914264956842214), (4603, 0.0023906292425123184), (3452, 0.002389809742810676), (229, 0.0023893324092120203), (2862, 0.0023884455102365044), (598, 0.002387869306378577), (944, 0.0023877605928787167), (895, 0.002387706712149742), (1819, 0.002387656875686061), (3725, 0.0023863195656977166), (921, 0.0023852072199503265), (1107, 0.002384499908561705), (410, 0.0023843301326677683), (1433, 0.0023843277523471628), (2201, 0.0023840857494083142), (935, 0.002383778762413325), (4591, 0.0023835940692636063), (838, 0.0023830956335038323), (866, 0.0023825387675195913), (1558, 0.0023823755657404687), (3829, 0.002382326156162377), (111, 0.00238074994188693), (2446, 0.0023803681422430107), (2528, 0.002380003355669775), (3342, 0.002379823402737432), (1456, 0.002378812187784445), (2907, 0.0023768841567723296), (1641, 0.002376588044491283), (1650, 0.002376487643093955), (2556, 0.002376430741341077), (589, 0.0023751798290272685), (463, 0.0023751795886628115), (3120, 0.0023727536128289087), (1642, 0.002371957728331235), (2777, 0.002371393821579071), (766, 0.0023713449094256737), (3627, 0.0023712930310310133), (2868, 0.0023711151884417084), (744, 0.002370091425092205), (1519, 0.0023699490912904323), (805, 0.0023699384983676334), (4402, 0.002369791973566928), (1448, 0.0023680960412347687), (4616, 0.002367448815998244), (2735, 0.002366281947325106), (3558, 0.002366060899713804), (3913, 0.002366025004766514), (2399, 0.002365715049084284), (2593, 0.002364540281302914), (3369, 0.002363983565797883), (3839, 0.0023638955669521974), (15, 0.0023638906762485615), (1477, 0.0023638723403936355), (558, 0.0023632543651587973), (899, 0.0023624776815642052), (1667, 0.002361945942536504), (1543, 0.0023611953969678435), (1814, 0.002359755398938567), (2674, 0.002359172254752107), (4174, 0.002358900174722626), (2845, 0.0023588813620765217), (4348, 0.00235685958521972), (907, 0.0023568298387193873), (1079, 0.0023567847329049076), (4176, 0.0023565794050960497), (2453, 0.0023554882939151654), (121, 0.0023554799571663715), (829, 0.002354312064955058), (3767, 0.002354244170071162), (4649, 0.002353624339763742), (1875, 0.002353466386901803), (3455, 0.0023532004617720583), (3876, 0.002352532804456607), (43, 0.002352381991069638), (457, 0.002352214009577425), (524, 0.0023510980767416007), (4326, 0.002349679502676499), (3306, 0.0023495778621275467), (2362, 0.0023492800791580096), (3050, 0.0023480559532180357), (4277, 0.0023474603393204407), (1672, 0.002346140380032993), (1628, 0.002344999781483378), (2301, 0.00234436125054665), (1065, 0.0023424376239142572), (4620, 0.002341643134116583), (4502, 0.0023407271273109807), (124, 0.002340175753908256), (2954, 0.002340103973353861), (1434, 0.002339880197040743), (4359, 0.0023398098027342714), (465, 0.002339766519489045), (1796, 0.002338367015867214), (4638, 0.0023378400409727104), (759, 0.0023334033271192227), (2728, 0.002332779240575415), (1360, 0.0023325046145892857), (3953, 0.0023318364039456715), (3278, 0.0023303628365758658), (3474, 0.002328782339137941), (1680, 0.0023275756082901137), (1892, 0.002327189426069074), (1237, 0.0023264535506087466), (1538, 0.0023262779040283538), (3418, 0.0023258243022903444), (4053, 0.002325515524718374), (3267, 0.002325469399414357), (1216, 0.00232399425899772), (1503, 0.0023236574123499214), (2055, 0.0023227819485234715), (968, 0.0023215663110937403), (2402, 0.0023209781909635475), (3705, 0.002319086144035082), (473, 0.002318635611624696), (3311, 0.0023183159311374445), (2931, 0.002318311240071079), (1827, 0.002317542884360502), (1826, 0.0023174924961907512), (4154, 0.002315828525014889), (2338, 0.002315493641949973), (1605, 0.002315348760024031), (1387, 0.0023135977757963453), (2031, 0.0023126732672404285), (1366, 0.0023118074880922575), (4350, 0.0023100120238770403), (581, 0.0023095425190200933), (1690, 0.0023090431677247085), (4712, 0.0023087182039711585), (2741, 0.0023075653879107683), (981, 0.002307279169649336), (3974, 0.002306719691110005), (3027, 0.0023062101540057773), (2285, 0.0023061110213828486), (3986, 0.0023059494709122817), (2457, 0.0023053940248987555), (1000, 0.0023051331241787927), (4475, 0.0023046433248851833), (1625, 0.002304550838877064), (1739, 0.0023043890706754434), (2248, 0.0023040608751877384), (597, 0.0023038063074513546), (161, 0.0023036291941129655), (3863, 0.002302977435418347), (722, 0.002302829379510896), (2065, 0.0023025212937523624), (3108, 0.0023002205575625235), (4304, 0.0023001827530438382), (158, 0.002298893941795268), (3327, 0.002298791862001075), (1980, 0.0022986988748611723), (1808, 0.002298449913699365), (2191, 0.002298424046284191), (3841, 0.0022983273464246695), (4080, 0.0022979269783436587), (2607, 0.00229720304348689), (1004, 0.002297133643059339), (3801, 0.0022961398621820592), (2976, 0.0022958187180040245), (3167, 0.0022951710394430156), (917, 0.002293992228796993), (3111, 0.002293803094943903), (3795, 0.0022925453626281705), (3556, 0.0022915278525192876), (1921, 0.002290424889619945), (4205, 0.0022891417446979077), (2580, 0.0022887173497222607), (1934, 0.0022883730734825545), (2163, 0.0022867969175481497), (268, 0.002285814594986649), (1318, 0.0022856584109842907), (672, 0.0022853002926842697), (4141, 0.0022850586127450274), (3956, 0.0022842666721985226), (2724, 0.0022773466552385496), (2264, 0.002276867010222928), (3360, 0.002276514806487504), (657, 0.002275867793141308), (2587, 0.002274348399478018), (4608, 0.002274288284109025), (4661, 0.0022717526083397286), (4104, 0.0022716857885741975), (1830, 0.0022708526599507163), (1954, 0.0022702457539696638), (252, 0.002270135286281061), (1251, 0.00226785801425081), (3755, 0.0022650349384173516), (200, 0.002264554456902947), (519, 0.002262865081787234), (1608, 0.0022621888060667147), (1553, 0.0022618716443729074), (2502, 0.0022611828040241346), (4220, 0.0022608887702206654), (1199, 0.0022608092871988224), (2617, 0.0022595582046806913), (1776, 0.0022570592262473503), (222, 0.0022557230254548594), (605, 0.002255102058509328), (4679, 0.002253155528486749), (4066, 0.0022506765205349303), (3910, 0.002250022381174311), (647, 0.002248651439287193), (3894, 0.002247679066822114), (249, 0.002247610671007426), (32, 0.002247470110954674), (1136, 0.0022468157610002373), (4156, 0.0022465423172175697), (317, 0.002244095017135154), (924, 0.002232366457680542), (4296, 0.0022323555609135896), (4473, 0.002232079151873348), (4232, 0.0022280443629826147), (2721, 0.0022269023297347462), (2692, 0.0022254937857947676), (2412, 0.0022253368368569167), (4429, 0.0022252220493876895), (1465, 0.0022219432944089687), (2747, 0.002220689847954313), (103, 0.0022197999928091038), (4748, 0.0022196045350893145), (3211, 0.002218968705082749), (242, 0.0022189295106434413), (2942, 0.0022176953581729522), (147, 0.002217284538303397), (1397, 0.0022162665522272693), (2270, 0.0022143522931600116), (642, 0.002213701219202753), (1828, 0.0022113909460350985), (4386, 0.0022103516133212425), (874, 0.0022101437848140674), (1450, 0.0022085649032806314), (2761, 0.0022054415049964824), (364, 0.0022048373044557543), (3393, 0.002204194014380968), (3629, 0.0022010146283926828), (4627, 0.00219909658154969), (251, 0.0021966277472634), (4411, 0.0021956018629809165), (1763, 0.002194690150110646), (1833, 0.0021945415015236116), (445, 0.0021939820152251), (4476, 0.002193039374330232), (2070, 0.002192127830376712), (1088, 0.0021908299521062537), (4344, 0.002190766689141973), (2146, 0.002190200788510764), (2981, 0.002189306790147577), (3376, 0.0021884933937204713), (3579, 0.0021876010577745455), (1691, 0.0021867773881376466), (1743, 0.0021814756207606365), (432, 0.002180264944231113), (1352, 0.00217698606792063), (3065, 0.002176876171362551), (3344, 0.00217653644442147), (2933, 0.0021764624817100214), (4095, 0.002174984981125291), (3855, 0.002174614295260834), (1971, 0.002172270959765522), (626, 0.0021719033898452912), (3669, 0.0021719003200797284), (2035, 0.0021711328632482416), (3668, 0.002169253806167928), (1845, 0.002167268068984671), (1365, 0.0021641837162235966), (175, 0.0021640857720192502), (617, 0.0021637933781282754), (1312, 0.0021627872346851266), (2076, 0.0021615095086547037), (4636, 0.002161253506789704), (547, 0.0021607668402390742), (195, 0.0021541622091503457), (2603, 0.0021524863872711786), (1801, 0.00215231291723401), (2127, 0.0021515008077562497), (3347, 0.0021510395890436927), (566, 0.0021501351251461474), (3821, 0.0021493252871683625), (3928, 0.0021407862645715908), (2876, 0.002140455725347462), (2359, 0.0021391000500866008), (2287, 0.002138163413937326), (2985, 0.002137706929286135), (3331, 0.002136371939275131), (16, 0.0021361075547300054), (616, 0.00213573956176726), (1209, 0.0021356913107843426), (3252, 0.002135512266999753), (1078, 0.0021343013723955253), (2481, 0.002134258018649425), (44, 0.002133392534340949), (3430, 0.0021332385907503726), (3927, 0.0021331889989176754), (2221, 0.0021306025167402544), (2602, 0.0021265275335788977), (2969, 0.0021256024828969393), (3056, 0.0021231324681311036), (901, 0.002122750079488116), (142, 0.0021204011550654766), (3024, 0.0021200715995828502), (2563, 0.0021196011662504358), (4200, 0.002118939944192488), (1571, 0.0021188739456664157), (1305, 0.0021187422247915537), (2844, 0.00211668711439361), (4015, 0.0021141089806505733), (3957, 0.0021124300906345335), (3548, 0.0021075589179119884), (113, 0.0021075090520014713), (3751, 0.0021064728564464527), (2509, 0.0021060945375042718), (1427, 0.0021008714731411025), (1415, 0.0020997684570161694), (1464, 0.0020993430268711386), (3317, 0.002099115738698188), (2697, 0.0020981056775223467), (1369, 0.002097620466610299), (2526, 0.002096907234582604), (433, 0.002096399599594613), (3756, 0.00209636574822743), (3254, 0.0020955045752001837), (3313, 0.0020923781518285872), (1098, 0.0020898575626155844), (816, 0.0020859345831509093), (1624, 0.002085516955323457), (3875, 0.0020831003949298792), (4311, 0.0020821811671129986), (156, 0.002081952888962246), (4744, 0.0020775890527028966), (4626, 0.0020720470229815963), (691, 0.002071353153153542), (1377, 0.0020673765039092265), (1303, 0.0020663226233084237), (3410, 0.002062350847212404), (2908, 0.002059523209229541), (1989, 0.0020584510978992115), (3431, 0.002058048302310734), (2925, 0.002057706009019416), (194, 0.0020562405315981084), (757, 0.0020471702349053236), (3538, 0.0020435353289638327), (1144, 0.002043279128996598), (2000, 0.0020423089694428715), (63, 0.0020396907082814455), (309, 0.0020384238482880836), (3471, 0.0020377352990846287), (2917, 0.0020186513347592553), (1677, 0.002016296982157114), (3301, 0.0020069295723016624), (159, 0.0020058186230221616), (1040, 0.0020016996065386336), (1417, 0.0020005512519201485), (3152, 0.0019999251840630027), (3199, 0.0019846563853879334), (106, 0.001972846957685996), (1403, 0.0019690779259861975), (2474, 0.0019662657135285457), (3626, 0.0019662419342819813), (271, 0.0019641190981089783), (224, 0.001960837412516817), (4652, 0.0019589256198772813), (351, 0.0019553000356337994), (82, 0.0019448308961620944), (562, 0.0019443096986688933), (1861, 0.0019426209664998246), (3645, 0.0019317351833667495), (2636, 0.0019240973986598849), (296, 0.0019208049424562616), (1277, 0.0019165157616583518), (256, 0.0019146731717494011), (1648, 0.001913909937987909), (3546, 0.0019120861437032324), (4301, 0.0019014376612463428), (1351, 0.0018900337746420048), (2902, 0.0018849103237955228), (1306, 0.0018682832598392602), (7, 0.0018410581132613094), (641, 0.001835255530614067), (293, 0.0018222588006594537), (455, 0.0018186068933328079), (831, 0.0018092664723911894), (3365, 0.001807334820521227), (243, 0.0018043278983576963), (542, 0.0017971921615590608), (3421, 0.0017730694324165212), (330, 0.0017708289313198274), (3458, 0.0017558242556823416), (1506, 0.0017550763507607986), (1509, 0.0017508115279044833), (858, 0.0017304335997538978), (740, 0.0017192675126407686), (202, 0.0016816747786567781), (24, 0.001673869436510061), (3608, 0.0016693145167649998), (2538, 0.001533434595494263), (2841, 0.001431499896059407), (0, 0.0), (1, 0.0), (2, 0.0), (10, 0.0), (13, 0.0), (14, 0.0), (27, 0.0), (30, 0.0), (37, 0.0), (38, 0.0), (39, 0.0), (40, 0.0), (45, 0.0), (50, 0.0), (59, 0.0), (64, 0.0), (65, 0.0), (67, 0.0), (69, 0.0), (70, 0.0), (73, 0.0), (75, 0.0), (78, 0.0), (80, 0.0), (83, 0.0), (86, 0.0), (88, 0.0), (89, 0.0), (90, 0.0), (91, 0.0), (94, 0.0), (95, 0.0), (99, 0.0), (100, 0.0), (101, 0.0), (102, 0.0), (110, 0.0), (118, 0.0), (131, 0.0), (133, 0.0), (134, 0.0), (135, 0.0), (138, 0.0), (139, 0.0), (143, 0.0), (144, 0.0), (145, 0.0), (146, 0.0), (148, 0.0), (150, 0.0), (151, 0.0), (155, 0.0), (160, 0.0), (163, 0.0), (170, 0.0), (171, 0.0), (185, 0.0), (187, 0.0), (189, 0.0), (201, 0.0), (207, 0.0), (214, 0.0), (217, 0.0), (219, 0.0), (220, 0.0), (223, 0.0), (225, 0.0), (233, 0.0), (234, 0.0), (239, 0.0), (245, 0.0), (248, 0.0), (250, 0.0), (260, 0.0), (261, 0.0), (265, 0.0), (272, 0.0), (273, 0.0), (275, 0.0), (284, 0.0), (288, 0.0), (289, 0.0), (290, 0.0), (294, 0.0), (295, 0.0), (304, 0.0), (305, 0.0), (306, 0.0), (311, 0.0), (313, 0.0), (314, 0.0), (315, 0.0), (316, 0.0), (319, 0.0), (321, 0.0), (322, 0.0), (323, 0.0), (327, 0.0), (331, 0.0), (333, 0.0), (335, 0.0), (337, 0.0), (341, 0.0), (344, 0.0), (345, 0.0), (347, 0.0), (352, 0.0), (360, 0.0), (367, 0.0), (368, 0.0), (369, 0.0), (379, 0.0), (380, 0.0), (383, 0.0), (391, 0.0), (392, 0.0), (394, 0.0), (397, 0.0), (405, 0.0), (413, 0.0), (417, 0.0), (418, 0.0), (420, 0.0), (421, 0.0), (422, 0.0), (423, 0.0), (424, 0.0), (426, 0.0), (427, 0.0), (439, 0.0), (454, 0.0), (459, 0.0), (460, 0.0), (461, 0.0), (462, 0.0), (474, 0.0), (477, 0.0), (484, 0.0), (486, 0.0), (494, 0.0), (501, 0.0), (503, 0.0), (512, 0.0), (513, 0.0), (514, 0.0), (516, 0.0), (517, 0.0), (521, 0.0), (523, 0.0), (525, 0.0), (529, 0.0), (530, 0.0), (531, 0.0), (532, 0.0), (535, 0.0), (536, 0.0), (537, 0.0), (539, 0.0), (540, 0.0), (545, 0.0), (549, 0.0), (554, 0.0), (555, 0.0), (556, 0.0), (557, 0.0), (559, 0.0), (560, 0.0), (567, 0.0), (574, 0.0), (575, 0.0), (582, 0.0), (583, 0.0), (599, 0.0), (600, 0.0), (601, 0.0), (602, 0.0), (603, 0.0), (618, 0.0), (621, 0.0), (625, 0.0), (629, 0.0), (630, 0.0), (632, 0.0), (648, 0.0), (649, 0.0), (650, 0.0), (654, 0.0), (656, 0.0), (658, 0.0), (661, 0.0), (663, 0.0), (664, 0.0), (665, 0.0), (666, 0.0), (667, 0.0), (671, 0.0), (677, 0.0), (678, 0.0), (679, 0.0), (681, 0.0), (682, 0.0), (685, 0.0), (686, 0.0), (687, 0.0), (690, 0.0), (692, 0.0), (695, 0.0), (702, 0.0), (704, 0.0), (708, 0.0), (709, 0.0), (711, 0.0), (718, 0.0), (738, 0.0), (741, 0.0), (746, 0.0), (747, 0.0), (748, 0.0), (753, 0.0), (754, 0.0), (756, 0.0), (760, 0.0), (763, 0.0), (764, 0.0), (765, 0.0), (768, 0.0), (771, 0.0), (772, 0.0), (775, 0.0), (776, 0.0), (778, 0.0), (780, 0.0), (784, 0.0), (785, 0.0), (786, 0.0), (789, 0.0), (793, 0.0), (795, 0.0), (797, 0.0), (801, 0.0), (802, 0.0), (803, 0.0), (809, 0.0), (811, 0.0), (820, 0.0), (821, 0.0), (825, 0.0), (827, 0.0), (833, 0.0), (834, 0.0), (835, 0.0), (837, 0.0), (839, 0.0), (840, 0.0), (841, 0.0), (842, 0.0), (855, 0.0), (862, 0.0), (869, 0.0), (873, 0.0), (877, 0.0), (881, 0.0), (891, 0.0), (893, 0.0), (898, 0.0), (904, 0.0), (905, 0.0), (908, 0.0), (916, 0.0), (918, 0.0), (920, 0.0), (928, 0.0), (931, 0.0), (938, 0.0), (943, 0.0), (945, 0.0), (946, 0.0), (948, 0.0), (950, 0.0), (955, 0.0), (958, 0.0), (960, 0.0), (964, 0.0), (965, 0.0), (970, 0.0), (971, 0.0), (972, 0.0), (974, 0.0), (976, 0.0), (978, 0.0), (983, 0.0), (992, 0.0), (995, 0.0), (996, 0.0), (1003, 0.0), (1010, 0.0), (1014, 0.0), (1016, 0.0), (1018, 0.0), (1022, 0.0), (1024, 0.0), (1025, 0.0), (1028, 0.0), (1031, 0.0), (1038, 0.0), (1039, 0.0), (1056, 0.0), (1058, 0.0), (1061, 0.0), (1062, 0.0), (1063, 0.0), (1066, 0.0), (1068, 0.0), (1070, 0.0), (1073, 0.0), (1074, 0.0), (1076, 0.0), (1081, 0.0), (1086, 0.0), (1089, 0.0), (1091, 0.0), (1092, 0.0), (1093, 0.0), (1094, 0.0), (1095, 0.0), (1099, 0.0), (1101, 0.0), (1104, 0.0), (1113, 0.0), (1115, 0.0), (1116, 0.0), (1118, 0.0), (1125, 0.0), (1126, 0.0), (1127, 0.0), (1133, 0.0), (1137, 0.0), (1139, 0.0), (1146, 0.0), (1147, 0.0), (1149, 0.0), (1151, 0.0), (1152, 0.0), (1154, 0.0), (1156, 0.0), (1158, 0.0), (1159, 0.0), (1162, 0.0), (1164, 0.0), (1166, 0.0), (1173, 0.0), (1178, 0.0), (1180, 0.0), (1181, 0.0), (1185, 0.0), (1189, 0.0), (1193, 0.0), (1194, 0.0), (1201, 0.0), (1205, 0.0), (1207, 0.0), (1210, 0.0), (1211, 0.0), (1213, 0.0), (1214, 0.0), (1226, 0.0), (1227, 0.0), (1228, 0.0), (1230, 0.0), (1231, 0.0), (1233, 0.0), (1235, 0.0), (1236, 0.0), (1238, 0.0), (1239, 0.0), (1242, 0.0), (1244, 0.0), (1262, 0.0), (1265, 0.0), (1266, 0.0), (1269, 0.0), (1270, 0.0), (1274, 0.0), (1276, 0.0), (1279, 0.0), (1280, 0.0), (1282, 0.0), (1285, 0.0), (1287, 0.0), (1288, 0.0), (1289, 0.0), (1291, 0.0), (1293, 0.0), (1297, 0.0), (1302, 0.0), (1307, 0.0), (1309, 0.0), (1311, 0.0), (1315, 0.0), (1316, 0.0), (1321, 0.0), (1322, 0.0), (1323, 0.0), (1327, 0.0), (1328, 0.0), (1329, 0.0), (1331, 0.0), (1333, 0.0), (1336, 0.0), (1342, 0.0), (1343, 0.0), (1344, 0.0), (1347, 0.0), (1348, 0.0), (1353, 0.0), (1358, 0.0), (1371, 0.0), (1380, 0.0), (1381, 0.0), (1384, 0.0), (1388, 0.0), (1389, 0.0), (1391, 0.0), (1393, 0.0), (1395, 0.0), (1396, 0.0), (1401, 0.0), (1406, 0.0), (1407, 0.0), (1412, 0.0), (1419, 0.0), (1424, 0.0), (1425, 0.0), (1426, 0.0), (1428, 0.0), (1430, 0.0), (1431, 0.0), (1432, 0.0), (1435, 0.0), (1436, 0.0), (1441, 0.0), (1443, 0.0), (1444, 0.0), (1445, 0.0), (1447, 0.0), (1449, 0.0), (1451, 0.0), (1452, 0.0), (1453, 0.0), (1455, 0.0), (1458, 0.0), (1459, 0.0), (1461, 0.0), (1473, 0.0), (1482, 0.0), (1485, 0.0), (1486, 0.0), (1487, 0.0), (1490, 0.0), (1491, 0.0), (1492, 0.0), (1501, 0.0), (1504, 0.0), (1507, 0.0), (1508, 0.0), (1517, 0.0), (1520, 0.0), (1521, 0.0), (1523, 0.0), (1530, 0.0), (1531, 0.0), (1534, 0.0), (1535, 0.0), (1536, 0.0), (1540, 0.0), (1541, 0.0), (1542, 0.0), (1544, 0.0), (1545, 0.0), (1546, 0.0), (1548, 0.0), (1549, 0.0), (1551, 0.0), (1554, 0.0), (1556, 0.0), (1560, 0.0), (1561, 0.0), (1562, 0.0), (1563, 0.0), (1564, 0.0), (1566, 0.0), (1567, 0.0), (1573, 0.0), (1575, 0.0), (1576, 0.0), (1577, 0.0), (1583, 0.0), (1584, 0.0), (1585, 0.0), (1586, 0.0), (1587, 0.0), (1588, 0.0), (1590, 0.0), (1596, 0.0), (1602, 0.0), (1606, 0.0), (1607, 0.0), (1609, 0.0), (1611, 0.0), (1614, 0.0), (1623, 0.0), (1626, 0.0), (1630, 0.0), (1631, 0.0), (1632, 0.0), (1635, 0.0), (1636, 0.0), (1639, 0.0), (1640, 0.0), (1644, 0.0), (1646, 0.0), (1651, 0.0), (1657, 0.0), (1659, 0.0), (1662, 0.0), (1673, 0.0), (1674, 0.0), (1676, 0.0), (1679, 0.0), (1681, 0.0), (1686, 0.0), (1692, 0.0), (1694, 0.0), (1695, 0.0), (1696, 0.0), (1698, 0.0), (1699, 0.0), (1700, 0.0), (1701, 0.0), (1702, 0.0), (1704, 0.0), (1705, 0.0), (1709, 0.0), (1713, 0.0), (1715, 0.0), (1720, 0.0), (1721, 0.0), (1723, 0.0), (1724, 0.0), (1725, 0.0), (1729, 0.0), (1731, 0.0), (1734, 0.0), (1735, 0.0), (1737, 0.0), (1741, 0.0), (1745, 0.0), (1746, 0.0), (1749, 0.0), (1751, 0.0), (1752, 0.0), (1753, 0.0), (1755, 0.0), (1756, 0.0), (1757, 0.0), (1758, 0.0), (1761, 0.0), (1766, 0.0), (1770, 0.0), (1773, 0.0), (1777, 0.0), (1778, 0.0), (1783, 0.0), (1785, 0.0), (1786, 0.0), (1787, 0.0), (1788, 0.0), (1789, 0.0), (1790, 0.0), (1791, 0.0), (1794, 0.0), (1799, 0.0), (1802, 0.0), (1803, 0.0), (1806, 0.0), (1809, 0.0), (1810, 0.0), (1812, 0.0), (1815, 0.0), (1816, 0.0), (1818, 0.0), (1823, 0.0), (1824, 0.0), (1829, 0.0), (1832, 0.0), (1834, 0.0), (1835, 0.0), (1837, 0.0), (1838, 0.0), (1839, 0.0), (1840, 0.0), (1842, 0.0), (1844, 0.0), (1846, 0.0), (1847, 0.0), (1849, 0.0), (1852, 0.0), (1856, 0.0), (1857, 0.0), (1859, 0.0), (1863, 0.0), (1868, 0.0), (1870, 0.0), (1873, 0.0), (1879, 0.0), (1880, 0.0), (1881, 0.0), (1883, 0.0), (1888, 0.0), (1889, 0.0), (1894, 0.0), (1895, 0.0), (1898, 0.0), (1899, 0.0), (1900, 0.0), (1904, 0.0), (1906, 0.0), (1910, 0.0), (1911, 0.0), (1912, 0.0), (1914, 0.0), (1917, 0.0), (1927, 0.0), (1928, 0.0), (1930, 0.0), (1933, 0.0), (1935, 0.0), (1937, 0.0), (1939, 0.0), (1940, 0.0), (1941, 0.0), (1944, 0.0), (1945, 0.0), (1953, 0.0), (1956, 0.0), (1957, 0.0), (1958, 0.0), (1962, 0.0), (1966, 0.0), (1972, 0.0), (1973, 0.0), (1975, 0.0), (1976, 0.0), (1978, 0.0), (1979, 0.0), (1984, 0.0), (1986, 0.0), (1987, 0.0), (1988, 0.0), (1992, 0.0), (1994, 0.0), (1996, 0.0), (1999, 0.0), (2001, 0.0), (2002, 0.0), (2003, 0.0), (2005, 0.0), (2007, 0.0), (2013, 0.0), (2015, 0.0), (2017, 0.0), (2020, 0.0), (2021, 0.0), (2022, 0.0), (2025, 0.0), (2030, 0.0), (2032, 0.0), (2038, 0.0), (2041, 0.0), (2042, 0.0), (2044, 0.0), (2046, 0.0), (2050, 0.0), (2052, 0.0), (2054, 0.0), (2056, 0.0), (2059, 0.0), (2063, 0.0), (2066, 0.0), (2071, 0.0), (2077, 0.0), (2078, 0.0), (2079, 0.0), (2081, 0.0), (2082, 0.0), (2084, 0.0), (2085, 0.0), (2090, 0.0), (2092, 0.0), (2093, 0.0), (2095, 0.0), (2098, 0.0), (2101, 0.0), (2106, 0.0), (2107, 0.0), (2110, 0.0), (2113, 0.0), (2115, 0.0), (2119, 0.0), (2124, 0.0), (2128, 0.0), (2130, 0.0), (2135, 0.0), (2138, 0.0), (2139, 0.0), (2145, 0.0), (2150, 0.0), (2156, 0.0), (2160, 0.0), (2161, 0.0), (2164, 0.0), (2165, 0.0), (2167, 0.0), (2168, 0.0), (2171, 0.0), (2172, 0.0), (2175, 0.0), (2177, 0.0), (2179, 0.0), (2181, 0.0), (2185, 0.0), (2186, 0.0), (2194, 0.0), (2197, 0.0), (2200, 0.0), (2202, 0.0), (2204, 0.0), (2206, 0.0), (2215, 0.0), (2217, 0.0), (2218, 0.0), (2219, 0.0), (2220, 0.0), (2222, 0.0), (2225, 0.0), (2228, 0.0), (2231, 0.0), (2232, 0.0), (2233, 0.0), (2234, 0.0), (2235, 0.0), (2238, 0.0), (2239, 0.0), (2243, 0.0), (2244, 0.0), (2245, 0.0), (2246, 0.0), (2247, 0.0), (2249, 0.0), (2252, 0.0), (2253, 0.0), (2256, 0.0), (2261, 0.0), (2262, 0.0), (2263, 0.0), (2267, 0.0), (2271, 0.0), (2272, 0.0), (2273, 0.0), (2274, 0.0), (2275, 0.0), (2276, 0.0), (2278, 0.0), (2281, 0.0), (2282, 0.0), (2290, 0.0), (2291, 0.0), (2296, 0.0), (2304, 0.0), (2305, 0.0), (2307, 0.0), (2308, 0.0), (2312, 0.0), (2314, 0.0), (2316, 0.0), (2318, 0.0), (2325, 0.0), (2326, 0.0), (2328, 0.0), (2329, 0.0), (2331, 0.0), (2333, 0.0), (2336, 0.0), (2337, 0.0), (2339, 0.0), (2341, 0.0), (2342, 0.0), (2343, 0.0), (2345, 0.0), (2351, 0.0), (2352, 0.0), (2357, 0.0), (2358, 0.0), (2363, 0.0), (2364, 0.0), (2366, 0.0), (2368, 0.0), (2369, 0.0), (2372, 0.0), (2373, 0.0), (2377, 0.0), (2380, 0.0), (2381, 0.0), (2383, 0.0), (2384, 0.0), (2395, 0.0), (2398, 0.0), (2409, 0.0), (2414, 0.0), (2420, 0.0), (2421, 0.0), (2424, 0.0), (2426, 0.0), (2429, 0.0), (2431, 0.0), (2432, 0.0), (2433, 0.0), (2435, 0.0), (2442, 0.0), (2445, 0.0), (2449, 0.0), (2450, 0.0), (2452, 0.0), (2455, 0.0), (2458, 0.0), (2462, 0.0), (2468, 0.0), (2470, 0.0), (2471, 0.0), (2472, 0.0), (2476, 0.0), (2479, 0.0), (2480, 0.0), (2485, 0.0), (2486, 0.0), (2487, 0.0), (2491, 0.0), (2493, 0.0), (2499, 0.0), (2501, 0.0), (2503, 0.0), (2504, 0.0), (2506, 0.0), (2508, 0.0), (2510, 0.0), (2514, 0.0), (2515, 0.0), (2519, 0.0), (2521, 0.0), (2523, 0.0), (2524, 0.0), (2536, 0.0), (2539, 0.0), (2541, 0.0), (2542, 0.0), (2543, 0.0), (2547, 0.0), (2548, 0.0), (2549, 0.0), (2564, 0.0), (2566, 0.0), (2573, 0.0), (2574, 0.0), (2575, 0.0), (2576, 0.0), (2577, 0.0), (2578, 0.0), (2581, 0.0), (2583, 0.0), (2586, 0.0), (2594, 0.0), (2597, 0.0), (2599, 0.0), (2600, 0.0), (2604, 0.0), (2605, 0.0), (2620, 0.0), (2622, 0.0), (2626, 0.0), (2627, 0.0), (2630, 0.0), (2631, 0.0), (2635, 0.0), (2639, 0.0), (2644, 0.0), (2656, 0.0), (2657, 0.0), (2658, 0.0), (2659, 0.0), (2660, 0.0), (2662, 0.0), (2663, 0.0), (2665, 0.0), (2666, 0.0), (2667, 0.0), (2669, 0.0), (2671, 0.0), (2676, 0.0), (2677, 0.0), (2683, 0.0), (2684, 0.0), (2685, 0.0), (2686, 0.0), (2690, 0.0), (2699, 0.0), (2700, 0.0), (2703, 0.0), (2704, 0.0), (2709, 0.0), (2710, 0.0), (2713, 0.0), (2717, 0.0), (2718, 0.0), (2719, 0.0), (2726, 0.0), (2727, 0.0), (2730, 0.0), (2732, 0.0), (2734, 0.0), (2736, 0.0), (2737, 0.0), (2742, 0.0), (2750, 0.0), (2751, 0.0), (2754, 0.0), (2756, 0.0), (2759, 0.0), (2770, 0.0), (2773, 0.0), (2780, 0.0), (2781, 0.0), (2785, 0.0), (2787, 0.0), (2788, 0.0), (2789, 0.0), (2790, 0.0), (2794, 0.0), (2799, 0.0), (2801, 0.0), (2804, 0.0), (2805, 0.0), (2806, 0.0), (2810, 0.0), (2814, 0.0), (2815, 0.0), (2816, 0.0), (2817, 0.0), (2818, 0.0), (2820, 0.0), (2823, 0.0), (2824, 0.0), (2825, 0.0), (2828, 0.0), (2829, 0.0), (2833, 0.0), (2835, 0.0), (2836, 0.0), (2839, 0.0), (2850, 0.0), (2851, 0.0), (2852, 0.0), (2855, 0.0), (2860, 0.0), (2865, 0.0), (2869, 0.0), (2871, 0.0), (2873, 0.0), (2874, 0.0), (2875, 0.0), (2877, 0.0), (2880, 0.0), (2885, 0.0), (2891, 0.0), (2896, 0.0), (2897, 0.0), (2905, 0.0), (2906, 0.0), (2913, 0.0), (2918, 0.0), (2921, 0.0), (2922, 0.0), (2928, 0.0), (2929, 0.0), (2930, 0.0), (2939, 0.0), (2941, 0.0), (2944, 0.0), (2947, 0.0), (2948, 0.0), (2950, 0.0), (2951, 0.0), (2952, 0.0), (2960, 0.0), (2963, 0.0), (2967, 0.0), (2968, 0.0), (2971, 0.0), (2973, 0.0), (2979, 0.0), (2982, 0.0), (2983, 0.0), (2984, 0.0), (2990, 0.0), (2991, 0.0), (2994, 0.0), (3002, 0.0), (3006, 0.0), (3009, 0.0), (3011, 0.0), (3017, 0.0), (3021, 0.0), (3022, 0.0), (3025, 0.0), (3029, 0.0), (3033, 0.0), (3034, 0.0), (3038, 0.0), (3039, 0.0), (3041, 0.0), (3047, 0.0), (3048, 0.0), (3049, 0.0), (3054, 0.0), (3059, 0.0), (3060, 0.0), (3061, 0.0), (3068, 0.0), (3073, 0.0), (3078, 0.0), (3079, 0.0), (3080, 0.0), (3083, 0.0), (3085, 0.0), (3087, 0.0), (3088, 0.0), (3090, 0.0), (3098, 0.0), (3099, 0.0), (3100, 0.0), (3103, 0.0), (3104, 0.0), (3107, 0.0), (3109, 0.0), (3110, 0.0), (3114, 0.0), (3115, 0.0), (3118, 0.0), (3124, 0.0), (3127, 0.0), (3131, 0.0), (3132, 0.0), (3133, 0.0), (3134, 0.0), (3135, 0.0), (3136, 0.0), (3138, 0.0), (3144, 0.0), (3145, 0.0), (3149, 0.0), (3156, 0.0), (3160, 0.0), (3163, 0.0), (3164, 0.0), (3168, 0.0), (3169, 0.0), (3172, 0.0), (3176, 0.0), (3177, 0.0), (3180, 0.0), (3181, 0.0), (3185, 0.0), (3189, 0.0), (3190, 0.0), (3192, 0.0), (3193, 0.0), (3197, 0.0), (3201, 0.0), (3203, 0.0), (3204, 0.0), (3205, 0.0), (3207, 0.0), (3209, 0.0), (3212, 0.0), (3215, 0.0), (3217, 0.0), (3221, 0.0), (3222, 0.0), (3223, 0.0), (3229, 0.0), (3231, 0.0), (3245, 0.0), (3247, 0.0), (3250, 0.0), (3251, 0.0), (3253, 0.0), (3255, 0.0), (3256, 0.0), (3261, 0.0), (3263, 0.0), (3266, 0.0), (3277, 0.0), (3280, 0.0), (3281, 0.0), (3287, 0.0), (3288, 0.0), (3294, 0.0), (3295, 0.0), (3305, 0.0), (3309, 0.0), (3312, 0.0), (3319, 0.0), (3320, 0.0), (3321, 0.0), (3323, 0.0), (3324, 0.0), (3332, 0.0), (3333, 0.0), (3338, 0.0), (3339, 0.0), (3340, 0.0), (3343, 0.0), (3345, 0.0), (3350, 0.0), (3361, 0.0), (3366, 0.0), (3367, 0.0), (3375, 0.0), (3378, 0.0), (3383, 0.0), (3384, 0.0), (3395, 0.0), (3397, 0.0), (3400, 0.0), (3401, 0.0), (3411, 0.0), (3415, 0.0), (3420, 0.0), (3422, 0.0), (3424, 0.0), (3426, 0.0), (3427, 0.0), (3428, 0.0), (3429, 0.0), (3438, 0.0), (3439, 0.0), (3440, 0.0), (3442, 0.0), (3443, 0.0), (3444, 0.0), (3448, 0.0), (3451, 0.0), (3453, 0.0), (3457, 0.0), (3462, 0.0), (3465, 0.0), (3466, 0.0), (3467, 0.0), (3468, 0.0), (3469, 0.0), (3475, 0.0), (3476, 0.0), (3481, 0.0), (3482, 0.0), (3485, 0.0), (3486, 0.0), (3488, 0.0), (3489, 0.0), (3490, 0.0), (3494, 0.0), (3502, 0.0), (3505, 0.0), (3507, 0.0), (3508, 0.0), (3509, 0.0), (3510, 0.0), (3518, 0.0), (3519, 0.0), (3520, 0.0), (3528, 0.0), (3529, 0.0), (3531, 0.0), (3532, 0.0), (3535, 0.0), (3543, 0.0), (3545, 0.0), (3547, 0.0), (3549, 0.0), (3550, 0.0), (3555, 0.0), (3567, 0.0), (3568, 0.0), (3572, 0.0), (3573, 0.0), (3574, 0.0), (3576, 0.0), (3578, 0.0), (3581, 0.0), (3582, 0.0), (3584, 0.0), (3585, 0.0), (3586, 0.0), (3588, 0.0), (3591, 0.0), (3595, 0.0), (3597, 0.0), (3598, 0.0), (3600, 0.0), (3602, 0.0), (3605, 0.0), (3607, 0.0), (3610, 0.0), (3617, 0.0), (3619, 0.0), (3622, 0.0), (3625, 0.0), (3628, 0.0), (3630, 0.0), (3631, 0.0), (3633, 0.0), (3644, 0.0), (3648, 0.0), (3649, 0.0), (3650, 0.0), (3652, 0.0), (3658, 0.0), (3659, 0.0), (3662, 0.0), (3663, 0.0), (3664, 0.0), (3671, 0.0), (3674, 0.0), (3676, 0.0), (3679, 0.0), (3681, 0.0), (3682, 0.0), (3683, 0.0), (3684, 0.0), (3685, 0.0), (3688, 0.0), (3702, 0.0), (3703, 0.0), (3708, 0.0), (3710, 0.0), (3711, 0.0), (3712, 0.0), (3713, 0.0), (3715, 0.0), (3717, 0.0), (3718, 0.0), (3720, 0.0), (3721, 0.0), (3722, 0.0), (3724, 0.0), (3726, 0.0), (3731, 0.0), (3736, 0.0), (3740, 0.0), (3741, 0.0), (3744, 0.0), (3747, 0.0), (3748, 0.0), (3750, 0.0), (3758, 0.0), (3760, 0.0), (3761, 0.0), (3764, 0.0), (3768, 0.0), (3769, 0.0), (3773, 0.0), (3775, 0.0), (3788, 0.0), (3789, 0.0), (3791, 0.0), (3793, 0.0), (3794, 0.0), (3796, 0.0), (3800, 0.0), (3802, 0.0), (3810, 0.0), (3814, 0.0), (3815, 0.0), (3816, 0.0), (3817, 0.0), (3818, 0.0), (3820, 0.0), (3823, 0.0), (3824, 0.0), (3825, 0.0), (3831, 0.0), (3834, 0.0), (3836, 0.0), (3837, 0.0), (3838, 0.0), (3840, 0.0), (3842, 0.0), (3843, 0.0), (3844, 0.0), (3849, 0.0), (3851, 0.0), (3853, 0.0), (3858, 0.0), (3859, 0.0), (3860, 0.0), (3861, 0.0), (3864, 0.0), (3865, 0.0), (3871, 0.0), (3879, 0.0), (3881, 0.0), (3885, 0.0), (3887, 0.0), (3891, 0.0), (3896, 0.0), (3897, 0.0), (3905, 0.0), (3907, 0.0), (3908, 0.0), (3909, 0.0), (3914, 0.0), (3916, 0.0), (3918, 0.0), (3921, 0.0), (3923, 0.0), (3926, 0.0), (3929, 0.0), (3930, 0.0), (3931, 0.0), (3933, 0.0), (3936, 0.0), (3943, 0.0), (3944, 0.0), (3946, 0.0), (3947, 0.0), (3949, 0.0), (3950, 0.0), (3955, 0.0), (3958, 0.0), (3964, 0.0), (3966, 0.0), (3968, 0.0), (3969, 0.0), (3971, 0.0), (3972, 0.0), (3975, 0.0), (3976, 0.0), (3977, 0.0), (3981, 0.0), (3982, 0.0), (3985, 0.0), (3988, 0.0), (3989, 0.0), (3991, 0.0), (3993, 0.0), (3994, 0.0), (3995, 0.0), (3996, 0.0), (3998, 0.0), (4001, 0.0), (4003, 0.0), (4006, 0.0), (4007, 0.0), (4009, 0.0), (4010, 0.0), (4012, 0.0), (4021, 0.0), (4026, 0.0), (4027, 0.0), (4028, 0.0), (4029, 0.0), (4031, 0.0), (4035, 0.0), (4040, 0.0), (4041, 0.0), (4043, 0.0), (4044, 0.0), (4045, 0.0), (4047, 0.0), (4050, 0.0), (4058, 0.0), (4061, 0.0), (4064, 0.0), (4065, 0.0), (4067, 0.0), (4072, 0.0), (4073, 0.0), (4077, 0.0), (4078, 0.0), (4084, 0.0), (4086, 0.0), (4088, 0.0), (4090, 0.0), (4091, 0.0), (4093, 0.0), (4094, 0.0), (4103, 0.0), (4105, 0.0), (4106, 0.0), (4108, 0.0), (4110, 0.0), (4112, 0.0), (4114, 0.0), (4115, 0.0), (4118, 0.0), (4119, 0.0), (4120, 0.0), (4122, 0.0), (4127, 0.0), (4128, 0.0), (4131, 0.0), (4134, 0.0), (4144, 0.0), (4146, 0.0), (4150, 0.0), (4157, 0.0), (4162, 0.0), (4165, 0.0), (4166, 0.0), (4168, 0.0), (4170, 0.0), (4173, 0.0), (4179, 0.0), (4180, 0.0), (4181, 0.0), (4184, 0.0), (4185, 0.0), (4186, 0.0), (4190, 0.0), (4193, 0.0), (4195, 0.0), (4196, 0.0), (4198, 0.0), (4201, 0.0), (4204, 0.0), (4207, 0.0), (4208, 0.0), (4211, 0.0), (4212, 0.0), (4214, 0.0), (4215, 0.0), (4216, 0.0), (4217, 0.0), (4219, 0.0), (4223, 0.0), (4224, 0.0), (4227, 0.0), (4229, 0.0), (4233, 0.0), (4234, 0.0), (4235, 0.0), (4236, 0.0), (4238, 0.0), (4240, 0.0), (4248, 0.0), (4250, 0.0), (4251, 0.0), (4252, 0.0), (4253, 0.0), (4258, 0.0), (4260, 0.0), (4261, 0.0), (4264, 0.0), (4265, 0.0), (4271, 0.0), (4274, 0.0), (4275, 0.0), (4276, 0.0), (4278, 0.0), (4281, 0.0), (4285, 0.0), (4289, 0.0), (4290, 0.0), (4297, 0.0), (4300, 0.0), (4302, 0.0), (4303, 0.0), (4305, 0.0), (4307, 0.0), (4310, 0.0), (4313, 0.0), (4314, 0.0), (4315, 0.0), (4316, 0.0), (4317, 0.0), (4322, 0.0), (4325, 0.0), (4328, 0.0), (4329, 0.0), (4331, 0.0), (4332, 0.0), (4335, 0.0), (4337, 0.0), (4339, 0.0), (4341, 0.0), (4342, 0.0), (4347, 0.0), (4351, 0.0), (4352, 0.0), (4353, 0.0), (4358, 0.0), (4365, 0.0), (4366, 0.0), (4367, 0.0), (4370, 0.0), (4372, 0.0), (4375, 0.0), (4376, 0.0), (4377, 0.0), (4380, 0.0), (4383, 0.0), (4384, 0.0), (4388, 0.0), (4389, 0.0), (4392, 0.0), (4393, 0.0), (4404, 0.0), (4405, 0.0), (4406, 0.0), (4408, 0.0), (4410, 0.0), (4413, 0.0), (4414, 0.0), (4415, 0.0), (4417, 0.0), (4424, 0.0), (4425, 0.0), (4426, 0.0), (4433, 0.0), (4434, 0.0), (4436, 0.0), (4440, 0.0), (4441, 0.0), (4447, 0.0), (4449, 0.0), (4450, 0.0), (4451, 0.0), (4452, 0.0), (4453, 0.0), (4456, 0.0), (4457, 0.0), (4459, 0.0), (4460, 0.0), (4464, 0.0), (4466, 0.0), (4467, 0.0), (4468, 0.0), (4481, 0.0), (4485, 0.0), (4491, 0.0), (4492, 0.0), (4496, 0.0), (4498, 0.0), (4499, 0.0), (4500, 0.0), (4506, 0.0), (4508, 0.0), (4510, 0.0), (4512, 0.0), (4513, 0.0), (4514, 0.0), (4515, 0.0), (4519, 0.0), (4525, 0.0), (4526, 0.0), (4527, 0.0), (4532, 0.0), (4534, 0.0), (4537, 0.0), (4538, 0.0), (4539, 0.0), (4541, 0.0), (4543, 0.0), (4547, 0.0), (4548, 0.0), (4549, 0.0), (4553, 0.0), (4556, 0.0), (4557, 0.0), (4558, 0.0), (4559, 0.0), (4560, 0.0), (4561, 0.0), (4562, 0.0), (4565, 0.0), (4570, 0.0), (4578, 0.0), (4580, 0.0), (4582, 0.0), (4585, 0.0), (4587, 0.0), (4588, 0.0), (4595, 0.0), (4596, 0.0), (4600, 0.0), (4615, 0.0), (4618, 0.0), (4621, 0.0), (4622, 0.0), (4623, 0.0), (4630, 0.0), (4631, 0.0), (4639, 0.0), (4644, 0.0), (4645, 0.0), (4646, 0.0), (4647, 0.0), (4648, 0.0), (4651, 0.0), (4654, 0.0), (4655, 0.0), (4656, 0.0), (4659, 0.0), (4663, 0.0), (4664, 0.0), (4665, 0.0), (4666, 0.0), (4667, 0.0), (4671, 0.0), (4672, 0.0), (4675, 0.0), (4678, 0.0), (4681, 0.0), (4682, 0.0), (4683, 0.0), (4688, 0.0), (4689, 0.0), (4690, 0.0), (4691, 0.0), (4695, 0.0), (4697, 0.0), (4698, 0.0), (4700, 0.0), (4702, 0.0), (4707, 0.0), (4708, 0.0), (4711, 0.0), (4714, 0.0), (4716, 0.0), (4720, 0.0), (4725, 0.0), (4727, 0.0), (4728, 0.0), (4730, 0.0), (4736, 0.0), (4737, 0.0), (4740, 0.0), (4745, 0.0), (4746, 0.0), (4747, 0.0), (4750, 0.0), (4751, 0.0), (4755, 0.0), (4758, 0.0), (4759, 0.0)]\n"
          ]
        }
      ]
    },
    {
      "cell_type": "code",
      "source": [
        "# print the name of similar movies based on the index\n",
        "print('Top 30 Movies suggested for you : \\n')\n",
        "\n",
        "i = 1\n",
        "\n",
        "for movie in Sorted_Similar_Movies:\n",
        "  index = movie[0]\n",
        "  title_from_index = df[df.index==index]['Movie_Title'].values[0]\n",
        "  if (i<31):\n",
        "    print(i, '.',title_from_index)\n",
        "    i+=1"
      ],
      "metadata": {
        "colab": {
          "base_uri": "https://localhost:8080/"
        },
        "id": "0TLymHo-Hgk_",
        "outputId": "8e358055-6211-41b2-ed42-7b018d449429"
      },
      "execution_count": null,
      "outputs": [
        {
          "output_type": "stream",
          "name": "stdout",
          "text": [
            "Top 30 Movies suggested for you : \n",
            "\n",
            "1 . Pan's Labyrinth\n",
            "2 . Hellboy II: The Golden Army\n",
            "3 . Blade II\n",
            "4 . Hellboy\n",
            "5 . Maleficent\n",
            "6 . Dirty Pretty Things\n",
            "7 . Snow White: A Tale of Terror\n",
            "8 . The Hunted\n",
            "9 . Pacific Rim\n",
            "10 . Traffic\n",
            "11 . Shark Tale\n",
            "12 . The Wolfman\n",
            "13 . The Last Time I Committed Suicide\n",
            "14 . Good Will Hunting\n",
            "15 . The Way of the Gun\n",
            "16 . Treading Water\n",
            "17 . Y tu mamá también\n",
            "18 . Bad Grandpa\n",
            "19 . Crazy/Beautiful\n",
            "20 . The Work and The Story\n",
            "21 . Snatch\n",
            "22 . The Bourne Identity\n",
            "23 . The Bridge on the River Kwai\n",
            "24 . Sheena\n",
            "25 . The Rite\n",
            "26 . Rise of the Guardians\n",
            "27 . Sicario\n",
            "28 . Love in the Time of Monsters\n",
            "29 . Legion\n",
            "30 . Things We Lost in the Fire\n"
          ]
        }
      ]
    },
    {
      "cell_type": "markdown",
      "source": [
        "# Top 10 Movie Recommendation System"
      ],
      "metadata": {
        "id": "0-PgCEKsI4gU"
      }
    },
    {
      "cell_type": "code",
      "source": [
        "Movie_Name = input(' Enter your favourite movie name : ')\n",
        "\n",
        "list_of_all_titles = df['Movie_Title'].tolist()\n",
        "\n",
        "Find_Close_Match = difflib.get_close_matches(Movie_Name, list_of_all_titles)\n",
        "\n",
        "Close_Match = Find_Close_Match[0]\n",
        "\n",
        "Index_of_Movie = df[df.Movie_Title == Close_Match]['Movie_ID'].values[0]\n",
        "\n",
        "Recommendation_Score = list(enumerate(Similarity_Score[Index_of_Movie]))\n",
        "\n",
        "Sorted_Similar_Movies = sorted(Recommendation_Score, key = lambda x:x[1], reverse = True)\n",
        "\n",
        "print('Top 10 Movies suggested for you : \\n')\n",
        "\n",
        "i = 1\n",
        "\n",
        "for movie in Sorted_Similar_Movies:\n",
        "  index = movie[0]\n",
        "  title_from_index = df[df.Movie_ID==index]['Movie_Title'].values\n",
        "  if (i<11):\n",
        "    print(i, '.',title_from_index)\n",
        "    i+=1"
      ],
      "metadata": {
        "colab": {
          "base_uri": "https://localhost:8080/"
        },
        "id": "GryJEfsIHgrp",
        "outputId": "43bf18b6-1b9f-4c67-a869-225997841440"
      },
      "execution_count": null,
      "outputs": [
        {
          "output_type": "stream",
          "name": "stdout",
          "text": [
            " Enter your favourite movie name : harry potter\n",
            "Top 10 Movies suggested for you : \n",
            "\n",
            "1 . ['Party Monster']\n",
            "2 . ['Seed of Chucky']\n",
            "3 . ['Interview with the Assassin']\n",
            "4 . ['Superman Returns']\n",
            "5 . ['The Hunger Games: Catching Fire']\n",
            "6 . ['Good Night, and Good Luck.']\n",
            "7 . ['Home for the Holidays']\n",
            "8 . ['Veronica Guerin']\n",
            "9 . ['Iron Man 3']\n",
            "10 . ['Star Wars: Episode III - Revenge of the Sith']\n"
          ]
        }
      ]
    }
  ]
}